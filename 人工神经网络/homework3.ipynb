{
 "cells": [
  {
   "cell_type": "markdown",
   "id": "93628e5a",
   "metadata": {
    "toc": true
   },
   "source": [
    "<h1>Table of Contents<span class=\"tocSkip\"></span></h1>\n",
    "<div class=\"toc\"><ul class=\"toc-item\"><li><span><a href=\"#Import-libraries\" data-toc-modified-id=\"Import-libraries-1\"><span class=\"toc-item-num\">1&nbsp;&nbsp;</span>Import libraries</a></span></li><li><span><a href=\"#Data\" data-toc-modified-id=\"Data-2\"><span class=\"toc-item-num\">2&nbsp;&nbsp;</span>Data</a></span><ul class=\"toc-item\"><li><span><a href=\"#[10pts]-Import-datasets\" data-toc-modified-id=\"[10pts]-Import-datasets-2.1\"><span class=\"toc-item-num\">2.1&nbsp;&nbsp;</span>[10pts] Import datasets</a></span></li><li><span><a href=\"#[10pts]-One-hot-encoding\" data-toc-modified-id=\"[10pts]-One-hot-encoding-2.2\"><span class=\"toc-item-num\">2.2&nbsp;&nbsp;</span>[10pts] One-hot encoding</a></span></li></ul></li><li><span><a href=\"#Model\" data-toc-modified-id=\"Model-3\"><span class=\"toc-item-num\">3&nbsp;&nbsp;</span>Model</a></span><ul class=\"toc-item\"><li><span><a href=\"#[10pts]-Definition\" data-toc-modified-id=\"[10pts]-Definition-3.1\"><span class=\"toc-item-num\">3.1&nbsp;&nbsp;</span>[10pts] Definition</a></span></li><li><span><a href=\"#[10pts]-Compile\" data-toc-modified-id=\"[10pts]-Compile-3.2\"><span class=\"toc-item-num\">3.2&nbsp;&nbsp;</span>[10pts] Compile</a></span></li><li><span><a href=\"#[10pts]-Training\" data-toc-modified-id=\"[10pts]-Training-3.3\"><span class=\"toc-item-num\">3.3&nbsp;&nbsp;</span>[10pts] Training</a></span></li><li><span><a href=\"#[10pts]-Analysis\" data-toc-modified-id=\"[10pts]-Analysis-3.4\"><span class=\"toc-item-num\">3.4&nbsp;&nbsp;</span>[10pts] Analysis</a></span></li></ul></li><li><span><a href=\"#Repeat-training-with-different-hyperparameters\" data-toc-modified-id=\"Repeat-training-with-different-hyperparameters-4\"><span class=\"toc-item-num\">4&nbsp;&nbsp;</span>Repeat training with different hyperparameters</a></span><ul class=\"toc-item\"><li><span><a href=\"#[20pts]-New-model-1\" data-toc-modified-id=\"[20pts]-New-model-1-4.1\"><span class=\"toc-item-num\">4.1&nbsp;&nbsp;</span>[20pts] New model 1</a></span></li><li><span><a href=\"#[20pts]-New-model-2\" data-toc-modified-id=\"[20pts]-New-model-2-4.2\"><span class=\"toc-item-num\">4.2&nbsp;&nbsp;</span>[20pts] New model 2</a></span></li></ul></li></ul></div>"
   ]
  },
  {
   "cell_type": "markdown",
   "id": "f6c761aa",
   "metadata": {},
   "source": [
    "# Import libraries"
   ]
  },
  {
   "cell_type": "code",
   "execution_count": 75,
   "id": "c77a0d0d",
   "metadata": {},
   "outputs": [],
   "source": [
    "import tensorflow as tf\n",
    "import matplotlib.pyplot as plt"
   ]
  },
  {
   "cell_type": "markdown",
   "id": "a3ee274a",
   "metadata": {},
   "source": [
    "# Data"
   ]
  },
  {
   "cell_type": "markdown",
   "id": "e11eda35",
   "metadata": {},
   "source": [
    "## [10pts] Import datasets\n",
    "\n",
    "請前往 https://github.com/zalandoresearch/fashion-mnist 了解該 dataset 的詳情，然後下載 dataset。\n",
    "\n",
    "提示：使用 `tensorflow.keras.datasets.fashion_mnist.load_data` 下載更方便"
   ]
  },
  {
   "cell_type": "code",
   "execution_count": 24,
   "id": "6f36bc21",
   "metadata": {},
   "outputs": [],
   "source": [
    "datasets = tf.keras.datasets.fashion_mnist\n",
    "(train_in, train_target), (test_in, test_target) = datasets.load_data()"
   ]
  },
  {
   "cell_type": "markdown",
   "id": "367c4719",
   "metadata": {},
   "source": [
    "## [10pts] One-hot encoding\n",
    "\n",
    "把每筆數據的 label／target 部份轉化為 one-hot encoding\n",
    "\n",
    "提示：使用 `tensorflow.keras.utils.to_categorical`"
   ]
  },
  {
   "cell_type": "code",
   "execution_count": 44,
   "id": "72d8d911",
   "metadata": {
    "scrolled": false
   },
   "outputs": [
    {
     "name": "stdout",
     "output_type": "stream",
     "text": [
      "(60000, 28, 28)\n"
     ]
    }
   ],
   "source": [
    "train_label = tf.keras.utils.to_categorical(train_target, 10)\n",
    "test_label = tf.keras.utils.to_categorical(test_target, 10)"
   ]
  },
  {
   "cell_type": "markdown",
   "id": "ee0a3623",
   "metadata": {},
   "source": [
    "# Model"
   ]
  },
  {
   "cell_type": "markdown",
   "id": "c5d5e8f5",
   "metadata": {},
   "source": [
    "## [10pts] Definition\n",
    "\n",
    "定義一個 neural network model，具有以下 layers：\n",
    "1. Input layer\n",
    "2. Flatten layer\n",
    "3. 自選數目的 Dense layer (自選數目 neuron)\n",
    "4. 最後的 output layer（neuron數＝10， activation funciton ＝ softmax）"
   ]
  },
  {
   "cell_type": "code",
   "execution_count": 70,
   "id": "9f33c110",
   "metadata": {
    "scrolled": false
   },
   "outputs": [],
   "source": [
    "model = tf.keras.models.Sequential()\n",
    "model.add(tf.keras.layers.Flatten(input_shape = [28, 28]))\n",
    "model.add(tf.keras.layers.Dense(784, activation = \"sigmoid\"))\n",
    "model.add(tf.keras.layers.Dense(392, activation = \"sigmoid\"))\n",
    "model.add(tf.keras.layers.Dense(10, activation = \"softmax\"))"
   ]
  },
  {
   "cell_type": "markdown",
   "id": "424be26b",
   "metadata": {},
   "source": [
    "## [10pts] Compile\n",
    "\n",
    "使用以下設定來 compile 上面所定義的 neural network：\n",
    "1. loss function：`categorical_crossentropy`\n",
    "2. optimizer：自訂\n",
    "3. metrics：`accuracy`"
   ]
  },
  {
   "cell_type": "code",
   "execution_count": 71,
   "id": "d4ec0d7b",
   "metadata": {
    "scrolled": true
   },
   "outputs": [],
   "source": [
    "model.compile(\n",
    "    loss = \"categorical_crossentropy\",\n",
    "    optimizer = \"SGD\",\n",
    "    metrics = [\"accuracy\"]\n",
    ")"
   ]
  },
  {
   "cell_type": "markdown",
   "id": "c9ef281b",
   "metadata": {},
   "source": [
    "## [10pts] Training\n",
    "\n",
    "1. 使用 test set 數據來作為 validation data\n",
    "2. epoch 數：自訂 (>10)"
   ]
  },
  {
   "cell_type": "code",
   "execution_count": 72,
   "id": "c293b54e",
   "metadata": {
    "scrolled": false
   },
   "outputs": [
    {
     "name": "stdout",
     "output_type": "stream",
     "text": [
      "Epoch 1/16\n",
      "1875/1875 [==============================] - 5s 3ms/step - loss: 0.8638 - accuracy: 0.7447 - val_loss: 0.6163 - val_accuracy: 0.7759\n",
      "Epoch 2/16\n",
      "1875/1875 [==============================] - 5s 3ms/step - loss: 0.5492 - accuracy: 0.8110 - val_loss: 0.5471 - val_accuracy: 0.8092\n",
      "Epoch 3/16\n",
      "1875/1875 [==============================] - 5s 3ms/step - loss: 0.5137 - accuracy: 0.8231 - val_loss: 0.5394 - val_accuracy: 0.8138\n",
      "Epoch 4/16\n",
      "1875/1875 [==============================] - 5s 3ms/step - loss: 0.5048 - accuracy: 0.8246 - val_loss: 0.5331 - val_accuracy: 0.8154\n",
      "Epoch 5/16\n",
      "1875/1875 [==============================] - 5s 3ms/step - loss: 0.5046 - accuracy: 0.8242 - val_loss: 0.5343 - val_accuracy: 0.8093\n",
      "Epoch 6/16\n",
      "1875/1875 [==============================] - 5s 3ms/step - loss: 0.5002 - accuracy: 0.8236 - val_loss: 0.5375 - val_accuracy: 0.8012\n",
      "Epoch 7/16\n",
      "1875/1875 [==============================] - 5s 3ms/step - loss: 0.5015 - accuracy: 0.8237 - val_loss: 0.5185 - val_accuracy: 0.8202\n",
      "Epoch 8/16\n",
      "1875/1875 [==============================] - 5s 3ms/step - loss: 0.4974 - accuracy: 0.8269 - val_loss: 0.5257 - val_accuracy: 0.8090\n",
      "Epoch 9/16\n",
      "1875/1875 [==============================] - 5s 3ms/step - loss: 0.5011 - accuracy: 0.8261 - val_loss: 0.5257 - val_accuracy: 0.8081\n",
      "Epoch 10/16\n",
      "1875/1875 [==============================] - 5s 3ms/step - loss: 0.5079 - accuracy: 0.8209 - val_loss: 0.5463 - val_accuracy: 0.8094\n",
      "Epoch 11/16\n",
      "1875/1875 [==============================] - 5s 3ms/step - loss: 0.5065 - accuracy: 0.8196 - val_loss: 0.5622 - val_accuracy: 0.7998\n",
      "Epoch 12/16\n",
      "1875/1875 [==============================] - 5s 3ms/step - loss: 0.5126 - accuracy: 0.8192 - val_loss: 0.5337 - val_accuracy: 0.8116\n",
      "Epoch 13/16\n",
      "1875/1875 [==============================] - 5s 3ms/step - loss: 0.5167 - accuracy: 0.8169 - val_loss: 0.5506 - val_accuracy: 0.8040\n",
      "Epoch 14/16\n",
      "1875/1875 [==============================] - 5s 3ms/step - loss: 0.5164 - accuracy: 0.8178 - val_loss: 0.5619 - val_accuracy: 0.7998\n",
      "Epoch 15/16\n",
      "1875/1875 [==============================] - 5s 3ms/step - loss: 0.5150 - accuracy: 0.8179 - val_loss: 0.5524 - val_accuracy: 0.8038\n",
      "Epoch 16/16\n",
      "1875/1875 [==============================] - 5s 3ms/step - loss: 0.5233 - accuracy: 0.8144 - val_loss: 0.5769 - val_accuracy: 0.7923\n"
     ]
    }
   ],
   "source": [
    "hist = model.fit(\n",
    "    train_in,\n",
    "    train_label,\n",
    "    epochs = 16,\n",
    "    validation_data = (test_in, test_label)\n",
    ")"
   ]
  },
  {
   "cell_type": "markdown",
   "id": "f53590f2",
   "metadata": {},
   "source": [
    "## [10pts] Analysis\n",
    "\n",
    "請在下方使用變量 `hist` 中的 `history` 畫出：\n",
    "1. `loss` 對 epoch 關係\n",
    "2. `val_loss` 對 epoch 關係\n",
    "\n",
    "推薦使用 `matplotlib.pyplot.plot`，並加上 legend。"
   ]
  },
  {
   "cell_type": "code",
   "execution_count": 80,
   "id": "60fb81e3",
   "metadata": {},
   "outputs": [
    {
     "name": "stdout",
     "output_type": "stream",
     "text": [
      "{'loss': [0.8637648224830627, 0.5492225885391235, 0.5137448906898499, 0.5047746896743774, 0.5046436786651611, 0.5002263784408569, 0.5015246272087097, 0.4973772466182709, 0.5011442303657532, 0.5079343914985657, 0.5064905285835266, 0.512645959854126, 0.5166734457015991, 0.5164478421211243, 0.514951765537262, 0.5233105421066284], 'accuracy': [0.7446666955947876, 0.8110166788101196, 0.823116660118103, 0.8246166706085205, 0.8241833448410034, 0.8235999941825867, 0.8236666917800903, 0.8269333243370056, 0.8260666728019714, 0.8208666443824768, 0.8196499943733215, 0.8191999793052673, 0.8168666958808899, 0.817799985408783, 0.8179166913032532, 0.8143666386604309], 'val_loss': [0.616254985332489, 0.5471041798591614, 0.539424479007721, 0.5331473350524902, 0.53425133228302, 0.5374592542648315, 0.5184527635574341, 0.5256620049476624, 0.5256962776184082, 0.5462652444839478, 0.5622474551200867, 0.5337461829185486, 0.5506272315979004, 0.5618954300880432, 0.5523816347122192, 0.5768837928771973], 'val_accuracy': [0.7759000062942505, 0.8091999888420105, 0.8137999773025513, 0.8154000043869019, 0.8093000054359436, 0.8011999726295471, 0.8202000260353088, 0.8090000152587891, 0.8080999851226807, 0.8094000220298767, 0.7997999787330627, 0.8116000294685364, 0.8040000200271606, 0.7997999787330627, 0.8037999868392944, 0.7922999858856201]}\n"
     ]
    },
    {
     "data": {
      "text/plain": [
       "<matplotlib.legend.Legend at 0x15e93df1460>"
      ]
     },
     "execution_count": 80,
     "metadata": {},
     "output_type": "execute_result"
    },
    {
     "data": {
      "image/png": "[encoded data removed]",
      "text/plain": [
       "<Figure size 432x288 with 1 Axes>"
      ]
     },
     "metadata": {
      "needs_background": "light"
     },
     "output_type": "display_data"
    }
   ],
   "source": [
    "plt.figure()\n",
    "plt.plot(hist.history[\"loss\"], label = \"loss\")\n",
    "plt.plot(hist.history[\"val_loss\"], label = \"val_loss\")\n",
    "plt.legend()\n",
    "plt.show()"
   ]
  },
  {
   "cell_type": "markdown",
   "id": "090dd92b",
   "metadata": {},
   "source": [
    "# Repeat training with different hyperparameters\n",
    "\n",
    "在這部份請用不同的 hyperparameter (layer number, neuron number, optimizer, initialization, ...etc.) 重新定義兩個 neural network，然後再訓練 dataset。\n",
    "試指出所得到的 epoch-loss 關係圖和上一個 neural network 有什麼不一樣。"
   ]
  },
  {
   "cell_type": "markdown",
   "id": "8a8aee52",
   "metadata": {},
   "source": [
    "## [20pts] New model 1"
   ]
  },
  {
   "cell_type": "code",
   "execution_count": 81,
   "id": "44d74ad9",
   "metadata": {},
   "outputs": [
    {
     "name": "stdout",
     "output_type": "stream",
     "text": [
      "Epoch 1/16\n",
      "1875/1875 [==============================] - 2s 1ms/step - loss: 0.7387 - accuracy: 0.7476 - val_loss: 0.6318 - val_accuracy: 0.7773\n",
      "Epoch 2/16\n",
      "1875/1875 [==============================] - 2s 1ms/step - loss: 0.5979 - accuracy: 0.7879 - val_loss: 0.6044 - val_accuracy: 0.7790\n",
      "Epoch 3/16\n",
      "1875/1875 [==============================] - 2s 1ms/step - loss: 0.5774 - accuracy: 0.7975 - val_loss: 0.6084 - val_accuracy: 0.7844\n",
      "Epoch 4/16\n",
      "1875/1875 [==============================] - 2s 1ms/step - loss: 0.5731 - accuracy: 0.7965 - val_loss: 0.5983 - val_accuracy: 0.7863\n",
      "Epoch 5/16\n",
      "1875/1875 [==============================] - 2s 1ms/step - loss: 0.5657 - accuracy: 0.8000 - val_loss: 0.5885 - val_accuracy: 0.7925\n",
      "Epoch 6/16\n",
      "1875/1875 [==============================] - 2s 1ms/step - loss: 0.5589 - accuracy: 0.8031 - val_loss: 0.6026 - val_accuracy: 0.7752\n",
      "Epoch 7/16\n",
      "1875/1875 [==============================] - 2s 1ms/step - loss: 0.5623 - accuracy: 0.8022 - val_loss: 0.5751 - val_accuracy: 0.7936\n",
      "Epoch 8/16\n",
      "1875/1875 [==============================] - 2s 1ms/step - loss: 0.5641 - accuracy: 0.8023 - val_loss: 0.5838 - val_accuracy: 0.7969\n",
      "Epoch 9/16\n",
      "1875/1875 [==============================] - 2s 1ms/step - loss: 0.5614 - accuracy: 0.8036 - val_loss: 0.6108 - val_accuracy: 0.7758\n",
      "Epoch 10/16\n",
      "1875/1875 [==============================] - 2s 1ms/step - loss: 0.5645 - accuracy: 0.7986 - val_loss: 0.5757 - val_accuracy: 0.7939\n",
      "Epoch 11/16\n",
      "1875/1875 [==============================] - 2s 1ms/step - loss: 0.5566 - accuracy: 0.8034 - val_loss: 0.5931 - val_accuracy: 0.7820\n",
      "Epoch 12/16\n",
      "1875/1875 [==============================] - 2s 1ms/step - loss: 0.5631 - accuracy: 0.7988 - val_loss: 0.6097 - val_accuracy: 0.7834\n",
      "Epoch 13/16\n",
      "1875/1875 [==============================] - 2s 1ms/step - loss: 0.5643 - accuracy: 0.8021 - val_loss: 0.5845 - val_accuracy: 0.7968\n",
      "Epoch 14/16\n",
      "1875/1875 [==============================] - 2s 1ms/step - loss: 0.5507 - accuracy: 0.8050 - val_loss: 0.5798 - val_accuracy: 0.8016\n",
      "Epoch 15/16\n",
      "1875/1875 [==============================] - 2s 1ms/step - loss: 0.5443 - accuracy: 0.8092 - val_loss: 0.5790 - val_accuracy: 0.7904\n",
      "Epoch 16/16\n",
      "1875/1875 [==============================] - 2s 1ms/step - loss: 0.5529 - accuracy: 0.8063 - val_loss: 0.5898 - val_accuracy: 0.7737\n"
     ]
    },
    {
     "data": {
      "image/png": "[encoded data removed]",
      "text/plain": [
       "<Figure size 432x288 with 1 Axes>"
      ]
     },
     "metadata": {
      "needs_background": "light"
     },
     "output_type": "display_data"
    }
   ],
   "source": [
    "model = tf.keras.models.Sequential()\n",
    "model.add(tf.keras.layers.Flatten(input_shape = [28, 28]))\n",
    "model.add(tf.keras.layers.Dense(392, activation = \"sigmoid\"))\n",
    "model.add(tf.keras.layers.Dense(10, activation = \"softmax\"))\n",
    "\n",
    "model.compile(\n",
    "    loss = \"categorical_crossentropy\",\n",
    "    optimizer = \"SGD\",\n",
    "    metrics = [\"accuracy\"]\n",
    ")\n",
    "\n",
    "hist = model.fit(\n",
    "    train_in,\n",
    "    train_label,\n",
    "    epochs = 16,\n",
    "    validation_data = (test_in, test_label)\n",
    ")\n",
    "\n",
    "plt.figure()\n",
    "plt.plot(hist.history[\"loss\"], label = \"loss\")\n",
    "plt.plot(hist.history[\"val_loss\"], label = \"val_loss\")\n",
    "plt.legend()\n",
    "plt.show()"
   ]
  },
  {
   "cell_type": "markdown",
   "id": "1f0d7c66",
   "metadata": {},
   "source": [
    "loss下降，val_loss平稳，网络可能出现过拟合"
   ]
  },
  {
   "cell_type": "markdown",
   "id": "98f3bfbe",
   "metadata": {},
   "source": [
    "## [20pts] New model 2"
   ]
  },
  {
   "cell_type": "code",
   "execution_count": 82,
   "id": "aea204a2",
   "metadata": {},
   "outputs": [
    {
     "name": "stdout",
     "output_type": "stream",
     "text": [
      "Epoch 1/16\n",
      "1875/1875 [==============================] - 2s 1ms/step - loss: 293.4632 - accuracy: 0.1329 - val_loss: 2.2940 - val_accuracy: 0.1049\n",
      "Epoch 2/16\n",
      "1875/1875 [==============================] - 2s 998us/step - loss: 2.2970 - accuracy: 0.1089 - val_loss: 2.2822 - val_accuracy: 0.1093\n",
      "Epoch 3/16\n",
      "1875/1875 [==============================] - 2s 981us/step - loss: 2.2258 - accuracy: 0.1385 - val_loss: 2.1866 - val_accuracy: 0.1471\n",
      "Epoch 4/16\n",
      "1875/1875 [==============================] - 2s 986us/step - loss: 2.1714 - accuracy: 0.1578 - val_loss: 2.1467 - val_accuracy: 0.1626\n",
      "Epoch 5/16\n",
      "1875/1875 [==============================] - 2s 1ms/step - loss: 2.1785 - accuracy: 0.1547 - val_loss: 2.1908 - val_accuracy: 0.1470\n",
      "Epoch 6/16\n",
      "1875/1875 [==============================] - 2s 1ms/step - loss: 2.1701 - accuracy: 0.1628 - val_loss: 2.1588 - val_accuracy: 0.1551\n",
      "Epoch 7/16\n",
      "1875/1875 [==============================] - 2s 1ms/step - loss: 2.1722 - accuracy: 0.1605 - val_loss: 2.2405 - val_accuracy: 0.1522\n",
      "Epoch 8/16\n",
      "1875/1875 [==============================] - 2s 1ms/step - loss: 2.2614 - accuracy: 0.1291 - val_loss: 2.2866 - val_accuracy: 0.1099\n",
      "Epoch 9/16\n",
      "1875/1875 [==============================] - 2s 996us/step - loss: 2.2419 - accuracy: 0.1299 - val_loss: 2.1914 - val_accuracy: 0.1478\n",
      "Epoch 10/16\n",
      "1875/1875 [==============================] - 2s 981us/step - loss: 2.2273 - accuracy: 0.1362 - val_loss: 2.2296 - val_accuracy: 0.1304\n",
      "Epoch 11/16\n",
      "1875/1875 [==============================] - 2s 1ms/step - loss: 2.2034 - accuracy: 0.1461 - val_loss: 2.2256 - val_accuracy: 0.1427\n",
      "Epoch 12/16\n",
      "1875/1875 [==============================] - 2s 1ms/step - loss: 2.2157 - accuracy: 0.1373 - val_loss: 2.2559 - val_accuracy: 0.1268\n",
      "Epoch 13/16\n",
      "1875/1875 [==============================] - 2s 978us/step - loss: 2.2407 - accuracy: 0.1259 - val_loss: 2.2785 - val_accuracy: 0.1369\n",
      "Epoch 14/16\n",
      "1875/1875 [==============================] - 2s 976us/step - loss: 2.2568 - accuracy: 0.1215 - val_loss: 2.2558 - val_accuracy: 0.1247\n",
      "Epoch 15/16\n",
      "1875/1875 [==============================] - 2s 978us/step - loss: 2.2533 - accuracy: 0.1201 - val_loss: 2.2455 - val_accuracy: 0.1240\n",
      "Epoch 16/16\n",
      "1875/1875 [==============================] - 2s 977us/step - loss: 2.2483 - accuracy: 0.1270 - val_loss: 2.2375 - val_accuracy: 0.1269\n"
     ]
    },
    {
     "data": {
      "image/png": "[encoded data removed]",
      "text/plain": [
       "<Figure size 432x288 with 1 Axes>"
      ]
     },
     "metadata": {
      "needs_background": "light"
     },
     "output_type": "display_data"
    }
   ],
   "source": [
    "model = tf.keras.models.Sequential()\n",
    "model.add(tf.keras.layers.Flatten(input_shape = [28, 28]))\n",
    "model.add(tf.keras.layers.Dense(392, activation = \"relu\"))\n",
    "model.add(tf.keras.layers.Dense(10, activation = \"softmax\"))\n",
    "\n",
    "model.compile(\n",
    "    loss = \"categorical_crossentropy\",\n",
    "    optimizer = \"SGD\",\n",
    "    metrics = [\"accuracy\"]\n",
    ")\n",
    "\n",
    "hist = model.fit(\n",
    "    train_in,\n",
    "    train_label,\n",
    "    epochs = 16,\n",
    "    validation_data = (test_in, test_label)\n",
    ")\n",
    "\n",
    "plt.figure()\n",
    "plt.plot(hist.history[\"loss\"], label = \"loss\")\n",
    "plt.plot(hist.history[\"val_loss\"], label = \"val_loss\")\n",
    "plt.legend()\n",
    "plt.show()"
   ]
  },
  {
   "cell_type": "markdown",
   "id": "bc587da4",
   "metadata": {},
   "source": [
    "relu激活函数不适合该问题"
   ]
  }
 ],
 "metadata": {
  "kernelspec": {
   "display_name": "Python 3 (ipykernel)",
   "language": "python",
   "name": "python3"
  },
  "language_info": {
   "codemirror_mode": {
    "name": "ipython",
    "version": 3
   },
   "file_extension": ".py",
   "mimetype": "text/x-python",
   "name": "python",
   "nbconvert_exporter": "python",
   "pygments_lexer": "ipython3",
   "version": "3.9.0"
  },
  "toc": {
   "base_numbering": 1,
   "nav_menu": {},
   "number_sections": true,
   "sideBar": true,
   "skip_h1_title": false,
   "title_cell": "Table of Contents",
   "title_sidebar": "Contents",
   "toc_cell": true,
   "toc_position": {},
   "toc_section_display": true,
   "toc_window_display": false
  }
 },
 "nbformat": 4,
 "nbformat_minor": 5
}
