{
 "cells": [
  {
   "cell_type": "markdown",
   "id": "1ea8ee99",
   "metadata": {},
   "source": [
    "請完成以下兩題（section 4 和 5）"
   ]
  },
  {
   "cell_type": "markdown",
   "id": "e174a3c0",
   "metadata": {
    "toc": true
   },
   "source": [
    "<h1>Table of Contents<span class=\"tocSkip\"></span></h1>\n",
    "<div class=\"toc\"><ul class=\"toc-item\"><li><span><a href=\"#Summary\" data-toc-modified-id=\"Summary-1\"><span class=\"toc-item-num\">1&nbsp;&nbsp;</span>Summary</a></span></li><li><span><a href=\"#Random-data-for-training\" data-toc-modified-id=\"Random-data-for-training-2\"><span class=\"toc-item-num\">2&nbsp;&nbsp;</span>Random data for training</a></span></li><li><span><a href=\"#Batch-Gradient-Descent\" data-toc-modified-id=\"Batch-Gradient-Descent-3\"><span class=\"toc-item-num\">3&nbsp;&nbsp;</span>Batch Gradient Descent</a></span></li><li><span><a href=\"#Stochastic-GD\" data-toc-modified-id=\"Stochastic-GD-4\"><span class=\"toc-item-num\">4&nbsp;&nbsp;</span>Stochastic GD</a></span></li><li><span><a href=\"#Mini-batch-GD\" data-toc-modified-id=\"Mini-batch-GD-5\"><span class=\"toc-item-num\">5&nbsp;&nbsp;</span>Mini-batch GD</a></span></li></ul></div>"
   ]
  },
  {
   "cell_type": "markdown",
   "id": "74852774",
   "metadata": {},
   "source": [
    "# Summary \n",
    "\n",
    "The model is a linear model as followed:\n",
    "$$\n",
    "\\text{predicted} \\ y = f(x; w, b) = w x + b\n",
    "$$\n",
    "\n",
    "MSE loss function:\n",
    "$$\n",
    "\\text{Loss}(x, y; w, b) = \\frac{1}{2} (w x + b - y)^{2}\n",
    "$$\n",
    "\n",
    "TrainLoss (TotalLoss)\n",
    "$$\n",
    "\\text{TrainLoss}(w, b) = \\frac{1}{|\\mathcal{D}|} \\sum_{\\mathcal{D}} \\text{Loss}(x, y; w, b)\n",
    "$$\n",
    "\n",
    "Gradient Descent (learning rule):\n",
    "$$\n",
    "w \\to w - \\alpha \\ \\nabla_{w} \\text{TrainLoss}(w, b) \\\\\n",
    "b \\to b - \\alpha \\ \\nabla_{b} \\text{TrainLoss}(w, b)\n",
    "$$\n",
    "\n",
    "Gradient of trainLoss:\n",
    "$$\n",
    "\\nabla_{w} \\text{TrainLoss}(w, b) = \\frac{1}{|\\mathcal{D}|} \\sum_{\\mathcal{D}} (wx + b - y) x \\\\\n",
    "\\nabla_{b} \\text{TrainLoss}(w, b) = \\frac{1}{|\\mathcal{D}|} \\sum_{\\mathcal{D}} (wx + b - y)\n",
    "$$"
   ]
  },
  {
   "cell_type": "code",
   "execution_count": 1,
   "id": "f396b19d",
   "metadata": {},
   "outputs": [],
   "source": [
    "import numpy as np\n",
    "from matplotlib import pyplot as plt"
   ]
  },
  {
   "cell_type": "markdown",
   "id": "ae9b348b",
   "metadata": {},
   "source": [
    "# Random data for training\n",
    "\n",
    "In what follows we generate random data with *three* features"
   ]
  },
  {
   "cell_type": "code",
   "execution_count": 2,
   "id": "2f07bfba",
   "metadata": {},
   "outputs": [
    {
     "data": {
      "text/plain": [
       "<matplotlib.collections.PathCollection at 0x1d515fa9a60>"
      ]
     },
     "execution_count": 2,
     "metadata": {},
     "output_type": "execute_result"
    },
    {
     "data": {
      "image/png": "[encoded data removed]",
      "text/plain": [
       "<Figure size 432x288 with 1 Axes>"
      ]
     },
     "metadata": {
      "needs_background": "light"
     },
     "output_type": "display_data"
    }
   ],
   "source": [
    "n = 1000\n",
    "true_w = np.array([1, 2, 3])\n",
    "xx = np.random.rand(n, len(true_w))\n",
    "yy = xx.dot(true_w) + np.random.rand(len(xx))\n",
    "points = list(zip(xx, yy))\n",
    "plt.scatter(xx[:, 0], yy)"
   ]
  },
  {
   "cell_type": "markdown",
   "id": "c4287a9b",
   "metadata": {},
   "source": [
    "# Batch Gradient Descent"
   ]
  },
  {
   "cell_type": "code",
   "execution_count": 3,
   "id": "5247db8f",
   "metadata": {},
   "outputs": [
    {
     "name": "stdout",
     "output_type": "stream",
     "text": [
      "Iteration = 0: loss=array([6.62867935]), w=array([0.01846171, 0.01876494, 0.01946945]), b=array([0.03452232])\n",
      "Iteration = 1000: loss=array([0.1060304]), w=array([0.8310629 , 1.40878635, 2.01377716]), b=array([1.401759])\n",
      "Iteration = 2000: loss=array([0.06223394]), w=array([0.79304986, 1.64452617, 2.50506087]), b=array([1.04804969])\n",
      "Iteration = 3000: loss=array([0.04889434]), w=array([0.81319991, 1.78911389, 2.75508146]), b=array([0.83412638])\n",
      "Iteration = 4000: loss=array([0.04453562]), w=array([0.8436011 , 1.87696315, 2.88615639]), b=array([0.7051046])\n",
      "Iteration = 5000: loss=array([0.04304863]), w=array([0.86964373, 1.93002666, 2.95678162]), b=array([0.62744065])\n",
      "Iteration = 6000: loss=array([0.04252891]), w=array([0.88859111, 1.96196188, 2.99575692]), b=array([0.58075572])\n",
      "Iteration = 7000: loss=array([0.04234491]), w=array([0.90137224, 1.98113848, 3.01769857]), b=array([0.55272015])\n",
      "Iteration = 8000: loss=array([0.04227932]), w=array([0.90964066, 1.99263825, 3.03024928]), b=array([0.53589571])\n",
      "Iteration = 9000: loss=array([0.04225587]), w=array([0.91485566, 1.99952904, 3.03751748]), b=array([0.52580418])\n",
      "Iteration = 10000: loss=array([0.04224746]), w=array([0.91809178, 2.00365632, 3.04176595]), b=array([0.51975326])\n",
      "Wall time: 2min 22s\n"
     ]
    }
   ],
   "source": [
    "%%time\n",
    "\n",
    "def tl(w, b):\n",
    "    return sum([(w.dot(x) + b - y)**2 * 0.5 for x, y in points]) / len(points)\n",
    "\n",
    "def dtl_w(w, b):\n",
    "    return sum([(w.dot(x) + b - y) * x for x, y in points]) / len(points)\n",
    "\n",
    "def dtl_b(w, b):\n",
    "    return sum([(w.dot(x) + b - y) for x, y in points]) / len(points)\n",
    "\n",
    "# Initializing hyperparameters\n",
    "repeat = 10000\n",
    "w = np.zeros(3)\n",
    "b = np.zeros(1)\n",
    "alpha = 0.01\n",
    "\n",
    "# Learning loop\n",
    "for i in range(repeat+1):\n",
    "    loss = tl(w, b)\n",
    "    loss_gradient_w = dtl_w(w, b)\n",
    "    loss_gradient_b = dtl_b(w, b)\n",
    "    w += - alpha * loss_gradient_w\n",
    "    b += - alpha * loss_gradient_b\n",
    "    if i % 1000 == 0:\n",
    "        print(f'Iteration = {i}: {loss=}, {w=}, {b=}')"
   ]
  },
  {
   "cell_type": "markdown",
   "id": "ae5eb99a",
   "metadata": {},
   "source": [
    "# Stochastic GD\n",
    "\n",
    "【50分】請在下方 cell 把 Batch GD 方法改寫成 SGD"
   ]
  },
  {
   "cell_type": "code",
   "execution_count": 43,
   "id": "4ab2e35b",
   "metadata": {
    "scrolled": false
   },
   "outputs": [
    {
     "name": "stdout",
     "output_type": "stream",
     "text": [
      "Iteration = 0: loss=array([6.37570962]), weight=array([0.03242022, 0.0083795 , 0.02401246]), bias=array([0.03859178])\n",
      "Iteration = 1000: loss=array([0.12365193]), weight=array([0.8739237 , 1.32584716, 1.86857188]), bias=array([1.48194303])\n",
      "Iteration = 2000: loss=array([0.07107325]), weight=array([0.81112317, 1.54429271, 2.40051953]), bias=array([1.14164824])\n",
      "Iteration = 3000: loss=array([0.05412417]), weight=array([0.78049098, 1.70591653, 2.65880109]), bias=array([0.94013958])\n",
      "Iteration = 4000: loss=array([0.04743767]), weight=array([0.8002795 , 1.79173673, 2.82266566]), bias=array([0.80584668])\n",
      "Iteration = 5000: loss=array([0.04431661]), weight=array([0.83224112, 1.87854352, 2.90869606]), bias=array([0.69965085])\n",
      "Iteration = 6000: loss=array([0.04334219]), weight=array([0.84620447, 1.92121062, 2.94557859]), bias=array([0.64524382])\n",
      "Iteration = 6637: loss=array([0.04299537]), weight=array([0.86665351, 1.93186614, 2.96548795]), bias=array([0.62544366])\n",
      "Wall time: 33.2 s\n"
     ]
    },
    {
     "data": {
      "text/plain": [
       "(array([0.86665351, 1.93186614, 2.96548795]), array([0.62544366]))"
      ]
     },
     "execution_count": 43,
     "metadata": {},
     "output_type": "execute_result"
    }
   ],
   "source": [
    "%%time\n",
    "\n",
    "import random\n",
    "\n",
    "def SGDTrain(datasets, learningRate, minLoss, maxTimes):\n",
    "    weight = np.zeros(3)\n",
    "    bias = np.zeros(1)\n",
    "    loss = tl(weight, bias)\n",
    "    for times in range(maxTimes):\n",
    "        x, y = datasets[random.randint(0, len(datasets) - 1)]\n",
    "        loss_gradient_w = ((weight.dot(x) + bias - y) * x)\n",
    "        loss_gradient_b = (weight.dot(x) + bias - y)\n",
    "        weightTemp = weight - loss_gradient_w * learningRate\n",
    "        biasTemp = bias - loss_gradient_b * learningRate\n",
    "        lossTemp = tl(weightTemp, biasTemp)\n",
    "        if lossTemp <= minLoss:  # 损失足够小时跳出\n",
    "            weight = weightTemp\n",
    "            bias = biasTemp\n",
    "            loss = lossTemp\n",
    "            print(f'Iteration = {times}: {loss=}, {weight=}, {bias=}')\n",
    "            break\n",
    "        elif loss > lossTemp:  # 更新权重、偏置、当前最小损失\n",
    "            weight = weightTemp\n",
    "            bias = biasTemp\n",
    "            loss = lossTemp\n",
    "        if times % 1000 == 0:\n",
    "            print(f'Iteration = {times}: {loss=}, {weight=}, {bias=}')\n",
    "    return weight, bias\n",
    "\n",
    "SGDTrain(points, learningRate=0.01, minLoss=0.043, maxTimes=10000)"
   ]
  },
  {
   "cell_type": "markdown",
   "id": "17a257b1",
   "metadata": {},
   "source": [
    "# Mini-batch GD\n",
    "\n",
    "【50分】請在下方 cell 把 Batch GD 方法改寫成 Mini-batch GD（把原數據集 `points` 分成10個 mini-Batch）"
   ]
  },
  {
   "cell_type": "code",
   "execution_count": 50,
   "id": "07b845fc",
   "metadata": {
    "scrolled": false
   },
   "outputs": [
    {
     "name": "stdout",
     "output_type": "stream",
     "text": [
      "Iteration = 0: loss=array([0.41355723]), weight=array([0.84804033, 0.89986848, 0.98015753]), bias=array([1.58817966])\n",
      "Iteration = 10: loss=array([0.10046053]), weight=array([0.82205668, 1.42995215, 2.06508406]), bias=array([1.37027779])\n",
      "Iteration = 20: loss=array([0.06137259]), weight=array([0.78935815, 1.65314125, 2.51683873]), bias=array([1.0373006])\n",
      "Iteration = 30: loss=array([0.04910334]), weight=array([0.80196047, 1.78663679, 2.75233059]), bias=array([0.84006903])\n",
      "Iteration = 40: loss=array([0.04488081]), weight=array([0.8264184 , 1.8687655 , 2.87869727]), bias=array([0.72043523])\n",
      "Iteration = 50: loss=array([0.04324487]), weight=array([0.85433474, 1.91773861, 2.95448463]), bias=array([0.64125477])\n",
      "Iteration = 53: loss=array([0.04299952]), weight=array([0.86220384, 1.92942473, 2.96886455]), bias=array([0.62509463])\n",
      "Wall time: 27.7 s\n"
     ]
    },
    {
     "data": {
      "text/plain": [
       "(array([0.86220384, 1.92942473, 2.96886455]), array([0.62509463]))"
      ]
     },
     "execution_count": 50,
     "metadata": {},
     "output_type": "execute_result"
    }
   ],
   "source": [
    "%%time\n",
    "\n",
    "def MBGDdtl_w(w, b, batch):\n",
    "    return sum([(w.dot(x) + b - y) * x for x, y in batch]) / len(batch)\n",
    "\n",
    "def MBGDdtl_b(w, b, batch):\n",
    "    return sum([(w.dot(x) + b - y) for x, y in batch]) / len(batch)\n",
    "\n",
    "def MBGDTrain(datasets, learningRate, minLoss, maxTimes, batchSize):\n",
    "    weight = np.zeros(3)\n",
    "    bias = np.zeros(1)\n",
    "    loss = tl(weight, bias)\n",
    "    for times in range(maxTimes):\n",
    "        for eachBatch in range(int(len(points) / batchSize)):\n",
    "            startIndex = eachBatch * batchSize\n",
    "            endIndex = startIndex + batchSize\n",
    "            batch = datasets[startIndex:endIndex]\n",
    "            loss_gradient_w = MBGDdtl_w(weight, bias, batch)\n",
    "            loss_gradient_b = MBGDdtl_b(weight, bias, batch)\n",
    "            weightTemp = weight - loss_gradient_w * learningRate\n",
    "            biasTemp = bias - loss_gradient_b * learningRate\n",
    "            lossTemp = tl(weightTemp, biasTemp)\n",
    "            if lossTemp <= minLoss:  # 损失足够小时跳出\n",
    "                weight = weightTemp\n",
    "                bias = biasTemp\n",
    "                loss = lossTemp\n",
    "                print(f'Iteration = {times}: {loss=}, {weight=}, {bias=}')\n",
    "                return weight, bias\n",
    "            elif loss > lossTemp:  # 更新权重、偏置、当前最小损失\n",
    "                weight = weightTemp\n",
    "                bias = biasTemp\n",
    "                loss = lossTemp\n",
    "        if times % 10 == 0:\n",
    "            print(f'Iteration = {times}: {loss=}, {weight=}, {bias=}')\n",
    "    return weight, bias\n",
    "\n",
    "MBGDTrain(points, learningRate=0.01, minLoss=0.043, maxTimes=10000, batchSize=10)"
   ]
  },
  {
   "cell_type": "code",
   "execution_count": null,
   "id": "56488658",
   "metadata": {},
   "outputs": [],
   "source": []
  }
 ],
 "metadata": {
  "kernelspec": {
   "display_name": "Python 3",
   "language": "python",
   "name": "python3"
  },
  "language_info": {
   "codemirror_mode": {
    "name": "ipython",
    "version": 3
   },
   "file_extension": ".py",
   "mimetype": "text/x-python",
   "name": "python",
   "nbconvert_exporter": "python",
   "pygments_lexer": "ipython3",
   "version": "3.8.8"
  },
  "toc": {
   "base_numbering": 1,
   "nav_menu": {},
   "number_sections": true,
   "sideBar": true,
   "skip_h1_title": false,
   "title_cell": "Table of Contents",
   "title_sidebar": "Contents",
   "toc_cell": true,
   "toc_position": {},
   "toc_section_display": true,
   "toc_window_display": false
  }
 },
 "nbformat": 4,
 "nbformat_minor": 5
}
