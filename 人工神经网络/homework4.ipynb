{
 "cells": [
  {
   "cell_type": "markdown",
   "id": "a41d0250",
   "metadata": {
    "toc": true
   },
   "source": [
    "<h1>Table of Contents<span class=\"tocSkip\"></span></h1>\n",
    "<div class=\"toc\"><ul class=\"toc-item\"><li><span><a href=\"#Data\" data-toc-modified-id=\"Data-1\"><span class=\"toc-item-num\">1&nbsp;&nbsp;</span>Data</a></span></li><li><span><a href=\"#Model:-Mini-VGGNet\" data-toc-modified-id=\"Model:-Mini-VGGNet-2\"><span class=\"toc-item-num\">2&nbsp;&nbsp;</span>Model: Mini-VGGNet</a></span></li><li><span><a href=\"#Implementing-the-model\" data-toc-modified-id=\"Implementing-the-model-3\"><span class=\"toc-item-num\">3&nbsp;&nbsp;</span>Implementing the model</a></span></li><li><span><a href=\"#Evaluate\" data-toc-modified-id=\"Evaluate-4\"><span class=\"toc-item-num\">4&nbsp;&nbsp;</span>Evaluate</a></span></li></ul></div>"
   ]
  },
  {
   "cell_type": "code",
   "execution_count": 2,
   "id": "d68c14ca",
   "metadata": {},
   "outputs": [],
   "source": [
    "from tensorflow.keras.datasets import fashion_mnist"
   ]
  },
  {
   "cell_type": "markdown",
   "id": "f43d4cde",
   "metadata": {},
   "source": [
    "# Data\n",
    "\n",
    "Fashion MNIST:\n",
    "* 60,000 training examples\n",
    "* 10,000 testing examples\n",
    "* 10 classes\n",
    "* 28×28 grayscale images\n",
    "\n",
    "Problems of digit MNIST:\n",
    "1. It’s far too easy for standard machine learning algorithms to obtain 97%+ accuracy.\n",
    "1. It’s even easier for deep learning models to achieve 99%+ accuracy.\n",
    "1. The dataset is overused.\n",
    "1. MNIST cannot represent modern computer vision tasks."
   ]
  },
  {
   "cell_type": "markdown",
   "id": "e47a47f6",
   "metadata": {},
   "source": [
    "# Model: Mini-VGGNet\n",
    "\n",
    "* The model is inspired by its bigger brother, VGGNet\n",
    "* The model has VGGNet characteristics, including:\n",
    "    * Only using 3×3 CONV filters\n",
    "    * Stacking multiple CONV layers before applying a max-pooling operation"
   ]
  },
  {
   "cell_type": "code",
   "execution_count": 3,
   "id": "7ff019b2",
   "metadata": {},
   "outputs": [],
   "source": [
    "from tensorflow.keras.models import Sequential\n",
    "from tensorflow.keras.layers import BatchNormalization, Conv2D, MaxPooling2D, Activation, Flatten, Dropout, Dense\n",
    "from tensorflow.keras import backend as K"
   ]
  },
  {
   "cell_type": "code",
   "execution_count": 4,
   "id": "c8d1054a",
   "metadata": {},
   "outputs": [],
   "source": [
    "class MiniVGGNet:\n",
    "    \n",
    "    @staticmethod\n",
    "    def build(width, height, depth, classes):\n",
    "        # The depth is the channel number\n",
    "        model = Sequential()\n",
    "        input_shape = (height, width, depth)\n",
    "        channel_dim = -1  # where the channel DOF is, it assumes \"channels_last\"\n",
    "        \n",
    "        # make the code compatible with \"channels_first\" convention\n",
    "        if K.image_data_format() == 'channels_first':\n",
    "            input_shape = (depth, height, width)\n",
    "            channel_dim = 1\n",
    "            \n",
    "        # First set of layers: CONV > RELU > BN > CONV > RELU > BN > POOL\n",
    "        model.add(Conv2D(32, (3, 3), padding='same', input_shape=input_shape))\n",
    "        model.add(Activation('relu'))\n",
    "        model.add(BatchNormalization(axis=channel_dim))\n",
    "        model.add(Conv2D(32, (3, 3), padding='same'))\n",
    "        model.add(Activation('relu'))\n",
    "        model.add(BatchNormalization(axis=channel_dim))\n",
    "        model.add(MaxPooling2D(pool_size=(2, 2)))\n",
    "        model.add(Dropout(0.25))\n",
    "        \n",
    "        # Second set of layers: CONV > RELU > BN > CONV > RELU > BN > POOL\n",
    "        model.add(Conv2D(64, (3, 3), padding='same'))\n",
    "        model.add(Activation('relu'))\n",
    "        model.add(BatchNormalization(axis=channel_dim))\n",
    "        model.add(Conv2D(64, (3, 3), padding='same'))\n",
    "        model.add(Activation('relu'))\n",
    "        model.add(BatchNormalization(axis=channel_dim))\n",
    "        model.add(MaxPooling2D(pool_size=(2, 2)))\n",
    "        model.add(Dropout(0.25))\n",
    "        \n",
    "        # Set of layers: FC > RELU\n",
    "        model.add(Flatten())\n",
    "        model.add(Dense(512))\n",
    "        model.add(Activation('relu'))\n",
    "        model.add(BatchNormalization())\n",
    "        model.add(Dropout(0.5))\n",
    "        \n",
    "        # Output classifier: SOFTMAX\n",
    "        model.add(Dense(classes))\n",
    "        model.add(Activation('softmax'))\n",
    "        \n",
    "        return model"
   ]
  },
  {
   "cell_type": "markdown",
   "id": "fac52061",
   "metadata": {},
   "source": [
    "# Implementing the model"
   ]
  },
  {
   "cell_type": "code",
   "execution_count": 5,
   "id": "483db9d1",
   "metadata": {},
   "outputs": [],
   "source": [
    "from matplotlib import pyplot as plt\n",
    "from sklearn.metrics import classification_report\n",
    "from tensorflow.keras.optimizers import SGD\n",
    "from tensorflow.keras.utils import to_categorical\n",
    "from imutils import build_montages\n",
    "\n",
    "import numpy as np\n",
    "import cv2 as cv"
   ]
  },
  {
   "cell_type": "code",
   "execution_count": 6,
   "id": "0904a906",
   "metadata": {},
   "outputs": [
    {
     "name": "stdout",
     "output_type": "stream",
     "text": [
      "(60000, 28, 28)\n",
      "(60000,)\n",
      "(10000, 28, 28)\n",
      "(10000,)\n"
     ]
    }
   ],
   "source": [
    "epochs = 5\n",
    "learning_rate = 0.01\n",
    "batch_size = 32\n",
    "\n",
    "(X_train, Y_train), (X_test, Y_test) = fashion_mnist.load_data()\n",
    "\n",
    "for each in [X_train, Y_train, X_test, Y_test]:\n",
    "    print(each.shape)"
   ]
  },
  {
   "cell_type": "code",
   "execution_count": 7,
   "id": "dafdde31",
   "metadata": {},
   "outputs": [],
   "source": [
    "if K.image_data_format() == 'channels_first':\n",
    "    X_train = X_train.reshape(-1, 1, 28, 28)\n",
    "    X_test = X_test.reshape(-1, 1, 28, 28)\n",
    "else:\n",
    "    X_train = X_train.reshape(-1, 28, 28, 1)\n",
    "    X_test = X_test.reshape(-1, 28, 28, 1)"
   ]
  },
  {
   "cell_type": "code",
   "execution_count": 8,
   "id": "8a6238ae",
   "metadata": {},
   "outputs": [],
   "source": [
    "X_train = X_train.astype('float32')/255.0\n",
    "X_test = X_test.astype('float32')/255.0\n",
    "\n",
    "Y_train = to_categorical(Y_train, 10)\n",
    "Y_test = to_categorical(Y_test, 10)"
   ]
  },
  {
   "cell_type": "code",
   "execution_count": 9,
   "id": "b67658a3",
   "metadata": {},
   "outputs": [],
   "source": [
    "label_names = [\"top\", \"trouser\", \"pullover\", \"dress\", \"coat\", \"sandal\", \"shirt\", \"sneaker\", \"bag\", \"ankle boot\"]"
   ]
  },
  {
   "cell_type": "code",
   "execution_count": 10,
   "id": "b43788d1",
   "metadata": {},
   "outputs": [
    {
     "name": "stdout",
     "output_type": "stream",
     "text": [
      "Epoch 1/5\n"
     ]
    },
    {
     "name": "stderr",
     "output_type": "stream",
     "text": [
      "D:\\Working\\Anaconda\\envs\\basicEnv\\lib\\site-packages\\keras\\optimizer_v2\\gradient_descent.py:102: UserWarning: The `lr` argument is deprecated, use `learning_rate` instead.\n",
      "  super(SGD, self).__init__(name, **kwargs)\n"
     ]
    },
    {
     "name": "stdout",
     "output_type": "stream",
     "text": [
      "1875/1875 [==============================] - 84s 44ms/step - loss: 0.5165 - accuracy: 0.8231 - val_loss: 0.3366 - val_accuracy: 0.8774\n",
      "Epoch 2/5\n",
      "1875/1875 [==============================] - 83s 44ms/step - loss: 0.3444 - accuracy: 0.8773 - val_loss: 0.2926 - val_accuracy: 0.8910\n",
      "Epoch 3/5\n",
      "1875/1875 [==============================] - 88s 47ms/step - loss: 0.3122 - accuracy: 0.8874 - val_loss: 0.2738 - val_accuracy: 0.8996\n",
      "Epoch 4/5\n",
      "1875/1875 [==============================] - 82s 44ms/step - loss: 0.2964 - accuracy: 0.8934 - val_loss: 0.2621 - val_accuracy: 0.9042\n",
      "Epoch 5/5\n",
      "1875/1875 [==============================] - 81s 43ms/step - loss: 0.2842 - accuracy: 0.8979 - val_loss: 0.2548 - val_accuracy: 0.9065\n"
     ]
    }
   ],
   "source": [
    "# Compile\n",
    "optimizer = SGD(lr=learning_rate, momentum=0.9, decay=(learning_rate/epochs))\n",
    "model = MiniVGGNet.build(width=28, height=28, depth=1, classes=10)\n",
    "model.compile(\n",
    "    loss='categorical_crossentropy',\n",
    "    optimizer=optimizer,\n",
    "    metrics=['accuracy']\n",
    ")\n",
    "\n",
    "# Train\n",
    "hist = model.fit(\n",
    "    x=X_train, y=Y_train,\n",
    "    validation_data=(X_test, Y_test),\n",
    "    batch_size=batch_size,\n",
    "    epochs=epochs\n",
    ")"
   ]
  },
  {
   "cell_type": "markdown",
   "id": "ae7a7eda",
   "metadata": {},
   "source": [
    "# Evaluate"
   ]
  },
  {
   "cell_type": "code",
   "execution_count": 11,
   "id": "60dc6cbc",
   "metadata": {},
   "outputs": [],
   "source": [
    "Y_pred = model.predict(X_test)"
   ]
  },
  {
   "cell_type": "code",
   "execution_count": 12,
   "id": "3b108209",
   "metadata": {},
   "outputs": [
    {
     "name": "stdout",
     "output_type": "stream",
     "text": [
      "              precision    recall  f1-score   support\n",
      "\n",
      "         top       0.87      0.82      0.85      1000\n",
      "     trouser       0.99      0.97      0.98      1000\n",
      "    pullover       0.86      0.87      0.86      1000\n",
      "       dress       0.88      0.92      0.90      1000\n",
      "        coat       0.87      0.83      0.85      1000\n",
      "      sandal       0.99      0.97      0.98      1000\n",
      "       shirt       0.71      0.74      0.73      1000\n",
      "     sneaker       0.94      0.98      0.96      1000\n",
      "         bag       0.98      0.98      0.98      1000\n",
      "  ankle boot       0.98      0.95      0.97      1000\n",
      "\n",
      "    accuracy                           0.91     10000\n",
      "   macro avg       0.91      0.91      0.91     10000\n",
      "weighted avg       0.91      0.91      0.91     10000\n",
      "\n"
     ]
    }
   ],
   "source": [
    "print(classification_report(Y_test.argmax(axis=1), Y_pred.argmax(axis=1), target_names=label_names))"
   ]
  },
  {
   "cell_type": "code",
   "execution_count": 13,
   "id": "ff2caab5",
   "metadata": {},
   "outputs": [
    {
     "data": {
      "text/plain": [
       "Text(0, 0.5, 'Loss')"
      ]
     },
     "execution_count": 13,
     "metadata": {},
     "output_type": "execute_result"
    },
    {
     "data": {
      "image/png": "[encoded data removed]",
      "text/plain": [
       "<Figure size 432x288 with 1 Axes>"
      ]
     },
     "metadata": {
      "needs_background": "light"
     },
     "output_type": "display_data"
    }
   ],
   "source": [
    "plt.plot(hist.history['loss'], label='Train Loss')\n",
    "plt.plot(hist.history['val_loss'], label='Validation Loss')\n",
    "plt.legend()\n",
    "plt.xlabel('Epochs')\n",
    "plt.ylabel('Loss')"
   ]
  },
  {
   "cell_type": "code",
   "execution_count": 14,
   "id": "30c77f56",
   "metadata": {},
   "outputs": [
    {
     "data": {
      "text/plain": [
       "Text(0, 0.5, 'Accuracy')"
      ]
     },
     "execution_count": 14,
     "metadata": {},
     "output_type": "execute_result"
    },
    {
     "data": {
      "image/png": "[encoded data removed]",
      "text/plain": [
       "<Figure size 432x288 with 1 Axes>"
      ]
     },
     "metadata": {
      "needs_background": "light"
     },
     "output_type": "display_data"
    }
   ],
   "source": [
    "plt.plot(hist.history['accuracy'], label='Accuracy')\n",
    "plt.plot(hist.history['val_accuracy'], label='Validation Accuracy')\n",
    "plt.legend()\n",
    "plt.xlabel('Epochs')\n",
    "plt.ylabel('Accuracy')"
   ]
  },
  {
   "cell_type": "code",
   "execution_count": 15,
   "id": "0d25e0dd",
   "metadata": {},
   "outputs": [
    {
     "name": "stdout",
     "output_type": "stream",
     "text": [
      "True = sneaker; Predicted = sneaker\n"
     ]
    },
    {
     "data": {
      "image/png": "[encoded data removed]",
      "text/plain": [
       "<Figure size 432x288 with 1 Axes>"
      ]
     },
     "metadata": {
      "needs_background": "light"
     },
     "output_type": "display_data"
    }
   ],
   "source": [
    "idx = np.random.randint(len(X_test))\n",
    "\n",
    "true_name = label_names[Y_test[idx].argmax()]\n",
    "pred_name = label_names[Y_pred[idx].argmax()]\n",
    "\n",
    "plt.imshow(X_test[idx].reshape(28, 28))\n",
    "print(f'True = {true_name}; Predicted = {pred_name}')"
   ]
  },
  {
   "cell_type": "code",
   "execution_count": 16,
   "id": "0db18002",
   "metadata": {},
   "outputs": [],
   "source": [
    "true_name = label_names[Y_test[idx].argmax()]\n",
    "pred_name = label_names[Y_pred[idx].argmax()]"
   ]
  },
  {
   "cell_type": "code",
   "execution_count": 17,
   "id": "f165aba1",
   "metadata": {},
   "outputs": [],
   "source": [
    "class MiniVGGNetSig:\n",
    "    \n",
    "    @staticmethod\n",
    "    def build(width, height, depth, classes):\n",
    "        # The depth is the channel number\n",
    "        model = Sequential()\n",
    "        input_shape = (height, width, depth)\n",
    "        channel_dim = -1  # where the channel DOF is, it assumes \"channels_last\"\n",
    "        \n",
    "        # make the code compatible with \"channels_first\" convention\n",
    "        if K.image_data_format() == 'channels_first':\n",
    "            input_shape = (depth, height, width)\n",
    "            channel_dim = 1\n",
    "            \n",
    "        # First set of layers: CONV > RELU > BN > CONV > RELU > BN > POOL\n",
    "        model.add(Conv2D(32, (3, 3), padding='same', input_shape=input_shape))\n",
    "        model.add(Activation('relu'))\n",
    "        model.add(BatchNormalization(axis=channel_dim))\n",
    "        model.add(Conv2D(32, (3, 3), padding='same'))\n",
    "        model.add(Activation('relu'))\n",
    "        model.add(BatchNormalization(axis=channel_dim))\n",
    "        model.add(MaxPooling2D(pool_size=(2, 2)))\n",
    "        model.add(Dropout(0.25))\n",
    "        \n",
    "        # Second set of layers: CONV > RELU > BN > CONV > RELU > BN > POOL\n",
    "        model.add(Conv2D(64, (3, 3), padding='same'))\n",
    "        model.add(Activation('relu'))\n",
    "        model.add(BatchNormalization(axis=channel_dim))\n",
    "        model.add(Conv2D(64, (3, 3), padding='same'))\n",
    "        model.add(Activation('relu'))\n",
    "        model.add(BatchNormalization(axis=channel_dim))\n",
    "        model.add(MaxPooling2D(pool_size=(2, 2)))\n",
    "        model.add(Dropout(0.25))\n",
    "        \n",
    "        # Set of layers: FC > RELU\n",
    "        model.add(Flatten())\n",
    "        model.add(Dense(512))\n",
    "        model.add(Activation('sigmoid'))\n",
    "        model.add(BatchNormalization())\n",
    "        model.add(Dropout(0.5))\n",
    "        \n",
    "        # Output classifier: SOFTMAX\n",
    "        model.add(Dense(classes))\n",
    "        model.add(Activation('softmax'))\n",
    "        \n",
    "        return model"
   ]
  },
  {
   "cell_type": "code",
   "execution_count": 18,
   "id": "5655757a",
   "metadata": {},
   "outputs": [
    {
     "name": "stdout",
     "output_type": "stream",
     "text": [
      "Epoch 1/5\n"
     ]
    },
    {
     "name": "stderr",
     "output_type": "stream",
     "text": [
      "D:\\Working\\Anaconda\\envs\\basicEnv\\lib\\site-packages\\keras\\optimizer_v2\\gradient_descent.py:102: UserWarning: The `lr` argument is deprecated, use `learning_rate` instead.\n",
      "  super(SGD, self).__init__(name, **kwargs)\n"
     ]
    },
    {
     "name": "stdout",
     "output_type": "stream",
     "text": [
      "1875/1875 [==============================] - 84s 44ms/step - loss: 0.4985 - accuracy: 0.8274 - val_loss: 0.3012 - val_accuracy: 0.8876\n",
      "Epoch 2/5\n",
      "1875/1875 [==============================] - 81s 43ms/step - loss: 0.3306 - accuracy: 0.8816 - val_loss: 0.2823 - val_accuracy: 0.8985\n",
      "Epoch 3/5\n",
      "1875/1875 [==============================] - 81s 43ms/step - loss: 0.3023 - accuracy: 0.8906 - val_loss: 0.2596 - val_accuracy: 0.9063\n",
      "Epoch 4/5\n",
      "1875/1875 [==============================] - 81s 43ms/step - loss: 0.2849 - accuracy: 0.8959 - val_loss: 0.2593 - val_accuracy: 0.9031\n",
      "Epoch 5/5\n",
      "1875/1875 [==============================] - 81s 43ms/step - loss: 0.2739 - accuracy: 0.8999 - val_loss: 0.2410 - val_accuracy: 0.9128\n"
     ]
    }
   ],
   "source": [
    "# Compile\n",
    "optimizer = SGD(lr=learning_rate, momentum=0.9, decay=(learning_rate/epochs))\n",
    "model = MiniVGGNetSig.build(width=28, height=28, depth=1, classes=10)\n",
    "model.compile(\n",
    "    loss='categorical_crossentropy',\n",
    "    optimizer=optimizer,\n",
    "    metrics=['accuracy']\n",
    ")\n",
    "\n",
    "# Train\n",
    "hist = model.fit(\n",
    "    x=X_train, y=Y_train,\n",
    "    validation_data=(X_test, Y_test),\n",
    "    batch_size=batch_size,\n",
    "    epochs=epochs\n",
    ")"
   ]
  },
  {
   "cell_type": "code",
   "execution_count": 19,
   "id": "f8ec33e6",
   "metadata": {},
   "outputs": [],
   "source": [
    "Y_pred = model.predict(X_test)"
   ]
  },
  {
   "cell_type": "code",
   "execution_count": 20,
   "id": "0925d8ef",
   "metadata": {},
   "outputs": [
    {
     "name": "stdout",
     "output_type": "stream",
     "text": [
      "              precision    recall  f1-score   support\n",
      "\n",
      "         top       0.86      0.87      0.87      1000\n",
      "     trouser       1.00      0.97      0.99      1000\n",
      "    pullover       0.87      0.86      0.87      1000\n",
      "       dress       0.90      0.92      0.91      1000\n",
      "        coat       0.83      0.89      0.86      1000\n",
      "      sandal       0.99      0.98      0.98      1000\n",
      "       shirt       0.77      0.72      0.74      1000\n",
      "     sneaker       0.95      0.98      0.97      1000\n",
      "         bag       0.99      0.98      0.98      1000\n",
      "  ankle boot       0.98      0.96      0.97      1000\n",
      "\n",
      "    accuracy                           0.91     10000\n",
      "   macro avg       0.91      0.91      0.91     10000\n",
      "weighted avg       0.91      0.91      0.91     10000\n",
      "\n"
     ]
    }
   ],
   "source": [
    "print(classification_report(Y_test.argmax(axis=1), Y_pred.argmax(axis=1), target_names=label_names))"
   ]
  },
  {
   "cell_type": "code",
   "execution_count": 21,
   "id": "d014e999",
   "metadata": {},
   "outputs": [
    {
     "data": {
      "text/plain": [
       "Text(0, 0.5, 'Loss')"
      ]
     },
     "execution_count": 21,
     "metadata": {},
     "output_type": "execute_result"
    },
    {
     "data": {
      "image/png": "[encoded data removed]",
      "text/plain": [
       "<Figure size 432x288 with 1 Axes>"
      ]
     },
     "metadata": {
      "needs_background": "light"
     },
     "output_type": "display_data"
    }
   ],
   "source": [
    "plt.plot(hist.history['loss'], label='Train Loss')\n",
    "plt.plot(hist.history['val_loss'], label='Validation Loss')\n",
    "plt.legend()\n",
    "plt.xlabel('Epochs')\n",
    "plt.ylabel('Loss')"
   ]
  },
  {
   "cell_type": "code",
   "execution_count": 22,
   "id": "0a995ab3",
   "metadata": {},
   "outputs": [
    {
     "data": {
      "text/plain": [
       "Text(0, 0.5, 'Accuracy')"
      ]
     },
     "execution_count": 22,
     "metadata": {},
     "output_type": "execute_result"
    },
    {
     "data": {
      "image/png": "[encoded data removed]",
      "text/plain": [
       "<Figure size 432x288 with 1 Axes>"
      ]
     },
     "metadata": {
      "needs_background": "light"
     },
     "output_type": "display_data"
    }
   ],
   "source": [
    "plt.plot(hist.history['accuracy'], label='Accuracy')\n",
    "plt.plot(hist.history['val_accuracy'], label='Validation Accuracy')\n",
    "plt.legend()\n",
    "plt.xlabel('Epochs')\n",
    "plt.ylabel('Accuracy')"
   ]
  },
  {
   "cell_type": "code",
   "execution_count": null,
   "id": "c0545755",
   "metadata": {},
   "outputs": [],
   "source": []
  }
 ],
 "metadata": {
  "kernelspec": {
   "display_name": "Python 3 (ipykernel)",
   "language": "python",
   "name": "python3"
  },
  "language_info": {
   "codemirror_mode": {
    "name": "ipython",
    "version": 3
   },
   "file_extension": ".py",
   "mimetype": "text/x-python",
   "name": "python",
   "nbconvert_exporter": "python",
   "pygments_lexer": "ipython3",
   "version": "3.9.0"
  },
  "toc": {
   "base_numbering": 1,
   "nav_menu": {},
   "number_sections": true,
   "sideBar": true,
   "skip_h1_title": false,
   "title_cell": "Table of Contents",
   "title_sidebar": "Contents",
   "toc_cell": true,
   "toc_position": {},
   "toc_section_display": true,
   "toc_window_display": false
  }
 },
 "nbformat": 4,
 "nbformat_minor": 5
}
