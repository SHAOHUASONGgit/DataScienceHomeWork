{
 "cells": [
  {
   "cell_type": "markdown",
   "id": "d6a40c06",
   "metadata": {},
   "source": [
    "## 数据读取与合并"
   ]
  },
  {
   "cell_type": "code",
   "execution_count": 65,
   "id": "2d239ca0",
   "metadata": {},
   "outputs": [],
   "source": [
    "import pandas as pd"
   ]
  },
  {
   "cell_type": "code",
   "execution_count": 66,
   "id": "c4c7dac8",
   "metadata": {},
   "outputs": [
    {
     "data": {
      "text/html": [
       "<div>\n",
       "<style scoped>\n",
       "    .dataframe tbody tr th:only-of-type {\n",
       "        vertical-align: middle;\n",
       "    }\n",
       "\n",
       "    .dataframe tbody tr th {\n",
       "        vertical-align: top;\n",
       "    }\n",
       "\n",
       "    .dataframe thead th {\n",
       "        text-align: right;\n",
       "    }\n",
       "</style>\n",
       "<table border=\"1\" class=\"dataframe\">\n",
       "  <thead>\n",
       "    <tr style=\"text-align: right;\">\n",
       "      <th></th>\n",
       "      <th>代码</th>\n",
       "      <th>名称</th>\n",
       "      <th>收入同比%%</th>\n",
       "      <th>利润同比%%</th>\n",
       "      <th>营业利润率%%</th>\n",
       "      <th>市销率</th>\n",
       "      <th>市净率</th>\n",
       "      <th>市现率</th>\n",
       "      <th>市盈(动)</th>\n",
       "      <th>总金额</th>\n",
       "      <th>量比</th>\n",
       "      <th>细分行业</th>\n",
       "      <th>地区</th>\n",
       "    </tr>\n",
       "  </thead>\n",
       "  <tbody>\n",
       "    <tr>\n",
       "      <th>0</th>\n",
       "      <td>1.0</td>\n",
       "      <td>平安银行</td>\n",
       "      <td>34.09</td>\n",
       "      <td>15.02</td>\n",
       "      <td>32.78</td>\n",
       "      <td>3.64</td>\n",
       "      <td>1.12</td>\n",
       "      <td>0.93</td>\n",
       "      <td>7.31</td>\n",
       "      <td>3.270000e+09</td>\n",
       "      <td>1.40</td>\n",
       "      <td>银行</td>\n",
       "      <td>深圳</td>\n",
       "    </tr>\n",
       "    <tr>\n",
       "      <th>1</th>\n",
       "      <td>2.0</td>\n",
       "      <td>万 科Ａ</td>\n",
       "      <td>22.72</td>\n",
       "      <td>0.77</td>\n",
       "      <td>17.35</td>\n",
       "      <td>3.13</td>\n",
       "      <td>1.80</td>\n",
       "      <td>-23.08</td>\n",
       "      <td>16.21</td>\n",
       "      <td>3.220000e+09</td>\n",
       "      <td>1.33</td>\n",
       "      <td>全国地产</td>\n",
       "      <td>深圳</td>\n",
       "    </tr>\n",
       "    <tr>\n",
       "      <th>2</th>\n",
       "      <td>4.0</td>\n",
       "      <td>国农科技</td>\n",
       "      <td>117.08</td>\n",
       "      <td>125.75</td>\n",
       "      <td>10.98</td>\n",
       "      <td>36.85</td>\n",
       "      <td>26.93</td>\n",
       "      <td>-337.10</td>\n",
       "      <td>905.17</td>\n",
       "      <td>1.750000e+08</td>\n",
       "      <td>0.79</td>\n",
       "      <td>生物制药</td>\n",
       "      <td>深圳</td>\n",
       "    </tr>\n",
       "    <tr>\n",
       "      <th>3</th>\n",
       "      <td>5.0</td>\n",
       "      <td>世纪星源</td>\n",
       "      <td>52.10</td>\n",
       "      <td>8.05</td>\n",
       "      <td>-64.57</td>\n",
       "      <td>148.17</td>\n",
       "      <td>8.32</td>\n",
       "      <td>155.10</td>\n",
       "      <td>0.00</td>\n",
       "      <td>0.000000e+00</td>\n",
       "      <td>0.00</td>\n",
       "      <td>区域地产</td>\n",
       "      <td>深圳</td>\n",
       "    </tr>\n",
       "    <tr>\n",
       "      <th>4</th>\n",
       "      <td>6.0</td>\n",
       "      <td>深振业Ａ</td>\n",
       "      <td>311.53</td>\n",
       "      <td>425.18</td>\n",
       "      <td>17.93</td>\n",
       "      <td>6.29</td>\n",
       "      <td>3.01</td>\n",
       "      <td>-20.19</td>\n",
       "      <td>24.66</td>\n",
       "      <td>5.050000e+08</td>\n",
       "      <td>0.82</td>\n",
       "      <td>区域地产</td>\n",
       "      <td>深圳</td>\n",
       "    </tr>\n",
       "  </tbody>\n",
       "</table>\n",
       "</div>"
      ],
      "text/plain": [
       "    代码    名称  收入同比%%  利润同比%%  营业利润率%%     市销率    市净率     市现率   市盈(动)  \\\n",
       "0  1.0  平安银行   34.09   15.02    32.78    3.64   1.12    0.93    7.31   \n",
       "1  2.0  万 科Ａ   22.72    0.77    17.35    3.13   1.80  -23.08   16.21   \n",
       "2  4.0  国农科技  117.08  125.75    10.98   36.85  26.93 -337.10  905.17   \n",
       "3  5.0  世纪星源   52.10    8.05   -64.57  148.17   8.32  155.10    0.00   \n",
       "4  6.0  深振业Ａ  311.53  425.18    17.93    6.29   3.01  -20.19   24.66   \n",
       "\n",
       "            总金额    量比  细分行业  地区  \n",
       "0  3.270000e+09  1.40    银行  深圳  \n",
       "1  3.220000e+09  1.33  全国地产  深圳  \n",
       "2  1.750000e+08  0.79  生物制药  深圳  \n",
       "3  0.000000e+00  0.00  区域地产  深圳  \n",
       "4  5.050000e+08  0.82  区域地产  深圳  "
      ]
     },
     "execution_count": 66,
     "metadata": {},
     "output_type": "execute_result"
    }
   ],
   "source": [
    "files = [\"A1.csv\", \"A2.csv\", \"A3.csv\"]\n",
    "dataset = pd.DataFrame()\n",
    "for index in range(len(files)):\n",
    "    if index == 0:\n",
    "        dataset = pd.read_csv(files[index])\n",
    "    else:\n",
    "        dataset = pd.merge(dataset, pd.read_csv(files[index]), how=\"outer\").dropna(how=\"all\").fillna(0)\n",
    "dataset"
   ]
  },
  {
   "cell_type": "markdown",
   "id": "b6c0f6c7",
   "metadata": {},
   "source": [
    "## 平均市盈率"
   ]
  },
  {
   "cell_type": "code",
   "execution_count": 67,
   "id": "f59716b2",
   "metadata": {},
   "outputs": [
    {
     "data": {
      "text/plain": [
       "细分行业\n",
       "全国地产     16.21\n",
       "区域地产     12.33\n",
       "生物制药    905.17\n",
       "银行        7.31\n",
       "Name: 平均市盈率, dtype: float64"
      ]
     },
     "execution_count": 67,
     "metadata": {},
     "output_type": "execute_result"
    }
   ],
   "source": [
    "avgPER = dataset[\"市盈(动)\"].groupby(dataset[\"细分行业\"]).mean().rename(\"平均市盈率\")\n",
    "avgPER"
   ]
  },
  {
   "cell_type": "markdown",
   "id": "438ad735",
   "metadata": {},
   "source": [
    "## 加权市盈率"
   ]
  },
  {
   "cell_type": "code",
   "execution_count": 68,
   "id": "051c44c3",
   "metadata": {},
   "outputs": [
    {
     "data": {
      "text/plain": [
       "细分行业\n",
       "全国地产     7.279805\n",
       "区域地产     1.736862\n",
       "生物制药    22.092713\n",
       "银行       3.333849\n",
       "Name: 加权市盈率, dtype: float64"
      ]
     },
     "execution_count": 68,
     "metadata": {},
     "output_type": "execute_result"
    }
   ],
   "source": [
    "weight = dataset['总金额'].groupby(dataset['细分行业']).sum() / dataset['总金额'].sum()\n",
    "weightPER = (dataset[\"市盈(动)\"].groupby(dataset[\"细分行业\"]).sum() * weight).rename(\"加权市盈率\")\n",
    "weightPER"
   ]
  },
  {
   "cell_type": "markdown",
   "id": "ae59ea03",
   "metadata": {},
   "source": [
    "## 数据保存"
   ]
  },
  {
   "cell_type": "code",
   "execution_count": 69,
   "id": "dc58d278",
   "metadata": {},
   "outputs": [
    {
     "data": {
      "text/html": [
       "<div>\n",
       "<style scoped>\n",
       "    .dataframe tbody tr th:only-of-type {\n",
       "        vertical-align: middle;\n",
       "    }\n",
       "\n",
       "    .dataframe tbody tr th {\n",
       "        vertical-align: top;\n",
       "    }\n",
       "\n",
       "    .dataframe thead th {\n",
       "        text-align: right;\n",
       "    }\n",
       "</style>\n",
       "<table border=\"1\" class=\"dataframe\">\n",
       "  <thead>\n",
       "    <tr style=\"text-align: right;\">\n",
       "      <th></th>\n",
       "      <th>平均市盈率</th>\n",
       "      <th>加权市盈率</th>\n",
       "    </tr>\n",
       "    <tr>\n",
       "      <th>细分行业</th>\n",
       "      <th></th>\n",
       "      <th></th>\n",
       "    </tr>\n",
       "  </thead>\n",
       "  <tbody>\n",
       "    <tr>\n",
       "      <th>全国地产</th>\n",
       "      <td>16.21</td>\n",
       "      <td>7.279805</td>\n",
       "    </tr>\n",
       "    <tr>\n",
       "      <th>区域地产</th>\n",
       "      <td>12.33</td>\n",
       "      <td>1.736862</td>\n",
       "    </tr>\n",
       "    <tr>\n",
       "      <th>生物制药</th>\n",
       "      <td>905.17</td>\n",
       "      <td>22.092713</td>\n",
       "    </tr>\n",
       "    <tr>\n",
       "      <th>银行</th>\n",
       "      <td>7.31</td>\n",
       "      <td>3.333849</td>\n",
       "    </tr>\n",
       "  </tbody>\n",
       "</table>\n",
       "</div>"
      ],
      "text/plain": [
       "       平均市盈率      加权市盈率\n",
       "细分行业                   \n",
       "全国地产   16.21   7.279805\n",
       "区域地产   12.33   1.736862\n",
       "生物制药  905.17  22.092713\n",
       "银行      7.31   3.333849"
      ]
     },
     "execution_count": 69,
     "metadata": {},
     "output_type": "execute_result"
    }
   ],
   "source": [
    "PER = pd.merge(avgPER, weightPER, on=\"细分行业\")\n",
    "PER.to_csv(path_or_buf=\"PER.csv\")\n",
    "PER"
   ]
  },
  {
   "cell_type": "code",
   "execution_count": null,
   "id": "bc310dab",
   "metadata": {},
   "outputs": [],
   "source": []
  }
 ],
 "metadata": {
  "kernelspec": {
   "display_name": "Python 3 (ipykernel)",
   "language": "python",
   "name": "python3"
  },
  "language_info": {
   "codemirror_mode": {
    "name": "ipython",
    "version": 3
   },
   "file_extension": ".py",
   "mimetype": "text/x-python",
   "name": "python",
   "nbconvert_exporter": "python",
   "pygments_lexer": "ipython3",
   "version": "3.9.7"
  }
 },
 "nbformat": 4,
 "nbformat_minor": 5
}
