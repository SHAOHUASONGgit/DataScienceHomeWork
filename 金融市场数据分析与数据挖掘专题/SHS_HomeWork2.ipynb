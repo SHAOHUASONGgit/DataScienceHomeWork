{
 "cells": [
  {
   "cell_type": "markdown",
   "id": "9d82d9b7",
   "metadata": {},
   "source": [
    "## 向量枚举"
   ]
  },
  {
   "cell_type": "code",
   "execution_count": 1,
   "id": "59a843da",
   "metadata": {},
   "outputs": [],
   "source": [
    "import numpy as np"
   ]
  },
  {
   "cell_type": "code",
   "execution_count": 2,
   "id": "1fe55491",
   "metadata": {},
   "outputs": [],
   "source": [
    "def findUnique(inputMat):\n",
    "    output = []\n",
    "    for row in range(inputMat.shape[0]):\n",
    "        presentRow = list(inputMat[row])\n",
    "        if presentRow not in output:\n",
    "            output.append(presentRow)\n",
    "    output = np.array(output)\n",
    "    return output"
   ]
  },
  {
   "cell_type": "code",
   "execution_count": 3,
   "id": "0ac0ad59",
   "metadata": {},
   "outputs": [
    {
     "name": "stdout",
     "output_type": "stream",
     "text": [
      "[[1. 2. 3.]\n",
      " [4. 5. 6.]]\n"
     ]
    }
   ],
   "source": [
    "x = np.array([[1., 2., 3.], [4., 5., 6.],[1., 2., 3.], [4., 5., 6.]])\n",
    "print(findUnique(x))"
   ]
  },
  {
   "cell_type": "markdown",
   "id": "3f184243",
   "metadata": {},
   "source": [
    "## 数组生成与统计"
   ]
  },
  {
   "cell_type": "code",
   "execution_count": 4,
   "id": "e22a1669",
   "metadata": {},
   "outputs": [],
   "source": [
    "def generateStats(T):\n",
    "    data = np.random.normal(0, 1, T)\n",
    "    output = []\n",
    "    for startIndex in range(T - 3 + 1):\n",
    "        output.append(data[startIndex: startIndex + 3])\n",
    "    output = np.array(output)\n",
    "    return output\n",
    "\n",
    "def calculateStats(intputMat):\n",
    "    matMean = np.mean(intputMat, axis=0)\n",
    "    matVar = np.var(intputMat, axis=0)\n",
    "    matCovar = []\n",
    "    for firstCol in range(3):\n",
    "        for secondCol in range(3):\n",
    "            if firstCol != secondCol and firstCol < secondCol:\n",
    "                covar = np.sum((matMean[firstCol] - inputMat[:, firstCol]) * (matMean[secondCol] - inputMat[:, secondCol])) / inputMat.shape[0]\n",
    "                matCovar.append([str(firstCol) + \"-\" + str(secondCol) + \"协方差\", covar])\n",
    "    matCovar = np.array(matCovar)\n",
    "    return matMean, matVar, matCovar"
   ]
  },
  {
   "cell_type": "code",
   "execution_count": 5,
   "id": "ee097d1f",
   "metadata": {
    "scrolled": false
   },
   "outputs": [
    {
     "name": "stdout",
     "output_type": "stream",
     "text": [
      "数组:\n",
      "[[ 0.43172321 -0.07045528  0.56926895]\n",
      " [-0.07045528  0.56926895 -0.24668501]\n",
      " [ 0.56926895 -0.24668501  1.12972242]\n",
      " [-0.24668501  1.12972242 -0.07015193]\n",
      " [ 1.12972242 -0.07015193  0.44477256]\n",
      " [-0.07015193  0.44477256 -1.20022388]\n",
      " [ 0.44477256 -1.20022388 -0.79715961]\n",
      " [-1.20022388 -0.79715961  1.10030419]]\n",
      "\n",
      " 均值:\n",
      "[ 0.12349638 -0.03011397  0.11623096]\n",
      "\n",
      " 方差:\n",
      "[0.42172659 0.49220591 0.63031629]\n",
      "\n",
      " 协方差:\n",
      "[['0-1协方差' '-0.018424954565188417']\n",
      " ['0-2协方差' '-0.03497039642558969']\n",
      " ['1-2协方差' '-0.12448135634393687']]\n"
     ]
    }
   ],
   "source": [
    "inputMat = generateStats(T=10)\n",
    "matMean, matVar, matCovar = calculateStats(inputMat)\n",
    "print(\"数组:\\n{0}\\n\\n 均值:\\n{1}\\n\\n 方差:\\n{2}\\n\\n 协方差:\\n{3}\".format(inputMat, matMean, matVar, matCovar))"
   ]
  },
  {
   "cell_type": "markdown",
   "id": "c8f60128",
   "metadata": {},
   "source": [
    "## 数组生成与排序"
   ]
  },
  {
   "cell_type": "code",
   "execution_count": 122,
   "id": "45931284",
   "metadata": {},
   "outputs": [],
   "source": [
    "def matGenerate_Sort(rows=1000, cols=50, range=[0, 3]):\n",
    "    output = np.random.randint(range[0], range[1], (rows, cols))\n",
    "    output = output[np.lexsort((-output[:,1], output[:,0]))]\n",
    "    return output\n",
    "\n",
    "def sortbycols(data, cols, descending):  # True递增 False递减\n",
    "    if type(cols) != list:\n",
    "        if descending:\n",
    "            data = data[np.lexsort((data[:, cols], data[:, cols]))]\n",
    "        else:\n",
    "            data = data[np.lexsort((-data[:, cols], -data[:, cols]))]\n",
    "    elif type(descending) != list:\n",
    "        cols.reverse()\n",
    "        if descending:\n",
    "            data = data[np.lexsort(data[:, cols].T, axis=-1)]\n",
    "        else:\n",
    "            data = data[np.lexsort(-data[:, cols].T, axis=-1)]\n",
    "    else:\n",
    "        cols.reverse()\n",
    "        descending.reverse()\n",
    "        order = data[:, cols].T\n",
    "        for col in range(len(cols)):\n",
    "            if not descending[col]:\n",
    "                order[col] = -order[col]\n",
    "        data = data[np.lexsort(order, axis=-1)]\n",
    "    return data"
   ]
  },
  {
   "cell_type": "code",
   "execution_count": 130,
   "id": "dea1fdac",
   "metadata": {
    "scrolled": false
   },
   "outputs": [
    {
     "name": "stdout",
     "output_type": "stream",
     "text": [
      "a.排序_第零列递增第一列递减:\n",
      "[[0 2 1 1 1 2 1 0 1 1]\n",
      " [0 2 2 0 1 2 0 1 1 2]\n",
      " [0 2 1 1 2 1 0 0 2 2]\n",
      " [0 0 0 0 1 1 0 1 1 2]\n",
      " [0 0 0 1 1 2 1 0 2 1]\n",
      " [0 0 0 0 2 1 0 2 0 0]\n",
      " [1 2 0 1 1 2 2 0 2 2]\n",
      " [1 1 1 1 2 0 0 1 0 0]\n",
      " [1 0 2 0 2 1 0 0 1 1]\n",
      " [1 0 0 1 1 2 0 2 1 1]]\n",
      "\n",
      "b.原矩阵:\n",
      "[[1 1 1 2 2]\n",
      " [1 2 0 2 2]\n",
      " [0 0 2 0 0]\n",
      " [0 0 0 2 1]\n",
      " [2 1 2 1 1]\n",
      " [0 0 0 0 0]\n",
      " [0 2 2 0 2]\n",
      " [1 0 2 1 0]\n",
      " [1 2 2 1 0]\n",
      " [2 1 2 0 1]]\n",
      "\n",
      "b.排序_第零列递增:\n",
      "[[0 0 2 0 0]\n",
      " [0 0 0 2 1]\n",
      " [0 0 0 0 0]\n",
      " [0 2 2 0 2]\n",
      " [1 1 1 2 2]\n",
      " [1 2 0 2 2]\n",
      " [1 0 2 1 0]\n",
      " [1 2 2 1 0]\n",
      " [2 1 2 1 1]\n",
      " [2 1 2 0 1]]\n",
      "\n",
      "b.排序_第零列递减:\n",
      "[[2 1 2 1 1]\n",
      " [2 1 2 0 1]\n",
      " [1 1 1 2 2]\n",
      " [1 2 0 2 2]\n",
      " [1 0 2 1 0]\n",
      " [1 2 2 1 0]\n",
      " [0 0 2 0 0]\n",
      " [0 0 0 2 1]\n",
      " [0 0 0 0 0]\n",
      " [0 2 2 0 2]]\n",
      "\n",
      "b.排序_第零列递增第一列递增:\n",
      "[[0 0 2 0 0]\n",
      " [0 0 0 2 1]\n",
      " [0 0 0 0 0]\n",
      " [0 2 2 0 2]\n",
      " [1 0 2 1 0]\n",
      " [1 1 1 2 2]\n",
      " [1 2 0 2 2]\n",
      " [1 2 2 1 0]\n",
      " [2 1 2 1 1]\n",
      " [2 1 2 0 1]]\n",
      "\n",
      "b.排序_第零列递增第一列递减:\n",
      "[[0 2 2 0 2]\n",
      " [0 0 2 0 0]\n",
      " [0 0 0 2 1]\n",
      " [0 0 0 0 0]\n",
      " [1 2 0 2 2]\n",
      " [1 2 2 1 0]\n",
      " [1 1 1 2 2]\n",
      " [1 0 2 1 0]\n",
      " [2 1 2 1 1]\n",
      " [2 1 2 0 1]]\n",
      "\n"
     ]
    }
   ],
   "source": [
    "data = np.random.randint(0, 3, (10, 5))\n",
    "print(\"a.排序_第零列递增第一列递减:\\n{0}\\n\".format(matGenerate_Sort(10, 10)))\n",
    "print(\"b.原矩阵:\\n{0}\\n\".format(data))\n",
    "print(\"b.排序_第零列递增:\\n{0}\\n\".format(sortbycols(data, 0, True)))\n",
    "print(\"b.排序_第零列递减:\\n{0}\\n\".format(sortbycols(data, 0, False)))\n",
    "print(\"b.排序_第零列递增第一列递增:\\n{0}\\n\".format(sortbycols(data, [0, 1], True)))\n",
    "print(\"b.排序_第零列递增第一列递减:\\n{0}\\n\".format(sortbycols(data, [0, 1], [True, False])))"
   ]
  },
  {
   "cell_type": "markdown",
   "id": "25e98858",
   "metadata": {},
   "source": [
    "## 现值计算"
   ]
  },
  {
   "cell_type": "code",
   "execution_count": null,
   "id": "6ef95610",
   "metadata": {},
   "outputs": [],
   "source": [
    "def calculatePresentValue(cashFlow, rate, T):\n",
    "    totalYear = len(cashFlow)\n",
    "    presentValue = [0] * totalYear\n",
    "    for year in range(totalYear):\n",
    "        presentValue[year] = cashFlow[year] / ((1 + rate) ** (year + 1))\n",
    "    return presentValue[T-1]"
   ]
  }
 ],
 "metadata": {
  "kernelspec": {
   "display_name": "Python 3",
   "language": "python",
   "name": "python3"
  },
  "language_info": {
   "codemirror_mode": {
    "name": "ipython",
    "version": 3
   },
   "file_extension": ".py",
   "mimetype": "text/x-python",
   "name": "python",
   "nbconvert_exporter": "python",
   "pygments_lexer": "ipython3",
   "version": "3.8.8"
  }
 },
 "nbformat": 4,
 "nbformat_minor": 5
}
