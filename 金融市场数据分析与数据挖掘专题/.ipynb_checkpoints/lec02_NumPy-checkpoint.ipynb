{
 "cells": [
  {
   "cell_type": "markdown",
   "metadata": {
    "slideshow": {
     "slide_type": "slide"
    }
   },
   "source": [
    "# NumPy Basics: Arrays and Vectorized Computation\n",
    "\n",
    "Numerical Python 的简称，是Python科学计算的基础包。\n",
    "\n",
    "NumPy的主要对象是**同类型**元素的多维数组。\n",
    "\n",
    "其所有的元素都是一种类型、通过一个正整数元组索引的元素表格。\n",
    "本节的内容包括array数据的：\n",
    "+ 生成\n",
    "+ 选取\n",
    "+ 数据处理\n",
    "+ 运算等"
   ]
  },
  {
   "cell_type": "markdown",
   "metadata": {
    "slideshow": {
     "slide_type": "slide"
    }
   },
   "source": [
    "+ 导入numpy, 设置数据显示的格式，设置在notebook中显示图形"
   ]
  },
  {
   "cell_type": "code",
   "execution_count": 1,
   "metadata": {
    "ExecuteTime": {
     "end_time": "2019-08-30T04:54:23.297588Z",
     "start_time": "2019-08-30T04:54:22.355247Z"
    },
    "slideshow": {
     "slide_type": "-"
    }
   },
   "outputs": [],
   "source": [
    "from numpy.random import randn\n",
    "import numpy as np\n",
    "\n",
    "# 设置NumPy对象的显示的格式,\n",
    "np.set_printoptions(precision=4, suppress=True)\n",
    "\n",
    "%matplotlib inline "
   ]
  },
  {
   "cell_type": "code",
   "execution_count": 8,
   "metadata": {
    "slideshow": {
     "slide_type": "-"
    }
   },
   "outputs": [
    {
     "data": {
      "text/plain": [
       "array([34.2353,  0.    ])"
      ]
     },
     "execution_count": 8,
     "metadata": {},
     "output_type": "execute_result"
    }
   ],
   "source": [
    "a=np.array([34.23534,0.1**30])\n",
    "a\n"
   ]
  },
  {
   "cell_type": "markdown",
   "metadata": {
    "slideshow": {
     "slide_type": "slide"
    }
   },
   "source": [
    "##  NumPy 多维数值\n",
    "\n",
    "在NumPy中维度(dimensions)叫做轴(axes)。\n",
    "\n",
    "+   [1, 2, 3] 是1$\\times$3的数组 \n",
    "\n",
    "+ [[ 1., 0., 0.], [ 0., 1., 2.]]是2$\\times$3的数组， 它有两个维度，第一个维度长度为2,第二个维度长度为3. \n",
    "\n"
   ]
  },
  {
   "cell_type": "markdown",
   "metadata": {
    "slideshow": {
     "slide_type": "slide"
    }
   },
   "source": [
    "+ 下面的例子抽取一个$2\\times 3$的数组，并进行计算。 randn函数从标准正态分布抽取随机数。"
   ]
  },
  {
   "cell_type": "code",
   "execution_count": 4,
   "metadata": {},
   "outputs": [],
   "source": [
    "data = randn(2, 3) \n",
    "#data"
   ]
  },
  {
   "cell_type": "code",
   "execution_count": 5,
   "metadata": {
    "scrolled": true
   },
   "outputs": [
    {
     "name": "stdout",
     "output_type": "stream",
     "text": [
      "[[ -0.5263   7.9418 -10.2008]\n",
      " [ -4.0823  11.3989   3.5736]]\n",
      "\n",
      "[[-0.1053  1.5884 -2.0402]\n",
      " [-0.8165  2.2798  0.7147]]\n"
     ]
    }
   ],
   "source": [
    "print(data * 10,end=\"\\n\\n\")\n",
    "print(data + data)"
   ]
  },
  {
   "cell_type": "code",
   "execution_count": 6,
   "metadata": {},
   "outputs": [
    {
     "data": {
      "text/plain": [
       "(2, 3)"
      ]
     },
     "execution_count": 6,
     "metadata": {},
     "output_type": "execute_result"
    }
   ],
   "source": [
    "data.shape "
   ]
  },
  {
   "cell_type": "code",
   "execution_count": 7,
   "metadata": {},
   "outputs": [
    {
     "data": {
      "text/plain": [
       "dtype('float64')"
      ]
     },
     "execution_count": 7,
     "metadata": {},
     "output_type": "execute_result"
    }
   ],
   "source": [
    "data.dtype"
   ]
  },
  {
   "cell_type": "markdown",
   "metadata": {
    "slideshow": {
     "slide_type": "slide"
    }
   },
   "source": [
    "### 产生数组变量\n",
    "\n",
    "+ 整数数组序列"
   ]
  },
  {
   "cell_type": "code",
   "execution_count": 8,
   "metadata": {
    "slideshow": {
     "slide_type": "-"
    }
   },
   "outputs": [
    {
     "name": "stdout",
     "output_type": "stream",
     "text": [
      "[ 0  1  2  3  4  5  6  7  8  9 10 11 12 13 14]\n",
      "\n",
      "[ 2  3  4  5  6  7  8  9 10 11 12 13 14]\n",
      "\n",
      "[ 2  4  6  8 10 12 14]\n",
      "\n",
      "[ 2.   3.5  5.   6.5  8.   9.5 11.  12.5 14. ]\n",
      "\n"
     ]
    }
   ],
   "source": [
    "print(np.arange(15),end=\"\\n\\n\")\n",
    "print(np.arange(2,15),end=\"\\n\\n\")\n",
    "print(np.arange(2,15,2),end=\"\\n\\n\")\n",
    "print(np.arange(2,15,1.5),end=\"\\n\\n\")"
   ]
  },
  {
   "cell_type": "markdown",
   "metadata": {
    "slideshow": {
     "slide_type": "slide"
    }
   },
   "source": [
    "+ 用list产生"
   ]
  },
  {
   "cell_type": "code",
   "execution_count": 9,
   "metadata": {
    "slideshow": {
     "slide_type": "-"
    }
   },
   "outputs": [
    {
     "data": {
      "text/plain": [
       "array([6. , 7.5, 8. , 0. , 1. ])"
      ]
     },
     "execution_count": 9,
     "metadata": {},
     "output_type": "execute_result"
    }
   ],
   "source": [
    "data1 = [6, 7.5, 8, 0, 1]\n",
    "arr1 = np.array(data1)\n",
    "arr1"
   ]
  },
  {
   "cell_type": "code",
   "execution_count": 22,
   "metadata": {
    "scrolled": true,
    "slideshow": {
     "slide_type": "-"
    }
   },
   "outputs": [
    {
     "data": {
      "text/plain": [
       "array([[1, 2, 3, 4],\n",
       "       [5, 6, 7, 8]])"
      ]
     },
     "execution_count": 22,
     "metadata": {},
     "output_type": "execute_result"
    }
   ],
   "source": [
    "data2 = [[1, 2, 3, 4], [5, 6, 7, 8]]\n",
    "arr2 = np.array(data2)\n",
    "arr2"
   ]
  },
  {
   "cell_type": "code",
   "execution_count": 11,
   "metadata": {
    "slideshow": {
     "slide_type": "-"
    }
   },
   "outputs": [
    {
     "data": {
      "text/plain": [
       "(2, 4)"
      ]
     },
     "execution_count": 11,
     "metadata": {},
     "output_type": "execute_result"
    }
   ],
   "source": [
    "arr2.shape"
   ]
  },
  {
   "cell_type": "code",
   "execution_count": 135,
   "metadata": {},
   "outputs": [
    {
     "data": {
      "text/plain": [
       "array([[1, 2],\n",
       "       [3, 4],\n",
       "       [5, 6],\n",
       "       [7, 8]])"
      ]
     },
     "execution_count": 135,
     "metadata": {},
     "output_type": "execute_result"
    }
   ],
   "source": [
    "# reshape可以改变维度\n",
    "arr2.reshape((1, 8)).reshape(4,2)# reshape((1, 8))和reshape(1, 8)都可以"
   ]
  },
  {
   "cell_type": "markdown",
   "metadata": {
    "slideshow": {
     "slide_type": "slide"
    }
   },
   "source": [
    "+ 一些常用的矩阵和向量"
   ]
  },
  {
   "cell_type": "code",
   "execution_count": 136,
   "metadata": {},
   "outputs": [
    {
     "data": {
      "text/plain": [
       "array([ 0.,  0.,  0.,  0.,  0.,  0.,  0.,  0.,  0.,  0.])"
      ]
     },
     "execution_count": 136,
     "metadata": {},
     "output_type": "execute_result"
    }
   ],
   "source": [
    "np.zeros(10,dtype=\"int\")\n",
    "#np.empty(10)"
   ]
  },
  {
   "cell_type": "code",
   "execution_count": 13,
   "metadata": {},
   "outputs": [
    {
     "data": {
      "text/plain": [
       "array([[ 1.,  1.,  1.],\n",
       "       [ 1.,  1.,  1.]])"
      ]
     },
     "execution_count": 13,
     "metadata": {},
     "output_type": "execute_result"
    }
   ],
   "source": [
    "np.ones((2,3))"
   ]
  },
  {
   "cell_type": "code",
   "execution_count": 137,
   "metadata": {
    "scrolled": false
   },
   "outputs": [
    {
     "data": {
      "text/plain": [
       "array([[ 1.,  0.,  0.],\n",
       "       [ 0.,  1.,  0.]])"
      ]
     },
     "execution_count": 137,
     "metadata": {},
     "output_type": "execute_result"
    }
   ],
   "source": [
    "np.identity(2)\n",
    "np.eye(2,3)"
   ]
  },
  {
   "cell_type": "markdown",
   "metadata": {
    "slideshow": {
     "slide_type": "slide"
    }
   },
   "source": [
    "### 多维数组的类型 "
   ]
  },
  {
   "cell_type": "markdown",
   "metadata": {},
   "source": [
    "+ np.array的数据类型可以指定，如果没有指定，会自动推断"
   ]
  },
  {
   "cell_type": "code",
   "execution_count": 15,
   "metadata": {},
   "outputs": [
    {
     "data": {
      "text/plain": [
       "(dtype('float64'), dtype('int32'), dtype('int32'))"
      ]
     },
     "execution_count": 15,
     "metadata": {},
     "output_type": "execute_result"
    }
   ],
   "source": [
    "arr1 = np.array([1, 2, 3], dtype=np.float64)\n",
    "arr2 = np.array([1, 2, 3], dtype=np.int32)\n",
    "arr = np.array([1, 2, 3, 4, 5])\n",
    "arr1.dtype,arr2.dtype,arr.dtype"
   ]
  },
  {
   "cell_type": "markdown",
   "metadata": {},
   "source": [
    "+ 转换数据类型"
   ]
  },
  {
   "cell_type": "code",
   "execution_count": 16,
   "metadata": {},
   "outputs": [
    {
     "data": {
      "text/plain": [
       "(dtype('float64'), array([ 1.,  2.,  3.,  4.,  5.]))"
      ]
     },
     "execution_count": 16,
     "metadata": {},
     "output_type": "execute_result"
    }
   ],
   "source": [
    "# 整数转换为浮点\n",
    "float_arr = arr.astype(np.float64)\n",
    "\n",
    "float_arr.dtype,float_arr"
   ]
  },
  {
   "cell_type": "code",
   "execution_count": 17,
   "metadata": {
    "scrolled": true,
    "slideshow": {
     "slide_type": "slide"
    }
   },
   "outputs": [
    {
     "data": {
      "text/plain": [
       "array([ 3, -1, -2,  0, 12, 10])"
      ]
     },
     "execution_count": 17,
     "metadata": {},
     "output_type": "execute_result"
    }
   ],
   "source": [
    "# 浮点转换为整数\n",
    "arr = np.array([3.7, -1.2, -2.6, 0.5, 12.9, 10.1])\n",
    "arr.astype(np.int32)"
   ]
  },
  {
   "cell_type": "code",
   "execution_count": 18,
   "metadata": {},
   "outputs": [
    {
     "data": {
      "text/plain": [
       "array([  1.25,  -9.6 ,  42.  ])"
      ]
     },
     "execution_count": 18,
     "metadata": {},
     "output_type": "execute_result"
    }
   ],
   "source": [
    "# 字符转浮点\n",
    "numeric_strings = np.array(['1.25', '-9.6', '42'], dtype=str)\n",
    "numeric_strings.astype(float)"
   ]
  },
  {
   "cell_type": "markdown",
   "metadata": {
    "slideshow": {
     "slide_type": "slide"
    }
   },
   "source": [
    "###  数组和标量的运算\n",
    "数组的+，-，*,/为对应位置的点对点运算"
   ]
  },
  {
   "cell_type": "code",
   "execution_count": 19,
   "metadata": {},
   "outputs": [
    {
     "data": {
      "text/plain": [
       "array([[  1.,   4.,   9.],\n",
       "       [ 16.,  25.,  36.]])"
      ]
     },
     "execution_count": 19,
     "metadata": {},
     "output_type": "execute_result"
    }
   ],
   "source": [
    "arr = np.array([[1., 2., 3.], [4., 5., 6.]])\n",
    "arr * arr"
   ]
  },
  {
   "cell_type": "code",
   "execution_count": 20,
   "metadata": {
    "slideshow": {
     "slide_type": "-"
    }
   },
   "outputs": [
    {
     "data": {
      "text/plain": [
       "array([[ 0.,  0.,  0.],\n",
       "       [ 0.,  0.,  0.]])"
      ]
     },
     "execution_count": 20,
     "metadata": {},
     "output_type": "execute_result"
    }
   ],
   "source": [
    "arr - arr"
   ]
  },
  {
   "cell_type": "code",
   "execution_count": 21,
   "metadata": {},
   "outputs": [
    {
     "data": {
      "text/plain": [
       "array([[ 1.    ,  0.5   ,  0.3333],\n",
       "       [ 0.25  ,  0.2   ,  0.1667]])"
      ]
     },
     "execution_count": 21,
     "metadata": {},
     "output_type": "execute_result"
    }
   ],
   "source": [
    "1 / arr"
   ]
  },
  {
   "cell_type": "code",
   "execution_count": 22,
   "metadata": {},
   "outputs": [
    {
     "data": {
      "text/plain": [
       "array([[ 1.    ,  1.4142,  1.7321],\n",
       "       [ 2.    ,  2.2361,  2.4495]])"
      ]
     },
     "execution_count": 22,
     "metadata": {},
     "output_type": "execute_result"
    }
   ],
   "source": [
    "arr ** 0.5"
   ]
  },
  {
   "cell_type": "markdown",
   "metadata": {
    "slideshow": {
     "slide_type": "slide"
    }
   },
   "source": [
    "###  索引和切片"
   ]
  },
  {
   "cell_type": "code",
   "execution_count": 3,
   "metadata": {
    "slideshow": {
     "slide_type": "-"
    }
   },
   "outputs": [
    {
     "data": {
      "text/plain": [
       "5"
      ]
     },
     "execution_count": 3,
     "metadata": {},
     "output_type": "execute_result"
    }
   ],
   "source": [
    "arr = np.arange(10)\n",
    "arr[5]"
   ]
  },
  {
   "cell_type": "code",
   "execution_count": 24,
   "metadata": {
    "slideshow": {
     "slide_type": "-"
    }
   },
   "outputs": [
    {
     "data": {
      "text/plain": [
       "array([5, 6, 7])"
      ]
     },
     "execution_count": 24,
     "metadata": {},
     "output_type": "execute_result"
    }
   ],
   "source": [
    "arr[5:8]"
   ]
  },
  {
   "cell_type": "markdown",
   "metadata": {},
   "source": [
    "+ 5:8表示[5,6,7]\n",
    "\n",
    "+  而list,array等python对象位置索引从0开始的，其实是引用第6，7，8个元素。"
   ]
  },
  {
   "cell_type": "code",
   "execution_count": 25,
   "metadata": {
    "slideshow": {
     "slide_type": "-"
    }
   },
   "outputs": [
    {
     "data": {
      "text/plain": [
       "array([ 0,  1,  2,  3,  4, 12, 12, 12,  8,  9])"
      ]
     },
     "execution_count": 25,
     "metadata": {},
     "output_type": "execute_result"
    }
   ],
   "source": [
    "arr[5:8] = 12\n",
    "arr"
   ]
  },
  {
   "cell_type": "markdown",
   "metadata": {
    "slideshow": {
     "slide_type": "slide"
    }
   },
   "source": [
    "+ 切片传地址; \n",
    "+ 注意这里和list有区别,一般数列list的切片拷贝生成新的对象"
   ]
  },
  {
   "cell_type": "code",
   "execution_count": 24,
   "metadata": {
    "slideshow": {
     "slide_type": "-"
    }
   },
   "outputs": [
    {
     "data": {
      "text/plain": [
       "array([    0,     1,     2,     3,     4,     5, 12345,     7,     8,\n",
       "           9])"
      ]
     },
     "execution_count": 24,
     "metadata": {},
     "output_type": "execute_result"
    }
   ],
   "source": [
    "arr=np.arange(10)\n",
    "arr_slice = arr[5:8]\n",
    "arr_slice[1] = 12345\n",
    "arr"
   ]
  },
  {
   "cell_type": "code",
   "execution_count": 25,
   "metadata": {
    "slideshow": {
     "slide_type": "-"
    }
   },
   "outputs": [
    {
     "data": {
      "text/plain": [
       "array([ 0,  1,  2,  3,  4, 64, 64, 64,  8,  9])"
      ]
     },
     "execution_count": 25,
     "metadata": {},
     "output_type": "execute_result"
    }
   ],
   "source": [
    "arr_slice[:] = 64\n",
    "arr"
   ]
  },
  {
   "cell_type": "code",
   "execution_count": 26,
   "metadata": {},
   "outputs": [
    {
     "data": {
      "text/plain": [
       "array([ 0,  1,  2,  3,  4, 64, 64, 64,  8,  9])"
      ]
     },
     "execution_count": 26,
     "metadata": {},
     "output_type": "execute_result"
    }
   ],
   "source": [
    "arr_slice=6400\n",
    "arr"
   ]
  },
  {
   "cell_type": "markdown",
   "metadata": {
    "slideshow": {
     "slide_type": "slide"
    }
   },
   "source": [
    "+ list 切片拷贝生成新的对象"
   ]
  },
  {
   "cell_type": "code",
   "execution_count": 1,
   "metadata": {
    "slideshow": {
     "slide_type": "-"
    }
   },
   "outputs": [
    {
     "data": {
      "text/plain": [
       "[0, 1, 2, 3, 4, 5, 6, 7, 8, 9]"
      ]
     },
     "execution_count": 1,
     "metadata": {},
     "output_type": "execute_result"
    }
   ],
   "source": [
    "a_list=list(range(10))\n",
    "list_slice = a_list[5:8]\n",
    "list_slice[1] = 12345\n",
    "a_list "
   ]
  },
  {
   "cell_type": "code",
   "execution_count": 3,
   "metadata": {},
   "outputs": [],
   "source": [
    "a=[1,2,3,[1,2]]\n",
    "b=a[3]\n",
    "b[1]=1000\n"
   ]
  },
  {
   "cell_type": "code",
   "execution_count": 5,
   "metadata": {},
   "outputs": [
    {
     "data": {
      "text/plain": [
       "[1, 2, 3, [1, 1000]]"
      ]
     },
     "execution_count": 5,
     "metadata": {},
     "output_type": "execute_result"
    }
   ],
   "source": [
    "a"
   ]
  },
  {
   "cell_type": "markdown",
   "metadata": {
    "slideshow": {
     "slide_type": "slide"
    }
   },
   "source": [
    "+ 二维数组的引用和切片"
   ]
  },
  {
   "cell_type": "code",
   "execution_count": 30,
   "metadata": {
    "scrolled": true,
    "slideshow": {
     "slide_type": "-"
    }
   },
   "outputs": [
    {
     "name": "stdout",
     "output_type": "stream",
     "text": [
      "[[1 2 3]\n",
      " [4 5 6]\n",
      " [7 8 9]]\n"
     ]
    },
    {
     "data": {
      "text/plain": [
       "('几种不同的引用方式:', array([7, 8, 9]), array([4, 5, 6]), array([2, 5, 8]), 3, 3)"
      ]
     },
     "execution_count": 30,
     "metadata": {},
     "output_type": "execute_result"
    }
   ],
   "source": [
    "arr2d = np.array([[1, 2, 3], [4, 5, 6], [7, 8, 9]])\n",
    "print(arr2d)\n",
    "\"几种不同的引用方式:\",arr2d[2],arr2d[:][1],arr2d[:,1],arr2d[0][2],arr2d[0, 2]\n",
    "#比较 arr2d[:][1] 和 arr2d[:,1]"
   ]
  },
  {
   "cell_type": "code",
   "execution_count": 31,
   "metadata": {},
   "outputs": [
    {
     "data": {
      "text/plain": [
       "array([[ 999, 1000,    3],\n",
       "       [   4,    5,    6],\n",
       "       [  30,   30,   30]])"
      ]
     },
     "execution_count": 31,
     "metadata": {},
     "output_type": "execute_result"
    }
   ],
   "source": [
    "# 二维数组切片也传地址\n",
    "b=arr2d[2]\n",
    "b1=arr2d[0][:2]\n",
    "b2=arr2d[0][:1]\n",
    "\n",
    "b1[:]=1000\n",
    "b2[:]=999\n",
    "b[:]=30\n",
    "arr2d"
   ]
  },
  {
   "cell_type": "markdown",
   "metadata": {
    "slideshow": {
     "slide_type": "slide"
    }
   },
   "source": [
    "+ 3维数组的引用和切片\n",
    "\n",
    "+ 三层嵌套[],每层一个维度"
   ]
  },
  {
   "cell_type": "code",
   "execution_count": 33,
   "metadata": {
    "slideshow": {
     "slide_type": "-"
    }
   },
   "outputs": [
    {
     "data": {
      "text/plain": [
       "array([[[ 1,  2,  3],\n",
       "        [ 4,  5,  6]],\n",
       "\n",
       "       [[ 7,  8,  9],\n",
       "        [10, 11, 12]]])"
      ]
     },
     "execution_count": 33,
     "metadata": {},
     "output_type": "execute_result"
    }
   ],
   "source": [
    "arr3d = np.array([[[1, 2, 3], [4, 5, 6]], [[7, 8, 9], [10, 11, 12]]])\n",
    "arr3d"
   ]
  },
  {
   "cell_type": "code",
   "execution_count": 34,
   "metadata": {
    "scrolled": true,
    "slideshow": {
     "slide_type": "-"
    }
   },
   "outputs": [
    {
     "data": {
      "text/plain": [
       "(2, 2, 3)"
      ]
     },
     "execution_count": 34,
     "metadata": {},
     "output_type": "execute_result"
    }
   ],
   "source": [
    "arr3d.shape"
   ]
  },
  {
   "cell_type": "code",
   "execution_count": 35,
   "metadata": {
    "scrolled": true,
    "slideshow": {
     "slide_type": "-"
    }
   },
   "outputs": [
    {
     "data": {
      "text/plain": [
       "('第一维：', array([[1, 2, 3],\n",
       "        [4, 5, 6]]), '第二维：', array([1, 2, 3]), '第三维：', 1)"
      ]
     },
     "execution_count": 35,
     "metadata": {},
     "output_type": "execute_result"
    }
   ],
   "source": [
    "\"第一维：\",arr3d[0],\"第二维：\",arr3d[0][0],\"第三维：\",arr3d[0][0][0]"
   ]
  },
  {
   "cell_type": "markdown",
   "metadata": {
    "slideshow": {
     "slide_type": "slide"
    }
   },
   "source": [
    "+ 数组拷贝\n",
    "+ 要生成新的对象(传递数值)，而不是传递地址，需要用到copy函数"
   ]
  },
  {
   "cell_type": "code",
   "execution_count": 36,
   "metadata": {
    "slideshow": {
     "slide_type": "-"
    }
   },
   "outputs": [
    {
     "name": "stdout",
     "output_type": "stream",
     "text": [
      "[[1 2 3]\n",
      " [4 5 6]\n",
      " [7 8 9]]\n"
     ]
    },
    {
     "data": {
      "text/plain": [
       "array([[1, 2, 3],\n",
       "       [4, 5, 6],\n",
       "       [7, 8, 9]])"
      ]
     },
     "execution_count": 36,
     "metadata": {},
     "output_type": "execute_result"
    }
   ],
   "source": [
    "arr2d = np.array([[1, 2, 3], [4, 5, 6], [7, 8, 9]])\n",
    "print(arr2d)\n",
    "old_values=arr2d.copy()\n",
    "old_values "
   ]
  },
  {
   "cell_type": "code",
   "execution_count": 40,
   "metadata": {},
   "outputs": [
    {
     "name": "stdout",
     "output_type": "stream",
     "text": [
      "[[999 999 999]\n",
      " [  4   5   6]\n",
      " [  7   8   9]]\n",
      "copy: [[1 2 3]\n",
      " [4 5 6]\n",
      " [7 8 9]]\n"
     ]
    }
   ],
   "source": [
    "arr2d[0][:] =999\n",
    "print(arr2d)\n",
    "print(\"copy:\",old_values)"
   ]
  },
  {
   "cell_type": "markdown",
   "metadata": {
    "slideshow": {
     "slide_type": "slide"
    }
   },
   "source": [
    "+ 利用切片索引"
   ]
  },
  {
   "cell_type": "code",
   "execution_count": 45,
   "metadata": {
    "slideshow": {
     "slide_type": "-"
    }
   },
   "outputs": [
    {
     "data": {
      "text/plain": [
       "array([ 1,  2,  3,  4, 64])"
      ]
     },
     "execution_count": 45,
     "metadata": {},
     "output_type": "execute_result"
    }
   ],
   "source": [
    "arr[1:6]"
   ]
  },
  {
   "cell_type": "code",
   "execution_count": 46,
   "metadata": {
    "slideshow": {
     "slide_type": "-"
    }
   },
   "outputs": [
    {
     "data": {
      "text/plain": [
       "array([[0, 0, 0],\n",
       "       [4, 5, 6]])"
      ]
     },
     "execution_count": 46,
     "metadata": {},
     "output_type": "execute_result"
    }
   ],
   "source": [
    "arr2d\n",
    "arr2d[:2]"
   ]
  },
  {
   "cell_type": "code",
   "execution_count": 48,
   "metadata": {
    "scrolled": true,
    "slideshow": {
     "slide_type": "-"
    }
   },
   "outputs": [
    {
     "data": {
      "text/plain": [
       "array([[0, 0, 0],\n",
       "       [4, 5, 6],\n",
       "       [7, 8, 9]])"
      ]
     },
     "execution_count": 48,
     "metadata": {},
     "output_type": "execute_result"
    }
   ],
   "source": [
    "#arr2d[1, :2]\n",
    "arr2d"
   ]
  },
  {
   "cell_type": "code",
   "execution_count": 49,
   "metadata": {
    "slideshow": {
     "slide_type": "-"
    }
   },
   "outputs": [
    {
     "data": {
      "text/plain": [
       "array([[0, 0, 0],\n",
       "       [4, 0, 0],\n",
       "       [7, 8, 9]])"
      ]
     },
     "execution_count": 49,
     "metadata": {},
     "output_type": "execute_result"
    }
   ],
   "source": [
    "arr2d[:2, 1:] = 0\n",
    "arr2d"
   ]
  },
  {
   "cell_type": "markdown",
   "metadata": {
    "slideshow": {
     "slide_type": "slide"
    }
   },
   "source": [
    "###  利用布尔值索引"
   ]
  },
  {
   "cell_type": "code",
   "execution_count": 50,
   "metadata": {},
   "outputs": [
    {
     "name": "stdout",
     "output_type": "stream",
     "text": [
      "['Bob' 'Joe' 'Will' 'Bob' 'Will' 'Joe' 'Joe']\n",
      "\n"
     ]
    },
    {
     "data": {
      "text/plain": [
       "array([[ 0.4284,  0.5831,  0.8291,  1.5017],\n",
       "       [ 2.282 ,  0.2246, -0.0124,  0.7796],\n",
       "       [-0.1227, -0.1779, -1.566 , -0.4094],\n",
       "       [-0.253 , -1.3919,  2.0042,  0.0999],\n",
       "       [-0.2978, -1.1485,  0.529 , -0.3879],\n",
       "       [ 0.3699, -0.021 , -0.6435, -0.866 ],\n",
       "       [ 1.3693, -0.3835,  0.2603,  0.2608]])"
      ]
     },
     "execution_count": 50,
     "metadata": {},
     "output_type": "execute_result"
    }
   ],
   "source": [
    "names = np.array(['Bob', 'Joe', 'Will', 'Bob', 'Will', 'Joe', 'Joe'])\n",
    "data = randn(7, 4)\n",
    "print(names,end=\"\\n\\n\")\n",
    "data"
   ]
  },
  {
   "cell_type": "code",
   "execution_count": 51,
   "metadata": {},
   "outputs": [
    {
     "data": {
      "text/plain": [
       "array([ True, False, False,  True, False, False, False], dtype=bool)"
      ]
     },
     "execution_count": 51,
     "metadata": {},
     "output_type": "execute_result"
    }
   ],
   "source": [
    "names == 'Bob'"
   ]
  },
  {
   "cell_type": "code",
   "execution_count": 52,
   "metadata": {},
   "outputs": [
    {
     "data": {
      "text/plain": [
       "array([[ 0.4284,  0.5831,  0.8291,  1.5017],\n",
       "       [-0.253 , -1.3919,  2.0042,  0.0999]])"
      ]
     },
     "execution_count": 52,
     "metadata": {},
     "output_type": "execute_result"
    }
   ],
   "source": [
    "data[names == 'Bob']"
   ]
  },
  {
   "cell_type": "code",
   "execution_count": 53,
   "metadata": {
    "slideshow": {
     "slide_type": "slide"
    }
   },
   "outputs": [
    {
     "data": {
      "text/plain": [
       "array([[ 0.8291,  1.5017],\n",
       "       [ 2.0042,  0.0999]])"
      ]
     },
     "execution_count": 53,
     "metadata": {},
     "output_type": "execute_result"
    }
   ],
   "source": [
    "data[names == 'Bob', 2:]"
   ]
  },
  {
   "cell_type": "code",
   "execution_count": 54,
   "metadata": {},
   "outputs": [
    {
     "data": {
      "text/plain": [
       "array([ 1.5017,  0.0999])"
      ]
     },
     "execution_count": 54,
     "metadata": {},
     "output_type": "execute_result"
    }
   ],
   "source": [
    "data[names == 'Bob', 3]"
   ]
  },
  {
   "cell_type": "code",
   "execution_count": 55,
   "metadata": {},
   "outputs": [
    {
     "data": {
      "text/plain": [
       "array([[ 2.282 ,  0.2246, -0.0124,  0.7796],\n",
       "       [-0.1227, -0.1779, -1.566 , -0.4094],\n",
       "       [-0.2978, -1.1485,  0.529 , -0.3879],\n",
       "       [ 0.3699, -0.021 , -0.6435, -0.866 ],\n",
       "       [ 1.3693, -0.3835,  0.2603,  0.2608]])"
      ]
     },
     "execution_count": 55,
     "metadata": {},
     "output_type": "execute_result"
    }
   ],
   "source": [
    "names != 'Bob'\n",
    "data[names != 'Bob']"
   ]
  },
  {
   "cell_type": "code",
   "execution_count": 56,
   "metadata": {},
   "outputs": [
    {
     "data": {
      "text/plain": [
       "array([ True, False,  True,  True,  True, False, False], dtype=bool)"
      ]
     },
     "execution_count": 56,
     "metadata": {},
     "output_type": "execute_result"
    }
   ],
   "source": [
    "mask = (names == 'Bob') | (names == 'Will')\n",
    "mask "
   ]
  },
  {
   "cell_type": "code",
   "execution_count": 57,
   "metadata": {
    "slideshow": {
     "slide_type": "slide"
    }
   },
   "outputs": [
    {
     "data": {
      "text/plain": [
       "array([[ 0.4284,  0.5831,  0.8291,  1.5017],\n",
       "       [-0.1227, -0.1779, -1.566 , -0.4094],\n",
       "       [-0.253 , -1.3919,  2.0042,  0.0999],\n",
       "       [-0.2978, -1.1485,  0.529 , -0.3879]])"
      ]
     },
     "execution_count": 57,
     "metadata": {},
     "output_type": "execute_result"
    }
   ],
   "source": [
    "data[mask]"
   ]
  },
  {
   "cell_type": "code",
   "execution_count": 58,
   "metadata": {},
   "outputs": [
    {
     "data": {
      "text/plain": [
       "array([[ 0.4284,  0.5831,  0.8291,  1.5017],\n",
       "       [ 2.282 ,  0.2246, -0.0124,  0.7796],\n",
       "       [-0.1227, -0.1779, -1.566 , -0.4094],\n",
       "       [-0.253 , -1.3919,  2.0042,  0.0999],\n",
       "       [-0.2978, -1.1485,  0.529 , -0.3879],\n",
       "       [ 0.3699, -0.021 , -0.6435, -0.866 ],\n",
       "       [ 1.3693, -0.3835,  0.2603,  0.2608]])"
      ]
     },
     "execution_count": 58,
     "metadata": {},
     "output_type": "execute_result"
    }
   ],
   "source": [
    "data"
   ]
  },
  {
   "cell_type": "code",
   "execution_count": 59,
   "metadata": {},
   "outputs": [
    {
     "data": {
      "text/plain": [
       "array([[False, False, False, False],\n",
       "       [False, False,  True, False],\n",
       "       [ True,  True,  True,  True],\n",
       "       [ True,  True, False, False],\n",
       "       [ True,  True, False,  True],\n",
       "       [False,  True,  True,  True],\n",
       "       [False,  True, False, False]], dtype=bool)"
      ]
     },
     "execution_count": 59,
     "metadata": {},
     "output_type": "execute_result"
    }
   ],
   "source": [
    "data<0"
   ]
  },
  {
   "cell_type": "code",
   "execution_count": 60,
   "metadata": {},
   "outputs": [
    {
     "data": {
      "text/plain": [
       "array([[ 0.4284,  0.5831,  0.8291,  1.5017],\n",
       "       [ 2.282 ,  0.2246,  0.    ,  0.7796],\n",
       "       [ 0.    ,  0.    ,  0.    ,  0.    ],\n",
       "       [ 0.    ,  0.    ,  2.0042,  0.0999],\n",
       "       [ 0.    ,  0.    ,  0.529 ,  0.    ],\n",
       "       [ 0.3699,  0.    ,  0.    ,  0.    ],\n",
       "       [ 1.3693,  0.    ,  0.2603,  0.2608]])"
      ]
     },
     "execution_count": 60,
     "metadata": {},
     "output_type": "execute_result"
    }
   ],
   "source": [
    "data[data < 0] = 0\n",
    "#data\n",
    "data"
   ]
  },
  {
   "cell_type": "code",
   "execution_count": 61,
   "metadata": {
    "scrolled": true
   },
   "outputs": [
    {
     "data": {
      "text/plain": [
       "array([[ 7.    ,  7.    ,  7.    ,  7.    ],\n",
       "       [ 2.282 ,  0.2246,  0.    ,  0.7796],\n",
       "       [ 7.    ,  7.    ,  7.    ,  7.    ],\n",
       "       [ 7.    ,  7.    ,  7.    ,  7.    ],\n",
       "       [ 7.    ,  7.    ,  7.    ,  7.    ],\n",
       "       [ 0.3699,  0.    ,  0.    ,  0.    ],\n",
       "       [ 1.3693,  0.    ,  0.2603,  0.2608]])"
      ]
     },
     "execution_count": 61,
     "metadata": {},
     "output_type": "execute_result"
    }
   ],
   "source": [
    "data[names != 'Joe'] = 7\n",
    "data"
   ]
  },
  {
   "cell_type": "markdown",
   "metadata": {
    "slideshow": {
     "slide_type": "slide"
    }
   },
   "source": [
    "###   花式索引\n",
    "\n",
    "利用整数数组进行索引，该引用拷贝数据。"
   ]
  },
  {
   "cell_type": "code",
   "execution_count": 62,
   "metadata": {},
   "outputs": [
    {
     "data": {
      "text/plain": [
       "array([[ 0.,  0.,  0.,  0.],\n",
       "       [ 0.,  0.,  0.,  0.],\n",
       "       [ 0.,  0.,  0.,  0.],\n",
       "       [ 0.,  0.,  0.,  0.],\n",
       "       [ 0.,  0.,  0.,  0.],\n",
       "       [ 0.,  0.,  0.,  0.],\n",
       "       [ 0.,  0.,  0.,  0.],\n",
       "       [ 0.,  0.,  0.,  0.]])"
      ]
     },
     "execution_count": 62,
     "metadata": {},
     "output_type": "execute_result"
    }
   ],
   "source": [
    " np.empty((8, 4))"
   ]
  },
  {
   "cell_type": "code",
   "execution_count": 63,
   "metadata": {
    "scrolled": true
   },
   "outputs": [
    {
     "data": {
      "text/plain": [
       "array([[ 0.,  0.,  0.,  0.],\n",
       "       [ 1.,  1.,  1.,  1.],\n",
       "       [ 2.,  2.,  2.,  2.],\n",
       "       [ 3.,  3.,  3.,  3.],\n",
       "       [ 4.,  4.,  4.,  4.],\n",
       "       [ 5.,  5.,  5.,  5.],\n",
       "       [ 6.,  6.,  6.,  6.],\n",
       "       [ 7.,  7.,  7.,  7.]])"
      ]
     },
     "execution_count": 63,
     "metadata": {},
     "output_type": "execute_result"
    }
   ],
   "source": [
    "arr = np.empty((8, 4))\n",
    "for i in range(8):\n",
    "    arr[i] = i\n",
    "arr "
   ]
  },
  {
   "cell_type": "code",
   "execution_count": 66,
   "metadata": {},
   "outputs": [
    {
     "data": {
      "text/plain": [
       "array([[ 4.,  4.,  4.,  4.],\n",
       "       [ 3.,  3.,  3.,  3.],\n",
       "       [ 0.,  0.,  0.,  0.],\n",
       "       [ 5.,  5.,  5.,  5.]])"
      ]
     },
     "execution_count": 66,
     "metadata": {},
     "output_type": "execute_result"
    }
   ],
   "source": [
    "arr[[4, 3, 0, 6]]"
   ]
  },
  {
   "cell_type": "code",
   "execution_count": 67,
   "metadata": {
    "slideshow": {
     "slide_type": "-"
    }
   },
   "outputs": [
    {
     "data": {
      "text/plain": [
       "array([[ 5.,  5.,  5.,  5.],\n",
       "       [ 3.,  3.,  3.,  3.],\n",
       "       [ 1.,  1.,  1.,  1.]])"
      ]
     },
     "execution_count": 67,
     "metadata": {},
     "output_type": "execute_result"
    }
   ],
   "source": [
    "arr[[-3, -5, -7]]\n",
    "#- 表示倒序"
   ]
  },
  {
   "cell_type": "code",
   "execution_count": 68,
   "metadata": {
    "slideshow": {
     "slide_type": "slide"
    }
   },
   "outputs": [
    {
     "data": {
      "text/plain": [
       "array([[ 0,  1,  2,  3],\n",
       "       [ 4,  5,  6,  7],\n",
       "       [ 8,  9, 10, 11],\n",
       "       [12, 13, 14, 15],\n",
       "       [16, 17, 18, 19],\n",
       "       [20, 21, 22, 23],\n",
       "       [24, 25, 26, 27],\n",
       "       [28, 29, 30, 31]])"
      ]
     },
     "execution_count": 68,
     "metadata": {},
     "output_type": "execute_result"
    }
   ],
   "source": [
    "arr = np.arange(32).reshape((8, 4))\n",
    "arr"
   ]
  },
  {
   "cell_type": "code",
   "execution_count": 69,
   "metadata": {
    "slideshow": {
     "slide_type": "-"
    }
   },
   "outputs": [
    {
     "data": {
      "text/plain": [
       "array([[ 4,  7,  5,  6],\n",
       "       [20, 23, 21, 22],\n",
       "       [28, 31, 29, 30],\n",
       "       [ 8, 11,  9, 10]])"
      ]
     },
     "execution_count": 69,
     "metadata": {},
     "output_type": "execute_result"
    }
   ],
   "source": [
    "arr[[1, 5, 7, 2]][:, [0, 3, 1, 2]]"
   ]
  },
  {
   "cell_type": "code",
   "execution_count": 70,
   "metadata": {
    "slideshow": {
     "slide_type": "-"
    }
   },
   "outputs": [
    {
     "data": {
      "text/plain": [
       "array([ 4, 23, 29, 10])"
      ]
     },
     "execution_count": 70,
     "metadata": {},
     "output_type": "execute_result"
    }
   ],
   "source": [
    "arr[[1, 5, 7, 2], [0, 3, 1, 2]]"
   ]
  },
  {
   "cell_type": "markdown",
   "metadata": {
    "slideshow": {
     "slide_type": "slide"
    }
   },
   "source": [
    "###  转置"
   ]
  },
  {
   "cell_type": "code",
   "execution_count": 71,
   "metadata": {
    "slideshow": {
     "slide_type": "-"
    }
   },
   "outputs": [
    {
     "data": {
      "text/plain": [
       "array([[ 0,  5, 10],\n",
       "       [ 1,  6, 11],\n",
       "       [ 2,  7, 12],\n",
       "       [ 3,  8, 13],\n",
       "       [ 4,  9, 14]])"
      ]
     },
     "execution_count": 71,
     "metadata": {},
     "output_type": "execute_result"
    }
   ],
   "source": [
    "arr = np.arange(15).reshape((3, 5)) \n",
    "arr\n",
    "arr.T"
   ]
  },
  {
   "cell_type": "code",
   "execution_count": 72,
   "metadata": {
    "slideshow": {
     "slide_type": "-"
    }
   },
   "outputs": [
    {
     "data": {
      "text/plain": [
       "array([[ 10.2805,  -3.794 ,  -1.4193],\n",
       "       [ -3.794 ,   7.043 ,  -0.4982],\n",
       "       [ -1.4193,  -0.4982,   6.6694]])"
      ]
     },
     "execution_count": 72,
     "metadata": {},
     "output_type": "execute_result"
    }
   ],
   "source": [
    "arr = np.random.randn(6, 3)\n",
    "np.dot(arr.T, arr)"
   ]
  },
  {
   "cell_type": "code",
   "execution_count": 90,
   "metadata": {},
   "outputs": [
    {
     "data": {
      "text/plain": [
       "array([[[ 0,  1,  2,  3],\n",
       "        [ 4,  5,  6,  7]],\n",
       "\n",
       "       [[ 8,  9, 10, 11],\n",
       "        [12, 13, 14, 15]]])"
      ]
     },
     "execution_count": 90,
     "metadata": {},
     "output_type": "execute_result"
    }
   ],
   "source": [
    "arr =np.arange(16).reshape((2, 2, 4))\n",
    "arr"
   ]
  },
  {
   "cell_type": "markdown",
   "metadata": {
    "slideshow": {
     "slide_type": "slide"
    }
   },
   "source": [
    "##  通用函数，快速的元素级数组函数\n",
    " "
   ]
  },
  {
   "cell_type": "code",
   "execution_count": 95,
   "metadata": {},
   "outputs": [
    {
     "data": {
      "text/plain": [
       "array([    1.    ,     2.7183,     7.3891,    20.0855,    54.5982,\n",
       "         148.4132,   403.4288,  1096.6332,  2980.958 ,  8103.0839])"
      ]
     },
     "execution_count": 95,
     "metadata": {},
     "output_type": "execute_result"
    }
   ],
   "source": [
    "arr = np.arange(10)\n",
    "np.sqrt(arr)\n",
    "np.exp(arr)"
   ]
  },
  {
   "cell_type": "code",
   "execution_count": 139,
   "metadata": {},
   "outputs": [
    {
     "name": "stdout",
     "output_type": "stream",
     "text": [
      "[-1.1185  0.0937  0.2493 -0.4965  0.5028 -0.3574  0.6705  1.884 ]\n",
      "[-0.8791 -1.6034 -0.7306 -0.8252 -1.1263 -0.2182  0.8934  0.3222]\n"
     ]
    },
    {
     "data": {
      "text/plain": [
       "array([-0.8791,  0.0937,  0.2493, -0.4965,  0.5028, -0.2182,  0.8934,\n",
       "        1.884 ])"
      ]
     },
     "execution_count": 139,
     "metadata": {},
     "output_type": "execute_result"
    }
   ],
   "source": [
    "x = randn(8)\n",
    "y = randn(8)\n",
    "print(x)\n",
    "print(y)\n",
    "np.maximum(x, y) #  x,y生成一个2为元组，对应位置取x,y的最大值"
   ]
  },
  {
   "cell_type": "code",
   "execution_count": 97,
   "metadata": {},
   "outputs": [
    {
     "name": "stdout",
     "output_type": "stream",
     "text": [
      "[-3.8957 -2.157  -2.9302 -1.6644  3.0934 -2.1484  4.5131]\n"
     ]
    },
    {
     "data": {
      "text/plain": [
       "(array([-0.8957, -0.157 , -0.9302, -0.6644,  0.0934, -0.1484,  0.5131]),\n",
       " array([-3., -2., -2., -1.,  3., -2.,  4.]))"
      ]
     },
     "execution_count": 97,
     "metadata": {},
     "output_type": "execute_result"
    }
   ],
   "source": [
    "arr = randn(7) * 5\n",
    "print(arr)\n",
    "np.modf(arr)"
   ]
  },
  {
   "cell_type": "markdown",
   "metadata": {
    "slideshow": {
     "slide_type": "slide"
    }
   },
   "source": [
    "## 使用数组处理数据"
   ]
  },
  {
   "cell_type": "code",
   "execution_count": 98,
   "metadata": {
    "scrolled": true
   },
   "outputs": [
    {
     "data": {
      "text/plain": [
       "array([[-5.  , -5.  , -5.  , ..., -5.  , -5.  , -5.  ],\n",
       "       [-4.99, -4.99, -4.99, ..., -4.99, -4.99, -4.99],\n",
       "       [-4.98, -4.98, -4.98, ..., -4.98, -4.98, -4.98],\n",
       "       ..., \n",
       "       [ 4.97,  4.97,  4.97, ...,  4.97,  4.97,  4.97],\n",
       "       [ 4.98,  4.98,  4.98, ...,  4.98,  4.98,  4.98],\n",
       "       [ 4.99,  4.99,  4.99, ...,  4.99,  4.99,  4.99]])"
      ]
     },
     "execution_count": 98,
     "metadata": {},
     "output_type": "execute_result"
    }
   ],
   "source": [
    "#meshgrid生成网格\n",
    "points = np.arange(-5, 5, 0.01) # 1000 equally spaced points\n",
    "xs, ys = np.meshgrid(points, points)\n",
    "\n",
    "ys"
   ]
  },
  {
   "cell_type": "code",
   "execution_count": 99,
   "metadata": {},
   "outputs": [
    {
     "data": {
      "text/plain": [
       "array([[-5.  , -4.99, -4.98, ...,  4.97,  4.98,  4.99],\n",
       "       [-5.  , -4.99, -4.98, ...,  4.97,  4.98,  4.99],\n",
       "       [-5.  , -4.99, -4.98, ...,  4.97,  4.98,  4.99],\n",
       "       ..., \n",
       "       [-5.  , -4.99, -4.98, ...,  4.97,  4.98,  4.99],\n",
       "       [-5.  , -4.99, -4.98, ...,  4.97,  4.98,  4.99],\n",
       "       [-5.  , -4.99, -4.98, ...,  4.97,  4.98,  4.99]])"
      ]
     },
     "execution_count": 99,
     "metadata": {},
     "output_type": "execute_result"
    }
   ],
   "source": [
    "xs"
   ]
  },
  {
   "cell_type": "code",
   "execution_count": 100,
   "metadata": {
    "slideshow": {
     "slide_type": "slide"
    }
   },
   "outputs": [],
   "source": [
    "from matplotlib.pyplot import imshow, title"
   ]
  },
  {
   "cell_type": "code",
   "execution_count": 101,
   "metadata": {
    "scrolled": true
   },
   "outputs": [
    {
     "data": {
      "text/plain": [
       "<matplotlib.text.Text at 0x1f4b67500f0>"
      ]
     },
     "execution_count": 101,
     "metadata": {},
     "output_type": "execute_result"
    },
    {
     "data": {
      "image/png": "[encoded data removed]",
      "text/plain": [
       "<matplotlib.figure.Figure at 0x1f4b69cd2b0>"
      ]
     },
     "metadata": {},
     "output_type": "display_data"
    }
   ],
   "source": [
    "import matplotlib.pyplot as plt\n",
    "z = np.sqrt(xs ** 2 + ys ** 2)\n",
    "z\n",
    "plt.imshow(z, cmap=plt.cm.gray); plt.colorbar()\n",
    "plt.title(\"Image plot of $\\sqrt{x^2 + y^2}$ for a grid of values\")"
   ]
  },
  {
   "cell_type": "code",
   "execution_count": 3,
   "metadata": {
    "scrolled": false,
    "slideshow": {
     "slide_type": "slide"
    }
   },
   "outputs": [
    {
     "data": {
      "text/plain": [
       "<matplotlib.image.AxesImage at 0x11cc05fa0>"
      ]
     },
     "execution_count": 3,
     "metadata": {},
     "output_type": "execute_result"
    },
    {
     "data": {
      "image/png": "[encoded data removed]",
      "text/plain": [
       "<Figure size 432x288 with 1 Axes>"
      ]
     },
     "metadata": {
      "needs_background": "light"
     },
     "output_type": "display_data"
    }
   ],
   "source": [
    "#import skimage\n",
    "import matplotlib.pyplot as plt\n",
    "from skimage import io\n",
    "p=io.imread(\"./fdslogo.jpg\")\n",
    "plt.imshow(p)"
   ]
  },
  {
   "cell_type": "code",
   "execution_count": 4,
   "metadata": {},
   "outputs": [
    {
     "data": {
      "text/plain": [
       "array([255, 255, 255], dtype=uint8)"
      ]
     },
     "execution_count": 4,
     "metadata": {},
     "output_type": "execute_result"
    }
   ],
   "source": [
    "p[0,0,:]"
   ]
  },
  {
   "cell_type": "code",
   "execution_count": 5,
   "metadata": {},
   "outputs": [
    {
     "data": {
      "text/plain": [
       "(960, 960, 3)"
      ]
     },
     "execution_count": 5,
     "metadata": {},
     "output_type": "execute_result"
    }
   ],
   "source": [
    "p.shape"
   ]
  },
  {
   "cell_type": "code",
   "execution_count": 6,
   "metadata": {
    "scrolled": true,
    "slideshow": {
     "slide_type": "-"
    }
   },
   "outputs": [
    {
     "data": {
      "text/plain": [
       "array([255, 255, 255], dtype=uint8)"
      ]
     },
     "execution_count": 6,
     "metadata": {},
     "output_type": "execute_result"
    }
   ],
   "source": [
    "p[1,1,:]"
   ]
  },
  {
   "cell_type": "markdown",
   "metadata": {
    "slideshow": {
     "slide_type": "slide"
    }
   },
   "source": [
    "### 条件表达式,np.where"
   ]
  },
  {
   "cell_type": "code",
   "execution_count": 106,
   "metadata": {},
   "outputs": [],
   "source": [
    "xarr = np.array([1.1, 1.2, 1.3, 1.4, 1.5])\n",
    "yarr = np.array([2.1, 2.2, 2.3, 2.4, 2.5])\n",
    "cond = np.array([True, False, True, True, False])"
   ]
  },
  {
   "cell_type": "code",
   "execution_count": 107,
   "metadata": {},
   "outputs": [
    {
     "data": {
      "text/plain": [
       "array([ 1.1,  2.2,  1.3,  1.4,  2.5])"
      ]
     },
     "execution_count": 107,
     "metadata": {},
     "output_type": "execute_result"
    }
   ],
   "source": [
    "result = np.where(cond, xarr, yarr)  ## if cond return xarr else return yarr\n",
    "result"
   ]
  },
  {
   "cell_type": "code",
   "execution_count": 108,
   "metadata": {},
   "outputs": [
    {
     "data": {
      "text/plain": [
       "array([[ 2.    , -0.8001,  2.    ,  2.    ],\n",
       "       [ 2.    , -1.1511, -0.458 ,  2.    ],\n",
       "       [-0.169 ,  2.    , -0.1923, -0.443 ],\n",
       "       [-0.0794,  2.    , -0.2228, -1.6255]])"
      ]
     },
     "execution_count": 108,
     "metadata": {},
     "output_type": "execute_result"
    }
   ],
   "source": [
    "arr = randn(4, 4)\n",
    "arr\n",
    "np.where(arr > 0, 2, -2)\n",
    "np.where(arr > 0, 2, arr) # set only positive values to 2#"
   ]
  },
  {
   "cell_type": "markdown",
   "metadata": {
    "slideshow": {
     "slide_type": "slide"
    }
   },
   "source": [
    "###  数学及统计函数\n",
    "\n",
    "包括函数 sum, mean, std,var, min, max, argmin,argmax,cumsum,cumprod"
   ]
  },
  {
   "cell_type": "code",
   "execution_count": 109,
   "metadata": {},
   "outputs": [
    {
     "data": {
      "text/plain": [
       "-7.1066868542055159"
      ]
     },
     "execution_count": 109,
     "metadata": {},
     "output_type": "execute_result"
    }
   ],
   "source": [
    "arr = np.random.randn(5, 4) # normally-distributed data\n",
    "arr.mean()\n",
    "np.mean(arr)\n",
    "arr.sum()"
   ]
  },
  {
   "cell_type": "code",
   "execution_count": 110,
   "metadata": {
    "slideshow": {
     "slide_type": "slide"
    }
   },
   "outputs": [
    {
     "name": "stdout",
     "output_type": "stream",
     "text": [
      "[[ 0.8082  0.8331 -1.5653 -0.997 ]\n",
      " [-4.3703 -1.0217 -0.4008 -0.2977]\n",
      " [ 0.4127 -0.0656  0.4016  0.8074]\n",
      " [-0.7379  1.6584 -1.9362 -0.968 ]\n",
      " [ 1.2921 -0.6088 -0.5618  0.2105]]\n",
      "-0.35533434271\n",
      "[-0.519   0.1591 -0.8125 -0.249 ]\n"
     ]
    },
    {
     "data": {
      "text/plain": [
       "array([-2.595 ,  0.7955, -4.0624, -1.2448])"
      ]
     },
     "execution_count": 110,
     "metadata": {},
     "output_type": "execute_result"
    }
   ],
   "source": [
    "print(arr)\n",
    "print(arr.mean())\n",
    "print(arr.mean(axis=0))\n",
    "arr.sum(0)"
   ]
  },
  {
   "cell_type": "code",
   "execution_count": 140,
   "metadata": {},
   "outputs": [
    {
     "data": {
      "text/plain": [
       "array([[  0,   0,   0],\n",
       "       [  3,  12,  60],\n",
       "       [  6,  42, 336]], dtype=int32)"
      ]
     },
     "execution_count": 140,
     "metadata": {},
     "output_type": "execute_result"
    }
   ],
   "source": [
    "arr = np.array([[0, 1, 2], [3, 4, 5], [6, 7, 8]])\n",
    "arr.cumsum(1)\n",
    "arr.cumprod(1)"
   ]
  },
  {
   "cell_type": "markdown",
   "metadata": {
    "slideshow": {
     "slide_type": "slide"
    }
   },
   "source": [
    "### Methods for boolean arrays"
   ]
  },
  {
   "cell_type": "code",
   "execution_count": 154,
   "metadata": {},
   "outputs": [
    {
     "data": {
      "text/plain": [
       "54"
      ]
     },
     "execution_count": 154,
     "metadata": {},
     "output_type": "execute_result"
    }
   ],
   "source": [
    "arr = randn(100)\n",
    "(arr > 0).sum() # Number of positive values"
   ]
  },
  {
   "cell_type": "code",
   "execution_count": 113,
   "metadata": {},
   "outputs": [
    {
     "data": {
      "text/plain": [
       "False"
      ]
     },
     "execution_count": 113,
     "metadata": {},
     "output_type": "execute_result"
    }
   ],
   "source": [
    "bools = np.array([False, False, True, False])\n",
    "bools.any()\n",
    "bools.all()"
   ]
  },
  {
   "cell_type": "markdown",
   "metadata": {
    "slideshow": {
     "slide_type": "slide"
    }
   },
   "source": [
    "### Sorting"
   ]
  },
  {
   "cell_type": "code",
   "execution_count": 114,
   "metadata": {},
   "outputs": [
    {
     "data": {
      "text/plain": [
       "array([-1.9452, -0.4968,  0.216 ,  0.6045,  0.6046,  0.8408,  1.2012,\n",
       "        2.4475])"
      ]
     },
     "execution_count": 114,
     "metadata": {},
     "output_type": "execute_result"
    }
   ],
   "source": [
    "arr = randn(8)\n",
    "arr\n",
    "arr.sort()\n",
    "arr"
   ]
  },
  {
   "cell_type": "code",
   "execution_count": 27,
   "metadata": {
    "scrolled": true
   },
   "outputs": [
    {
     "name": "stdout",
     "output_type": "stream",
     "text": [
      "[[-0.6949  1.2335  2.3124]\n",
      " [-1.2293  1.3576 -0.2191]\n",
      " [ 0.0377  2.1066  1.0451]\n",
      " [-1.538  -0.9314  0.8158]\n",
      " [ 0.659   0.196  -1.4613]]\n"
     ]
    },
    {
     "data": {
      "text/plain": [
       "array([[-1.538 , -0.9314, -1.4613],\n",
       "       [-1.2293,  0.196 , -0.2191],\n",
       "       [-0.6949,  1.2335,  0.8158],\n",
       "       [ 0.0377,  1.3576,  1.0451],\n",
       "       [ 0.659 ,  2.1066,  2.3124]])"
      ]
     },
     "execution_count": 27,
     "metadata": {},
     "output_type": "execute_result"
    }
   ],
   "source": [
    "arr = randn(5, 3)\n",
    "print(arr)\n",
    "arr.sort(0) ## 0每列排序，1，每行\n",
    "arr"
   ]
  },
  {
   "cell_type": "code",
   "execution_count": 29,
   "metadata": {},
   "outputs": [
    {
     "name": "stdout",
     "output_type": "stream",
     "text": [
      "[[ 0.418   0.5854 -0.271 ]\n",
      " [ 1.2828  0.2964 -0.3823]\n",
      " [-0.2308 -0.509   0.1124]\n",
      " [-1.0308 -0.3335 -0.453 ]\n",
      " [ 0.8622 -1.1119 -1.2908]]\n"
     ]
    },
    {
     "data": {
      "text/plain": [
       "array([[-0.271 ,  0.418 ,  0.5854],\n",
       "       [-0.3823,  0.2964,  1.2828],\n",
       "       [-0.509 , -0.2308,  0.1124],\n",
       "       [-1.0308, -0.453 , -0.3335],\n",
       "       [-1.2908, -1.1119,  0.8622]])"
      ]
     },
     "execution_count": 29,
     "metadata": {},
     "output_type": "execute_result"
    }
   ],
   "source": [
    "arr = randn(5, 3)\n",
    "print(arr)\n",
    "arr.sort(1) ## 0每列排序，1，每行排序\n",
    "arr\n"
   ]
  },
  {
   "cell_type": "markdown",
   "metadata": {
    "slideshow": {
     "slide_type": "slide"
    }
   },
   "source": [
    "### Unique and other set logic\n",
    "\n",
    "函数包括：unique(x),intersect1d(x,y),union1d(x,y),in1d(x,y),setdiff1d(x,y),setxor1d(x,y)"
   ]
  },
  {
   "cell_type": "code",
   "execution_count": 117,
   "metadata": {
    "slideshow": {
     "slide_type": "-"
    }
   },
   "outputs": [
    {
     "name": "stdout",
     "output_type": "stream",
     "text": [
      "['Bob' 'Joe' 'Will']\n"
     ]
    },
    {
     "data": {
      "text/plain": [
       "array([1, 2, 3, 4])"
      ]
     },
     "execution_count": 117,
     "metadata": {},
     "output_type": "execute_result"
    }
   ],
   "source": [
    "names = np.array(['Bob', 'Joe', 'Will', 'Bob', 'Will', 'Joe', 'Joe'])\n",
    "print(np.unique(names))\n",
    "ints = np.array([3, 3, 3, 2, 2, 1, 1, 4, 4])\n",
    "np.unique(ints)"
   ]
  },
  {
   "cell_type": "code",
   "execution_count": 118,
   "metadata": {
    "slideshow": {
     "slide_type": "-"
    }
   },
   "outputs": [
    {
     "data": {
      "text/plain": [
       "['Bob', 'Joe', 'Will']"
      ]
     },
     "execution_count": 118,
     "metadata": {},
     "output_type": "execute_result"
    }
   ],
   "source": [
    "sorted(set(names))"
   ]
  },
  {
   "cell_type": "code",
   "execution_count": 119,
   "metadata": {
    "slideshow": {
     "slide_type": "-"
    }
   },
   "outputs": [
    {
     "data": {
      "text/plain": [
       "array([ True, False, False,  True,  True, False,  True], dtype=bool)"
      ]
     },
     "execution_count": 119,
     "metadata": {},
     "output_type": "execute_result"
    }
   ],
   "source": [
    "values = np.array([6, 0, 0, 3, 2, 5, 6])\n",
    "np.in1d(values, [2, 3, 6])"
   ]
  },
  {
   "cell_type": "markdown",
   "metadata": {
    "slideshow": {
     "slide_type": "slide"
    }
   },
   "source": [
    "## 数组的输入和输出"
   ]
  },
  {
   "cell_type": "code",
   "execution_count": 120,
   "metadata": {},
   "outputs": [],
   "source": [
    "arr = np.arange(10)\n",
    "np.save('some_array', arr)"
   ]
  },
  {
   "cell_type": "code",
   "execution_count": 121,
   "metadata": {},
   "outputs": [],
   "source": [
    "a=np.load('some_array.npy')"
   ]
  },
  {
   "cell_type": "code",
   "execution_count": 122,
   "metadata": {},
   "outputs": [
    {
     "data": {
      "text/plain": [
       "array([0, 1, 2, 3, 4, 5, 6, 7, 8, 9])"
      ]
     },
     "execution_count": 122,
     "metadata": {},
     "output_type": "execute_result"
    }
   ],
   "source": [
    "a"
   ]
  },
  {
   "cell_type": "code",
   "execution_count": 30,
   "metadata": {},
   "outputs": [
    {
     "data": {
      "text/plain": [
       "array([0, 1, 2, 3, 4, 5, 6, 7, 8, 9])"
      ]
     },
     "execution_count": 30,
     "metadata": {},
     "output_type": "execute_result"
    }
   ],
   "source": [
    "#np.savez,多个数组\n",
    "arch = np.load('array_archive.npz')\n",
    "arch['b']"
   ]
  },
  {
   "cell_type": "markdown",
   "metadata": {
    "slideshow": {
     "slide_type": "slide"
    }
   },
   "source": [
    "### Saving and loading text files"
   ]
  },
  {
   "cell_type": "code",
   "execution_count": 124,
   "metadata": {
    "scrolled": true
   },
   "outputs": [
    {
     "name": "stdout",
     "output_type": "stream",
     "text": [
      "-0.951266864671,-0.64723096535,1.09667101587,0.400586955639\n",
      "-1.40858316447,0.643109396866,-1.55032379004,-0.463958033067\n",
      "0.496607504203,-1.79963950946,0.622557557274,1.30738800961\n"
     ]
    }
   ],
   "source": [
    "!type data\\array_ex.txt"
   ]
  },
  {
   "cell_type": "code",
   "execution_count": 125,
   "metadata": {},
   "outputs": [
    {
     "data": {
      "text/plain": [
       "array([[-0.9513, -0.6472,  1.0967,  0.4006],\n",
       "       [-1.4086,  0.6431, -1.5503, -0.464 ],\n",
       "       [ 0.4966, -1.7996,  0.6226,  1.3074]])"
      ]
     },
     "execution_count": 125,
     "metadata": {},
     "output_type": "execute_result"
    }
   ],
   "source": [
    "arr = np.loadtxt('data/array_ex.txt', delimiter=',')\n",
    "arr"
   ]
  },
  {
   "cell_type": "markdown",
   "metadata": {
    "slideshow": {
     "slide_type": "slide"
    }
   },
   "source": [
    "## Linear algebra\n",
    "\n",
    "函数包括：diag,dot,trace,det,eig,inv,pinv,qr,svd,solve,lstsq"
   ]
  },
  {
   "cell_type": "code",
   "execution_count": 126,
   "metadata": {},
   "outputs": [
    {
     "name": "stdout",
     "output_type": "stream",
     "text": [
      "[[ 1.  2.  3.]\n",
      " [ 4.  5.  6.]]\n",
      "[[  6.  23.]\n",
      " [ -1.   7.]\n",
      " [  8.   9.]]\n"
     ]
    },
    {
     "data": {
      "text/plain": [
       "array([[  28.,   64.],\n",
       "       [  67.,  181.]])"
      ]
     },
     "execution_count": 126,
     "metadata": {},
     "output_type": "execute_result"
    }
   ],
   "source": [
    "x = np.array([[1., 2., 3.], [4., 5., 6.]])\n",
    "y = np.array([[6., 23.], [-1, 7], [8, 9]])\n",
    "print(x)\n",
    "print(y)\n",
    "x.dot(y)  # equivalently np.dot(x, y)"
   ]
  },
  {
   "cell_type": "code",
   "execution_count": 127,
   "metadata": {
    "slideshow": {
     "slide_type": "slide"
    }
   },
   "outputs": [
    {
     "name": "stdout",
     "output_type": "stream",
     "text": [
      "[ 1.  1.  1.]\n"
     ]
    },
    {
     "data": {
      "text/plain": [
       "array([  6.,  15.])"
      ]
     },
     "execution_count": 127,
     "metadata": {},
     "output_type": "execute_result"
    }
   ],
   "source": [
    "print(np.ones(3))\n",
    "np.dot(x, np.ones(3))"
   ]
  },
  {
   "cell_type": "markdown",
   "metadata": {
    "slideshow": {
     "slide_type": "slide"
    }
   },
   "source": [
    "numpy.linalg中有更多矩阵函数。"
   ]
  },
  {
   "cell_type": "code",
   "execution_count": 128,
   "metadata": {},
   "outputs": [
    {
     "data": {
      "text/plain": [
       "array([[-10.6008,   4.2297,   9.0275,  -1.2605,   4.9558],\n",
       "       [  0.    ,  -3.952 ,  -4.228 ,  -4.5512,   2.3925],\n",
       "       [  0.    ,   0.    ,  -3.9131,  -0.2853,  -6.2165],\n",
       "       [  0.    ,   0.    ,   0.    ,  -1.8914,   0.36  ],\n",
       "       [  0.    ,   0.    ,   0.    ,   0.    ,   0.536 ]])"
      ]
     },
     "execution_count": 128,
     "metadata": {},
     "output_type": "execute_result"
    }
   ],
   "source": [
    "from numpy.linalg import inv, qr\n",
    "X = randn(5, 5)\n",
    "mat = X.T.dot(X)\n",
    "inv(mat)\n",
    "mat.dot(inv(mat))\n",
    "q, r = qr(mat)\n",
    "r"
   ]
  },
  {
   "cell_type": "markdown",
   "metadata": {
    "slideshow": {
     "slide_type": "slide"
    }
   },
   "source": [
    "## Random number generation\n",
    "\n",
    "seed,permutation,shuffle,rand,randit,randn,vinomial,normal,beta,chisquare,gamma,uniform等"
   ]
  },
  {
   "cell_type": "code",
   "execution_count": 129,
   "metadata": {},
   "outputs": [
    {
     "data": {
      "text/plain": [
       "array([[-1.2618,  1.1544, -0.6608,  0.2324],\n",
       "       [-0.5089,  0.6056,  0.755 , -1.4125],\n",
       "       [ 1.3507,  0.6583,  0.7353,  1.5432],\n",
       "       [-1.2186, -0.7663,  0.2028, -0.1586]])"
      ]
     },
     "execution_count": 129,
     "metadata": {},
     "output_type": "execute_result"
    }
   ],
   "source": [
    "samples = np.random.normal(size=(4, 4))\n",
    "samples\n"
   ]
  },
  {
   "cell_type": "markdown",
   "metadata": {
    "slideshow": {
     "slide_type": "slide"
    }
   },
   "source": [
    "## 作业\n",
    "\n",
    "1.  给定一个二维数组，每行是一个向量。找出所有不同的行。\n",
    "比如： \n",
    "\n",
    "```x = np.array([[1., 2., 3.], [4., 5., 6.],[1., 2., 3.], [4., 5., 6.]]),则\n",
    "x[:2]，即x的第0,1行，array([[ 1.,  2.,  3.],[ 4.,  5.,  6.]])就是要找到行。\n",
    "```\n",
    "\n",
    "备注：请不要直接调用numpy.unique\n",
    "\n",
    "2.  a).产生正态数据数据向量 Z,长度为T， 建立一个二维数组，使其第一行为 (Z[0],Z[1],Z[2])，然后每一行都后移一位 （因此最后一行为 (Z[T-3],Z[T-2],Z[T-1] );b). 计算每列数据的样本均值，方差，各列之间的协方差。\n",
    " \n",
    "3. a). 随机生成一个1000行50列二维数组，每个元素等概率取值0，1，2，并将该数组按第1列递增和第2列递减对每行排序，即先按第一列递增排序，然后在第一列每组中， 按第二列递减排序。 b). 编一个函数sortbycols(data,cols,descending)，实现行排序。给定参数 data是二维数值，cols是数或list,给出需要排序的列，descending是布尔值或布尔向量，如果是一个布尔值，则所有列都按该顺序排，如果descending是和cols等长的list，则各列按descending给定的顺序排。\n",
    "4.  熟悉学习numpy中的现金流函数, np.pv,np.fv,np.nper,np.pmt,np.rate, 然后编制一个函数，计算给定现金流(array)，利率(array),任意时刻(t)的现金价值。"
   ]
  },
  {
   "cell_type": "code",
   "execution_count": 31,
   "metadata": {
    "scrolled": false
   },
   "outputs": [
    {
     "name": "stdout",
     "output_type": "stream",
     "text": [
      "[0 2 0 2 1 2 2 1 0 2 2 1 1 1 0 2 2 1 2 1 1 1 0 1 2 1 2 2 0 2 2 2 0 0 2 1 0\n",
      " 2 0 1 0 0 2 2 1 2 1 2 0 1]\n",
      "[0 2 0 2 1 0 1 1 0 1 0 1 0 2 1 0 1 1 0 1 2 1 1 0 2 0 2 2 0 0 1 1 0 1 1 0 1\n",
      " 2 2 0 0 0 1 0 1 2 2 1 2 2]\n",
      "[0 2 1 2 2 2 0 1 1 1 1 1 1 0 0 1 1 1 2 1 1 0 1 2 0 0 2 0 1 0 2 2 0 1 2 2 0\n",
      " 0 2 1 2 2 1 2 0 0 0 0 0 1]\n",
      "[0 2 2 1 2 0 1 2 2 2 1 2 1 0 1 0 1 0 1 1 0 2 0 1 1 1 0 1 1 0 2 1 1 0 1 0 1\n",
      " 0 2 1 0 1 2 0 0 0 1 2 2 2]\n",
      "[0 2 1 0 0 2 1 1 2 0 1 0 0 0 0 2 1 2 2 0 1 1 2 0 1 1 1 2 2 2 2 0 0 2 1 1 0\n",
      " 0 2 0 0 2 1 2 0 0 1 1 2 0]\n",
      "[0 2 1 0 2 2 1 1 0 0 0 0 1 0 2 1 2 0 0 1 1 1 2 0 1 2 0 2 1 0 0 1 1 0 2 0 2\n",
      " 0 1 2 1 0 2 0 2 2 1 2 0 1]\n",
      "[0 2 1 0 2 2 1 2 0 1 0 0 1 1 0 1 0 1 0 0 2 1 2 0 1 2 0 1 2 2 1 0 1 2 0 2 1\n",
      " 2 1 1 2 0 0 0 2 0 0 1 1 0]\n",
      "[0 2 1 1 1 0 0 0 2 1 1 0 0 2 0 2 0 2 2 1 0 0 1 2 1 1 1 1 0 1 1 1 0 1 1 1 0\n",
      " 0 0 1 2 2 0 2 1 1 0 0 0 1]\n",
      "[0 2 0 2 2 0 0 1 0 1 0 0 1 2 1 1 0 1 2 1 0 1 2 0 0 2 1 1 2 2 1 1 1 0 2 1 2\n",
      " 2 1 0 1 1 0 1 1 2 1 2 1 0]\n",
      "[0 2 0 2 1 0 1 1 1 1 0 1 1 2 1 1 2 1 1 2 2 1 0 1 2 2 1 0 0 2 1 2 0 2 2 1 2\n",
      " 1 0 1 2 1 0 1 0 2 0 1 2 0]\n",
      "[0 2 0 1 1 0 2 0 2 1 1 0 1 0 0 2 0 2 1 1 0 2 0 0 2 2 1 0 1 1 2 2 2 1 0 0 1\n",
      " 1 1 1 1 1 0 2 1 2 0 2 2 0]\n",
      "[0 2 0 0 1 1 2 0 1 2 2 2 1 0 2 1 1 0 0 1 0 0 1 0 1 2 1 2 1 2 0 0 1 0 2 0 1\n",
      " 0 0 2 1 0 2 2 2 2 1 0 2 0]\n",
      "[0 2 1 2 2 2 1 2 0 0 0 0 2 2 2 2 0 1 1 2 1 0 1 1 0 1 1 0 2 1 1 0 1 1 1 1 0\n",
      " 2 2 1 1 0 0 2 2 2 2 2 2 1]\n",
      "[0 2 1 2 0 0 1 2 0 2 0 2 0 1 1 2 2 1 2 0 2 2 2 1 0 0 2 0 2 2 0 1 1 1 1 1 0\n",
      " 2 1 0 2 1 1 1 1 0 2 0 2 0]\n",
      "[0 2 2 0 0 2 1 1 2 2 1 2 1 1 1 0 1 2 2 2 0 1 0 2 1 1 2 1 0 2 0 0 2 2 2 0 2\n",
      " 2 2 1 2 2 0 0 2 2 2 0 1 0]\n",
      "[0 2 0 2 2 0 1 1 2 2 1 1 1 0 2 0 2 1 0 0 2 0 0 1 1 2 0 2 0 1 0 0 2 1 0 0 2\n",
      " 0 2 1 2 2 1 0 0 1 1 2 2 0]\n",
      "[0 2 2 2 1 0 0 2 1 2 1 2 0 2 2 1 2 2 0 1 2 0 2 2 0 1 1 1 2 2 1 0 0 0 2 2 0\n",
      " 2 2 0 2 1 0 2 1 1 0 2 2 2]\n",
      "[0 2 2 1 0 1 0 2 0 0 0 0 2 2 1 0 2 2 0 0 2 1 1 0 1 2 0 2 0 0 0 0 2 1 0 1 2\n",
      " 2 2 0 1 2 1 1 2 2 0 0 1 0]\n",
      "[0 2 0 1 1 2 2 0 2 0 2 2 1 1 2 2 2 0 0 2 2 2 0 1 2 2 1 1 1 0 1 0 0 0 2 2 2\n",
      " 0 0 0 0 1 0 1 0 1 2 0 0 1]\n",
      "[0 2 1 1 0 0 2 1 2 2 0 0 0 2 2 0 2 2 2 0 2 2 0 2 1 1 2 0 1 0 0 0 0 0 2 2 2\n",
      " 0 1 0 2 2 2 2 0 2 2 2 2 1]\n",
      "[0 2 2 0 0 2 0 2 2 2 2 1 2 0 2 0 1 0 0 2 2 1 2 1 1 1 1 2 1 1 2 2 1 1 0 2 2\n",
      " 1 0 0 0 1 0 1 0 1 2 0 1 1]\n",
      "[0 2 0 2 2 2 0 2 0 0 0 2 0 0 0 0 0 2 0 0 2 0 2 2 1 2 0 1 2 2 0 0 1 2 0 0 2\n",
      " 0 1 2 2 0 2 2 0 2 0 2 1 0]\n",
      "[0 2 1 1 2 2 1 0 2 2 2 2 2 0 0 0 2 2 1 1 2 2 1 1 0 0 1 1 0 2 1 1 0 1 1 2 0\n",
      " 0 2 1 0 0 2 2 0 0 1 2 1 2]\n",
      "[0 2 1 2 1 0 2 0 2 2 0 2 1 2 1 0 0 2 0 2 2 1 0 2 0 1 1 2 0 2 0 2 0 0 2 0 1\n",
      " 0 2 0 1 0 1 0 2 2 0 1 0 1]\n",
      "[0 2 2 1 2 1 0 0 1 2 2 0 1 2 2 0 1 2 0 0 1 1 1 2 2 1 0 0 2 2 1 0 0 0 1 0 1\n",
      " 0 0 1 1 1 1 2 1 1 2 2 1 0]\n",
      "[0 2 2 2 2 1 0 1 2 0 0 0 1 1 0 2 0 1 1 0 0 2 1 2 0 0 1 1 0 2 0 2 2 2 0 1 1\n",
      " 1 0 2 0 2 0 2 2 2 0 0 2 0]\n",
      "[0 2 1 0 2 0 0 1 0 0 1 2 0 0 1 0 2 1 2 0 0 1 1 1 1 2 2 0 2 0 1 1 2 2 0 2 2\n",
      " 2 0 0 2 0 0 0 0 0 1 0 1 1]\n",
      "[0 2 2 1 0 1 1 2 1 2 2 2 1 1 1 0 1 2 2 2 0 1 1 0 0 1 1 1 1 1 0 2 0 0 1 1 1\n",
      " 2 0 1 2 2 2 0 2 1 1 1 1 2]\n",
      "[0 2 0 1 0 1 2 0 2 1 2 2 2 0 1 1 2 0 0 0 0 2 0 0 0 2 0 1 0 1 1 0 1 0 2 2 1\n",
      " 0 0 2 1 2 0 1 2 0 2 1 1 1]\n",
      "[0 2 1 1 1 2 2 2 2 0 1 1 0 2 2 0 0 2 1 0 2 1 1 2 1 1 2 2 1 1 2 2 0 0 0 2 2\n",
      " 0 1 0 0 1 0 2 2 2 1 2 2 2]\n",
      "[0 2 2 0 1 1 0 2 0 0 1 1 2 2 2 0 0 2 2 2 0 1 2 2 2 1 1 2 1 2 2 2 2 1 1 0 2\n",
      " 2 2 0 2 2 1 2 0 1 1 0 0 2]\n",
      "[0 2 1 2 2 1 0 1 1 0 0 0 1 1 1 2 2 0 1 2 2 2 1 1 2 1 2 0 1 0 2 2 1 0 2 2 1\n",
      " 0 2 0 2 1 0 0 2 2 0 2 2 0]\n",
      "[0 2 1 1 0 0 2 2 1 2 2 1 1 2 1 1 2 2 1 2 2 2 1 1 0 2 0 0 0 2 0 1 0 0 0 2 2\n",
      " 2 1 1 1 0 2 2 2 0 0 2 2 2]\n",
      "[0 2 1 1 1 2 1 2 1 2 1 1 1 1 0 1 2 0 2 0 2 1 2 2 0 1 0 1 0 1 2 2 1 1 2 1 0\n",
      " 0 2 2 0 2 1 1 1 1 0 2 0 0]\n",
      "[0 2 1 0 1 2 0 2 1 2 1 0 0 2 2 0 0 1 2 2 1 0 0 2 0 0 1 0 1 2 2 0 2 2 2 2 2\n",
      " 0 1 1 0 1 1 0 2 2 0 1 2 2]\n",
      "[0 2 2 2 0 0 2 1 2 1 1 0 2 0 1 0 0 2 0 2 2 1 2 2 2 0 0 2 0 1 1 0 1 2 1 2 1\n",
      " 0 2 1 1 2 0 1 2 2 0 2 1 2]\n",
      "[0 2 2 0 0 1 0 2 2 0 0 2 2 0 0 0 2 2 0 1 0 2 0 0 0 0 2 2 0 1 1 0 1 0 0 1 2\n",
      " 2 0 1 1 0 2 0 0 0 2 1 0 2]\n",
      "[0 2 2 1 2 2 1 2 0 0 1 1 1 1 0 0 1 0 2 2 1 0 2 1 2 1 1 2 1 1 0 1 2 2 0 2 1\n",
      " 2 2 0 2 0 1 2 0 0 1 1 1 0]\n",
      "[0 2 1 0 1 0 2 1 1 0 1 2 2 0 2 0 0 2 2 1 2 2 0 2 1 0 2 0 2 1 1 2 0 2 2 0 1\n",
      " 0 2 2 0 2 2 0 1 2 0 1 0 2]\n",
      "[0 2 0 2 0 2 2 1 0 1 0 0 2 2 2 0 2 0 0 1 0 2 2 1 2 1 0 1 0 1 2 1 2 2 0 2 2\n",
      " 0 0 2 2 1 2 1 2 2 0 0 1 2]\n",
      "[0 2 2 0 2 0 1 2 0 1 2 0 2 1 1 0 0 2 2 2 0 1 2 1 2 0 1 2 2 1 1 0 0 1 0 0 2\n",
      " 2 1 2 0 1 2 0 0 2 1 0 1 2]\n",
      "[0 2 1 1 1 2 1 0 1 2 1 0 0 2 1 0 1 1 1 0 1 2 2 0 2 2 0 1 1 1 0 0 1 2 0 1 2\n",
      " 0 0 0 2 1 1 0 1 0 2 0 1 0]\n",
      "[0 2 2 0 0 1 1 0 2 2 0 0 1 0 2 0 0 1 1 1 0 0 0 0 1 0 1 1 2 0 1 2 0 1 0 1 2\n",
      " 2 2 0 2 1 0 1 1 2 0 1 2 2]\n",
      "[0 2 0 0 2 0 1 0 2 1 2 1 0 0 0 2 2 2 1 2 2 0 0 0 1 0 0 0 1 1 1 1 0 2 0 2 0\n",
      " 2 1 1 2 0 0 0 0 1 0 0 0 2]\n",
      "[0 2 1 0 2 1 0 0 0 2 1 2 2 0 2 0 1 2 1 0 2 0 0 2 1 1 0 0 2 1 0 0 0 0 2 0 0\n",
      " 0 0 2 0 0 2 0 2 1 0 0 0 1]\n",
      "[0 2 2 0 0 1 1 0 0 1 2 0 1 2 0 2 0 0 1 0 2 1 1 2 2 0 1 1 2 1 2 2 1 1 1 0 0\n",
      " 2 0 1 0 2 2 1 0 0 2 0 2 1]\n",
      "[0 2 2 0 1 2 2 2 1 1 1 2 2 1 2 0 0 2 1 2 2 2 0 0 2 0 1 1 2 2 1 2 1 0 0 0 2\n",
      " 2 0 1 1 0 2 1 0 1 1 2 1 2]\n",
      "[0 2 0 1 0 0 0 1 2 1 0 1 2 0 0 2 2 1 2 0 1 1 2 2 1 0 1 2 1 2 0 0 2 1 1 0 1\n",
      " 1 0 1 2 1 1 2 0 0 1 0 2 0]\n",
      "[0 2 1 1 0 2 0 2 0 1 0 2 0 1 0 2 2 0 2 2 0 2 0 1 1 2 1 0 1 1 1 2 2 0 2 2 2\n",
      " 2 2 2 1 0 1 1 2 2 2 0 2 1]\n",
      "[0 2 0 2 2 0 2 0 2 2 1 0 1 0 2 1 1 1 1 1 1 2 2 0 0 1 0 0 1 2 2 0 2 1 0 1 1\n",
      " 0 2 2 1 1 1 1 1 1 0 1 0 0]\n",
      "[0 2 0 1 2 2 2 1 0 0 2 0 0 2 0 2 2 0 1 0 2 2 2 0 1 1 2 0 1 2 0 0 0 0 0 1 1\n",
      " 0 2 2 2 2 2 0 1 0 1 1 2 1]\n",
      "[0 2 2 2 0 2 1 2 0 2 0 0 0 1 1 0 2 1 0 0 1 2 0 1 1 1 1 2 1 2 0 0 0 0 1 1 1\n",
      " 1 2 2 2 0 0 0 1 2 1 2 1 0]\n",
      "[0 2 1 2 2 2 2 1 2 2 2 0 0 0 2 1 2 1 0 2 2 1 1 1 2 0 0 2 0 1 2 2 0 0 2 0 2\n",
      " 1 1 0 0 0 1 1 2 2 0 1 2 0]\n",
      "[0 2 2 2 1 2 1 0 1 0 1 1 2 0 1 0 1 2 0 0 0 2 0 2 0 2 2 2 2 2 0 1 0 0 2 0 2\n",
      " 1 2 1 1 1 2 0 0 1 0 1 0 0]\n",
      "[0 2 0 2 1 2 1 1 1 2 0 1 1 2 1 2 2 2 1 0 1 1 2 1 0 2 0 2 0 1 1 2 1 1 0 2 0\n",
      " 1 1 2 0 2 2 1 2 0 0 2 0 1]\n",
      "[0 2 1 0 2 2 0 0 1 2 0 2 0 1 0 2 1 1 1 1 2 1 1 1 1 0 1 0 1 2 2 0 2 0 2 1 1\n",
      " 1 1 2 2 2 0 1 2 2 1 2 2 2]\n",
      "[0 2 2 2 1 1 1 2 2 2 2 1 2 2 2 1 1 1 0 0 2 2 0 2 2 2 2 1 1 2 1 1 2 2 1 2 1\n",
      " 0 0 1 1 1 1 1 1 2 1 0 2 2]\n",
      "[0 2 2 0 0 1 2 0 1 2 0 0 2 2 0 1 0 2 0 2 0 2 1 2 0 1 1 1 1 1 1 0 1 0 1 0 1\n",
      " 1 1 1 1 2 2 2 2 2 0 1 1 0]\n",
      "[0 2 1 1 1 0 2 0 2 1 0 2 1 1 0 2 0 0 2 0 1 1 0 1 0 1 0 1 0 0 1 1 1 0 1 0 2\n",
      " 0 2 1 1 2 0 1 0 1 2 0 1 0]\n",
      "[0 2 1 0 0 1 0 1 1 0 1 2 1 0 1 2 0 1 0 2 2 2 1 0 1 2 0 2 0 0 2 0 2 2 0 0 2\n",
      " 0 0 0 0 0 0 1 1 0 1 1 0 1]\n",
      "[0 2 2 0 0 0 1 1 0 0 2 2 1 1 0 0 0 2 0 2 2 0 2 0 1 0 1 0 0 0 0 2 1 0 1 1 1\n",
      " 0 0 2 0 1 2 1 1 0 2 2 2 0]\n",
      "[0 2 2 1 2 1 1 0 2 2 2 2 0 1 1 2 2 0 1 0 0 1 2 2 2 0 1 2 2 2 2 0 0 0 1 0 0\n",
      " 0 0 0 1 1 2 0 0 1 1 0 2 1]\n",
      "[0 2 2 0 1 2 2 0 0 1 2 0 0 0 0 2 0 0 1 2 2 1 2 0 1 1 1 1 0 2 1 1 1 1 1 0 1\n",
      " 2 2 0 0 2 1 0 0 2 0 1 0 2]\n",
      "[0 2 1 2 1 0 1 1 0 2 0 1 0 2 2 1 0 0 1 0 2 1 1 2 2 1 2 2 1 2 2 1 2 0 0 1 1\n",
      " 2 0 2 1 0 2 2 1 1 2 0 1 2]\n",
      "[0 2 1 0 2 1 0 1 1 1 2 2 0 1 2 2 0 1 0 1 2 1 2 0 0 0 2 2 2 2 1 0 0 1 2 1 0\n",
      " 2 1 2 0 0 2 1 0 1 0 0 1 2]\n",
      "[0 2 1 1 2 2 0 2 0 2 2 2 1 0 2 0 0 0 1 0 0 2 2 1 0 1 0 2 0 0 0 1 0 1 1 0 1\n",
      " 1 0 1 2 1 1 2 0 1 0 1 0 0]\n",
      "[0 2 1 0 1 1 2 1 2 2 1 2 0 2 0 2 0 2 0 1 2 2 1 2 1 0 2 1 2 2 1 2 0 1 2 2 0\n",
      " 1 0 1 0 0 1 1 1 2 0 2 1 2]\n",
      "[0 2 2 2 1 1 0 1 1 1 1 2 2 0 2 0 0 1 1 2 2 0 2 2 1 1 1 1 2 2 1 1 0 2 2 0 1\n",
      " 1 2 1 2 0 2 2 0 1 1 2 2 0]\n",
      "[0 2 2 1 0 1 1 2 0 0 2 1 0 0 0 2 1 1 0 0 1 1 1 2 1 0 2 1 0 2 0 1 1 0 1 1 0\n",
      " 2 2 0 1 1 0 0 1 2 2 2 0 0]\n",
      "[0 2 1 0 1 0 2 1 2 1 2 1 1 0 1 1 2 0 2 2 1 0 2 1 2 2 0 0 2 1 2 2 1 1 2 1 2\n",
      " 1 0 0 1 2 1 1 1 0 0 0 2 0]\n",
      "[0 2 0 2 0 2 0 0 2 2 2 1 0 2 2 1 0 1 2 0 0 0 2 1 2 1 2 1 2 1 0 0 0 0 1 2 0\n",
      " 0 0 0 0 0 1 1 1 0 1 0 2 1]\n",
      "[0 2 2 0 0 1 0 2 1 2 0 2 2 2 2 1 1 2 0 0 2 2 0 2 0 1 1 0 2 2 0 2 0 0 1 2 2\n",
      " 0 0 2 0 1 2 1 1 2 0 2 0 0]\n",
      "[0 2 0 1 1 2 1 0 2 1 2 1 0 2 2 1 2 1 1 1 1 2 1 1 1 0 1 2 2 1 1 1 1 1 1 1 1\n",
      " 0 0 1 0 0 2 1 0 0 1 1 2 0]\n",
      "[0 2 0 2 2 2 2 1 1 0 1 1 1 0 0 2 0 2 0 2 2 2 1 2 0 0 1 0 0 2 1 2 1 1 0 0 1\n",
      " 2 1 1 2 1 0 1 2 1 1 0 0 0]\n",
      "[0 2 2 1 1 2 1 2 0 2 2 2 0 2 2 2 2 2 0 2 1 2 2 2 1 0 2 1 2 0 2 1 2 2 0 2 1\n",
      " 1 1 1 2 1 0 1 0 2 1 0 0 1]\n",
      "[0 2 2 2 2 0 1 1 0 2 0 1 0 0 1 0 2 0 0 0 2 1 2 1 0 1 0 2 1 1 0 1 1 0 0 2 2\n",
      " 1 0 1 0 1 0 1 1 2 2 2 0 0]\n",
      "[0 2 2 1 2 1 2 1 1 0 0 1 1 1 1 1 0 0 2 1 1 2 0 2 0 1 1 0 2 1 2 1 1 2 2 0 0\n",
      " 0 2 2 1 1 2 0 2 0 2 0 1 1]\n",
      "[0 2 1 2 2 0 1 2 0 2 2 2 1 1 0 2 2 0 0 2 0 0 0 1 2 2 2 1 0 1 1 2 1 2 1 0 0\n",
      " 0 2 2 0 1 1 2 2 0 2 0 2 0]\n",
      "[0 2 0 1 1 1 1 0 0 2 0 0 1 1 0 0 0 2 0 1 1 2 2 2 2 0 1 1 1 0 0 0 2 2 0 0 1\n",
      " 0 2 2 0 0 0 2 0 0 1 2 2 1]\n",
      "[0 2 1 2 1 0 2 0 2 0 2 1 0 2 2 0 1 2 0 1 2 0 1 2 0 1 0 0 1 1 2 0 1 2 0 2 2\n",
      " 0 2 0 2 1 2 1 0 2 2 1 0 1]\n",
      "[0 2 0 0 1 0 2 1 0 0 2 2 2 2 1 0 1 1 0 0 0 0 2 1 1 1 2 0 0 1 2 1 2 1 0 0 1\n",
      " 1 1 1 1 1 1 1 1 1 1 1 2 0]\n",
      "[0 2 2 2 0 0 0 1 2 0 0 0 1 0 1 2 0 0 2 2 0 2 0 2 1 1 0 1 0 2 2 0 1 0 0 1 2\n",
      " 1 0 1 0 2 0 1 1 1 2 2 2 1]\n",
      "[0 2 1 1 1 2 2 1 0 0 2 1 1 2 0 0 1 2 1 2 1 2 0 2 1 1 0 0 2 0 1 0 1 2 0 1 1\n",
      " 1 2 2 1 0 2 2 0 2 1 1 1 1]\n",
      "[0 2 2 2 2 2 0 1 1 0 0 1 2 1 1 1 1 0 0 2 0 1 1 0 1 2 1 0 2 1 2 2 2 1 2 1 0\n",
      " 1 1 1 0 1 1 2 2 0 1 2 1 2]\n",
      "[0 2 0 1 1 1 2 0 1 0 0 2 1 1 1 0 0 1 0 0 1 2 1 1 0 2 2 1 0 1 1 0 1 1 0 2 2\n",
      " 0 0 1 1 1 2 0 0 1 0 1 0 1]\n",
      "[0 2 2 1 2 1 2 0 1 0 1 2 1 2 1 0 1 1 1 1 2 1 0 2 1 2 1 0 1 1 1 0 1 2 0 1 2\n",
      " 1 0 1 2 1 2 1 2 0 2 1 2 1]\n",
      "[0 2 0 0 0 2 0 1 2 2 0 0 0 2 0 0 1 0 0 2 0 1 2 1 1 0 0 1 2 1 1 0 0 2 0 2 0\n",
      " 2 1 1 1 2 2 2 0 1 0 1 0 1]\n",
      "[0 2 2 1 2 2 2 1 1 0 2 0 2 2 2 2 1 0 1 0 2 2 0 2 0 1 1 1 1 0 1 0 1 0 2 2 1\n",
      " 1 0 2 0 2 0 0 1 0 1 1 2 1]\n",
      "[0 2 1 0 1 2 1 0 0 2 0 0 0 1 0 2 1 0 1 1 0 1 1 0 1 2 2 0 1 0 1 0 0 1 0 2 0\n",
      " 0 0 1 1 0 1 0 2 1 1 2 1 2]\n",
      "[0 2 2 0 0 2 2 2 2 2 0 2 1 0 1 1 2 0 0 0 1 0 0 0 2 0 2 1 0 1 0 1 2 2 0 1 2\n",
      " 1 0 1 1 2 0 1 1 1 2 0 1 0]\n",
      "[0 2 2 1 1 2 2 1 1 0 0 1 1 1 1 2 2 1 1 0 2 1 0 0 0 2 2 1 1 0 0 2 2 2 1 2 0\n",
      " 2 2 1 1 1 0 2 0 0 2 1 0 0]\n",
      "[0 2 1 1 2 0 0 2 1 0 1 2 1 1 0 1 1 1 0 0 1 1 1 1 0 1 1 2 1 1 1 1 1 1 1 1 0\n",
      " 2 0 2 0 1 0 0 2 0 1 0 2 2]\n",
      "[0 2 0 1 0 2 1 1 0 1 1 1 1 1 1 2 0 1 0 1 0 0 2 0 0 2 0 2 1 0 0 1 0 2 1 1 2\n",
      " 0 1 0 0 2 1 2 1 1 1 2 2 1]\n",
      "[0 2 0 2 0 2 2 0 1 0 1 1 2 2 1 1 2 0 1 1 0 2 0 0 2 0 2 1 2 0 1 1 1 1 2 1 2\n",
      " 2 2 1 1 0 2 2 2 1 2 0 1 1]\n",
      "[0 2 0 0 1 2 2 0 2 1 0 2 0 2 0 1 2 0 0 0 0 0 1 0 1 1 0 0 0 2 1 0 2 1 0 2 0\n",
      " 2 1 2 0 0 1 2 0 0 1 1 2 1]\n",
      "[0 2 2 0 1 1 0 0 2 1 0 0 2 2 2 2 0 0 0 1 2 1 0 2 0 0 0 0 2 2 1 1 0 2 1 2 2\n",
      " 0 1 2 2 0 2 2 1 2 0 1 2 0]\n",
      "[0 2 0 2 0 1 1 0 2 0 1 2 0 0 2 1 2 1 1 2 0 0 1 2 2 1 2 1 0 0 0 0 0 0 0 0 2\n",
      " 2 1 2 0 0 1 0 2 2 0 2 0 1]\n",
      "[0 2 1 1 2 2 1 1 1 0 0 2 0 1 0 2 2 0 0 0 2 0 2 0 2 2 0 2 2 2 1 2 2 1 0 2 2\n",
      " 2 2 1 0 1 1 2 1 1 2 0 0 2]\n",
      "[0 2 2 0 2 2 2 0 2 1 1 2 2 2 2 1 2 2 0 1 1 2 0 1 1 0 2 0 0 0 2 1 1 2 1 0 0\n",
      " 2 2 1 2 0 2 1 2 0 2 1 1 0]\n",
      "[0 2 0 1 1 0 1 0 2 0 0 2 0 1 1 1 2 0 0 1 1 1 0 0 2 2 1 1 1 2 2 2 1 0 0 1 2\n",
      " 0 1 0 2 2 0 1 1 1 2 2 0 1]\n"
     ]
    }
   ],
   "source": [
    "import numpy as np\n",
    "\n",
    "def matGenerate_Sort(rows=1000, cols=50, range=[0, 3]):\n",
    "    output = np.random.randint(range[0], range[1], (rows, cols))\n",
    "    output = output[np.lexsort((-output[:,1], output[:,0]))]\n",
    "    return output\n",
    "a = matGenerate_Sort()"
   ]
  },
  {
   "cell_type": "code",
   "execution_count": 1,
   "metadata": {
    "slideshow": {
     "slide_type": "notes"
    }
   },
   "outputs": [
    {
     "name": "stdout",
     "output_type": "stream",
     "text": [
      "[[1. 2. 3.]\n",
      " [4. 5. 6.]]\n"
     ]
    }
   ],
   "source": [
    "import numpy as np\n",
    "\n",
    "def findUnique(inputMat):\n",
    "    output = []\n",
    "    for row in range(inputMat.shape[0]):\n",
    "        presentRow = list(inputMat[row])\n",
    "        if presentRow not in output:\n",
    "            output.append(presentRow)\n",
    "    output = np.array(output)\n",
    "    return output\n",
    "\n",
    "x = np.array([[1., 2., 3.], [4., 5., 6.],[1., 2., 3.], [4., 5., 6.]])\n",
    "print(findUnique(x))"
   ]
  },
  {
   "cell_type": "code",
   "execution_count": 27,
   "metadata": {},
   "outputs": [
    {
     "name": "stdout",
     "output_type": "stream",
     "text": [
      "矩阵:\n",
      "[[ 1.63320425 -0.75211158  1.32210738]\n",
      " [-0.75211158  1.32210738 -0.85396449]\n",
      " [ 1.32210738 -0.85396449 -1.02783776]\n",
      " [-0.85396449 -1.02783776 -0.54271209]\n",
      " [-1.02783776 -0.54271209  1.25154366]\n",
      " [-0.54271209  1.25154366 -0.69771328]\n",
      " [ 1.25154366 -0.69771328 -0.93054117]\n",
      " [-0.69771328 -0.93054117 -0.54667859]]\n",
      "\n",
      " 均值:\n",
      "[ 0.04156451 -0.27890367 -0.25322454]\n",
      "\n",
      " 方差:\n",
      "[1.13757282 0.83633202 0.81664481]\n",
      "\n",
      " 协方差:\n",
      "[['0-1协方差' '-0.34083194120286253']\n",
      " ['0-2协方差' '0.03742247547725139']\n",
      " ['1-2协方差' '-0.20591734501913944']]\n"
     ]
    }
   ],
   "source": [
    "def generateStats(T):\n",
    "    data = np.random.randn(T)\n",
    "    output = []\n",
    "    for startIndex in range(T - 3 + 1):\n",
    "        output.append(data[startIndex: startIndex + 3])\n",
    "    output = np.array(output)\n",
    "    return output\n",
    "\n",
    "def calculateStats(intputMat):\n",
    "    matMean = np.mean(intputMat, axis=0)\n",
    "    matVar = np.var(intputMat, axis=0)\n",
    "    matCovar = []\n",
    "    for firstCol in range(3):\n",
    "        for secondCol in range(3):\n",
    "            if firstCol != secondCol and firstCol < secondCol:\n",
    "                covar = np.sum((matMean[firstCol] - inputMat[:, firstCol]) * (matMean[secondCol] - inputMat[:, secondCol])) / inputMat.shape[0]\n",
    "                matCovar.append([str(firstCol) + \"-\" + str(secondCol) + \"协方差\", covar])\n",
    "    matCovar = np.array(matCovar)\n",
    "    return matMean, matVar, matCovar\n",
    "\n",
    "inputMat = generateStats(T=10)\n",
    "matMean, matVar, matCovar = calculateStats(inputMat)\n",
    "print(\"矩阵:\\n{0}\\n\\n 均值:\\n{1}\\n\\n 方差:\\n{2}\\n\\n 协方差:\\n{3}\".format(inputMat, matMean, matVar, matCovar))"
   ]
  },
  {
   "cell_type": "code",
   "execution_count": null,
   "metadata": {},
   "outputs": [],
   "source": []
  }
 ],
 "metadata": {
  "anaconda-cloud": {},
  "celltoolbar": "幻灯片",
  "kernelspec": {
   "display_name": "Python 3",
   "language": "python",
   "name": "python3"
  },
  "language_info": {
   "codemirror_mode": {
    "name": "ipython",
    "version": 3
   },
   "file_extension": ".py",
   "mimetype": "text/x-python",
   "name": "python",
   "nbconvert_exporter": "python",
   "pygments_lexer": "ipython3",
   "version": "3.8.8"
  }
 },
 "nbformat": 4,
 "nbformat_minor": 1
}
