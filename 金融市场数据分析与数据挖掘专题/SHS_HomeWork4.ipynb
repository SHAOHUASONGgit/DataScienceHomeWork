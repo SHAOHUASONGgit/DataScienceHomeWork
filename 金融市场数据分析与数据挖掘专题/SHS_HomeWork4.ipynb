{
 "cells": [
  {
   "cell_type": "markdown",
   "id": "74a61ed9",
   "metadata": {},
   "source": [
    "## 数据读取、填充、标准化"
   ]
  },
  {
   "cell_type": "code",
   "execution_count": 56,
   "id": "c594fc4f",
   "metadata": {},
   "outputs": [],
   "source": [
    "import pandas as pd\n",
    "\n",
    "dataset = pd.read_excel(\"银行贷款审批数据.xlsx\")\n",
    "\n",
    "for col in dataset.iloc[:, 0:6]:\n",
    "    avg = dataset[col].mean()\n",
    "    dataset[col].fillna(avg, inplace=True)\n",
    "    \n",
    "for col in dataset.iloc[:, 6:15]:\n",
    "    mid = dataset[col].median()\n",
    "    dataset[col].fillna(mid, inplace=True)\n",
    "    \n",
    "for col in dataset.iloc[:, 0:6]:\n",
    "    std = dataset[col].std()\n",
    "    avg = dataset[col].mean()\n",
    "    dataset[col] = dataset[col].apply(lambda raw: (raw - avg) / std)\n",
    "    \n",
    "trainingset = dataset.loc[0:599]\n",
    "\n",
    "checkset = dataset.loc[600:689]"
   ]
  },
  {
   "cell_type": "markdown",
   "id": "b200886d",
   "metadata": {},
   "source": [
    "## 训练集、验证集格式化"
   ]
  },
  {
   "cell_type": "code",
   "execution_count": 57,
   "id": "bd44d760",
   "metadata": {},
   "outputs": [],
   "source": [
    "import numpy as np\n",
    "\n",
    "trainingFeatures = np.array(trainingset.iloc[:,0:15])\n",
    "\n",
    "trainingLabels = np.array(trainingset.y)\n",
    "\n",
    "testFeatures = np.array(checkset.iloc[:,0:15])\n",
    "\n",
    "testLabels = np.array(checkset.y)"
   ]
  },
  {
   "cell_type": "markdown",
   "id": "15d96c3e",
   "metadata": {},
   "source": [
    "## 支持向量机预测"
   ]
  },
  {
   "cell_type": "code",
   "execution_count": 58,
   "id": "fb270114",
   "metadata": {},
   "outputs": [
    {
     "name": "stdout",
     "output_type": "stream",
     "text": [
      "SVM: 84.44%\n"
     ]
    }
   ],
   "source": [
    "from sklearn import svm\n",
    "\n",
    "SVMClf = svm.SVC(kernel = \"linear\")\n",
    "\n",
    "SVMClf.fit(trainingFeatures, trainingLabels)\n",
    "\n",
    "prediction = SVMClf.predict(testFeatures)\n",
    "\n",
    "SVMTol = 1\n",
    "for index in range(len(testLabels)):\n",
    "    if prediction[index] != testLabels[index]:\n",
    "        SVMTol -= 1 / len(testLabels)\n",
    "\n",
    "print(\"SVM: \" + str(round(100 * SVMTol, 2)) + \"%\")"
   ]
  },
  {
   "cell_type": "markdown",
   "id": "2944e7bf",
   "metadata": {},
   "source": [
    "## 逻辑回归预测"
   ]
  },
  {
   "cell_type": "code",
   "execution_count": 59,
   "id": "374eeb7d",
   "metadata": {},
   "outputs": [
    {
     "name": "stdout",
     "output_type": "stream",
     "text": [
      "Log: 87.78%\n"
     ]
    }
   ],
   "source": [
    "from sklearn import linear_model\n",
    "\n",
    "LogClf = linear_model.LogisticRegression(C = 1, max_iter = 1000)\n",
    "\n",
    "LogClf.fit(trainingFeatures, trainingLabels)\n",
    "\n",
    "prediction = LogClf.predict(testFeatures)\n",
    "\n",
    "LogTol = 1\n",
    "for index in range(len(testLabels)):\n",
    "    if prediction[index] != testLabels[index]:\n",
    "        LogTol -= 1 / len(testLabels)\n",
    "        \n",
    "print(\"Log: \" + str(round(100 * LogTol, 2)) + \"%\")"
   ]
  },
  {
   "cell_type": "markdown",
   "id": "2568c6d1",
   "metadata": {},
   "source": [
    "## 神经网络预测"
   ]
  },
  {
   "cell_type": "code",
   "execution_count": 63,
   "id": "421f8ee8",
   "metadata": {},
   "outputs": [
    {
     "name": "stdout",
     "output_type": "stream",
     "text": [
      "NN: 86.67%\n"
     ]
    }
   ],
   "source": [
    "from sklearn import neural_network\n",
    "\n",
    "NNClf = neural_network.MLPClassifier(max_iter = 1000)\n",
    "\n",
    "NNClf.fit(trainingFeatures, trainingLabels)\n",
    "\n",
    "prediction = NNClf.predict(testFeatures)\n",
    "\n",
    "NNTol = 1\n",
    "for index in range(len(testLabels)):\n",
    "    if prediction[index] != testLabels[index]:\n",
    "        NNTol -= 1 / len(testLabels)\n",
    "        \n",
    "print(\"NN: \" + str(round(100 * NNTol, 2)) + \"%\")"
   ]
  },
  {
   "cell_type": "markdown",
   "id": "8687057c",
   "metadata": {},
   "source": [
    "## 预测精度图示"
   ]
  },
  {
   "cell_type": "code",
   "execution_count": 64,
   "id": "bd276129",
   "metadata": {},
   "outputs": [
    {
     "data": {
      "image/png": "[encoded data removed]",
      "text/plain": [
       "<Figure size 432x288 with 1 Axes>"
      ]
     },
     "metadata": {
      "needs_background": "light"
     },
     "output_type": "display_data"
    }
   ],
   "source": [
    "import matplotlib.pyplot as plt\n",
    "\n",
    "tol = [SVMTol * 100, LogTol * 100, NNTol * 100]\n",
    "\n",
    "plt.bar_label(plt.bar(range(len(tol)), tol, tick_label = [\"SVM\", \"Log\", \"NN\"]), label_type = \"center\", fmt = \"%g%%\")\n",
    "\n",
    "plt.show()"
   ]
  }
 ],
 "metadata": {
  "kernelspec": {
   "display_name": "Python 3 (ipykernel)",
   "language": "python",
   "name": "python3"
  },
  "language_info": {
   "codemirror_mode": {
    "name": "ipython",
    "version": 3
   },
   "file_extension": ".py",
   "mimetype": "text/x-python",
   "name": "python",
   "nbconvert_exporter": "python",
   "pygments_lexer": "ipython3",
   "version": "3.9.10"
  }
 },
 "nbformat": 4,
 "nbformat_minor": 5
}
