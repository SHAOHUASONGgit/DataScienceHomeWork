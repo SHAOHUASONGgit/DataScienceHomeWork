{
 "cells": [
  {
   "cell_type": "markdown",
   "id": "26f2e518",
   "metadata": {},
   "source": [
    "# 4-5\n",
    "# 對1993-2000年中國社會消費品零售總額序列進行確定性時序分析\n",
    "data1.11.csv"
   ]
  },
  {
   "cell_type": "code",
   "execution_count": 3,
   "id": "e84bde92",
   "metadata": {},
   "outputs": [],
   "source": [
    "import numpy as np\n",
    "import matplotlib.pyplot as plt\n",
    "import pandas as pd\n",
    "import statsmodels.api as sm"
   ]
  },
  {
   "cell_type": "markdown",
   "id": "b3c8a32c",
   "metadata": {},
   "source": [
    "## 计算季节指数"
   ]
  },
  {
   "cell_type": "code",
   "execution_count": 4,
   "id": "5d52a5b8",
   "metadata": {},
   "outputs": [],
   "source": [
    "def caculateSeason(input, period):\n",
    "    length = int(len(input)/period)\n",
    "    output = [0]*period\n",
    "    totalAverage = np.average(input)\n",
    "    for i in range(0,period):\n",
    "        for j in range(0,length):\n",
    "            output[i] += input[i+j*period]/length/totalAverage\n",
    "    return np.around(output,decimals=2)"
   ]
  },
  {
   "cell_type": "markdown",
   "id": "cdc26c6b",
   "metadata": {},
   "source": [
    "## 消除序列季节指数影响"
   ]
  },
  {
   "cell_type": "code",
   "execution_count": 5,
   "id": "173ccd2e",
   "metadata": {},
   "outputs": [],
   "source": [
    "def removeSeason(series, season):\n",
    "    length = int(len(series))\n",
    "    period = int(len(season))\n",
    "    output = [0]*length\n",
    "    for i in range(0,length):\n",
    "        output[i] = series[i]/season[i%period]\n",
    "    return output"
   ]
  },
  {
   "cell_type": "markdown",
   "id": "5dfa6fa5",
   "metadata": {},
   "source": [
    "## 对序列增加季节指数影响"
   ]
  },
  {
   "cell_type": "code",
   "execution_count": 6,
   "id": "d671806a",
   "metadata": {},
   "outputs": [],
   "source": [
    "def plusSeason(series, season):\n",
    "    length = int(len(series))\n",
    "    period = int(len(season))\n",
    "    output = [0]*length\n",
    "    for i in range(0,length):\n",
    "        output[i] = series[i]*season[i%period]\n",
    "    return output"
   ]
  },
  {
   "cell_type": "markdown",
   "id": "c9efef2e",
   "metadata": {},
   "source": [
    "## 绘图"
   ]
  },
  {
   "cell_type": "code",
   "execution_count": 7,
   "id": "342e57bb",
   "metadata": {},
   "outputs": [],
   "source": [
    "def drawer(input):\n",
    "    plt.plot(input, '*-')\n",
    "    plt.show()\n",
    "    plt.close()"
   ]
  },
  {
   "cell_type": "markdown",
   "id": "1fd0d1b9",
   "metadata": {},
   "source": [
    "## 绘制对比图"
   ]
  },
  {
   "cell_type": "code",
   "execution_count": 9,
   "id": "4ec1882b",
   "metadata": {},
   "outputs": [],
   "source": [
    "def drawcompare(series, prediction):\n",
    "    plt.plot(series, \"*-\", label='observe')\n",
    "    plt.plot(prediction, \"*\", label='fittes')\n",
    "    plt.legend()\n",
    "    plt.show()\n",
    "    plt.close()"
   ]
  },
  {
   "cell_type": "markdown",
   "id": "16090ac2",
   "metadata": {},
   "source": [
    "## 开始分析"
   ]
  },
  {
   "cell_type": "code",
   "execution_count": 10,
   "id": "fff33b4a",
   "metadata": {},
   "outputs": [
    {
     "name": "stdout",
     "output_type": "stream",
     "text": [
      "                            OLS Regression Results                            \n",
      "==============================================================================\n",
      "Dep. Variable:                      y   R-squared:                       0.880\n",
      "Model:                            OLS   Adj. R-squared:                  0.879\n",
      "Method:                 Least Squares   F-statistic:                     689.4\n",
      "Date:                Wed, 10 Nov 2021   Prob (F-statistic):           4.58e-45\n",
      "Time:                        00:03:10   Log-Likelihood:                -654.41\n",
      "No. Observations:                  96   AIC:                             1313.\n",
      "Df Residuals:                      94   BIC:                             1318.\n",
      "Df Model:                           1                                         \n",
      "Covariance Type:            nonrobust                                         \n",
      "==============================================================================\n",
      "                 coef    std err          t      P>|t|      [0.025      0.975]\n",
      "------------------------------------------------------------------------------\n",
      "const        983.5601     45.933     21.413      0.000     892.360    1074.760\n",
      "x1            21.5908      0.822     26.256      0.000      19.958      23.223\n",
      "==============================================================================\n",
      "Omnibus:                       35.268   Durbin-Watson:                   0.815\n",
      "Prob(Omnibus):                  0.000   Jarque-Bera (JB):               66.438\n",
      "Skew:                           1.489   Prob(JB):                     3.74e-15\n",
      "Kurtosis:                       5.781   Cond. No.                         113.\n",
      "==============================================================================\n",
      "\n",
      "Notes:\n",
      "[1] Standard Errors assume that the covariance matrix of the errors is correctly specified.\n"
     ]
    },
    {
     "data": {
      "image/png": "[encoded data removed]",
      "text/plain": [
       "<Figure size 432x288 with 1 Axes>"
      ]
     },
     "metadata": {
      "needs_background": "light"
     },
     "output_type": "display_data"
    }
   ],
   "source": [
    "filename = \"data1.11.csv\"\n",
    "series = pd.read_csv(filename, header=None)\n",
    "series.iloc[:, 0] = series.iloc[:, 0].astype(\"float\")\n",
    "series = series.values[:, 0]\n",
    "season = caculateSeason(series,12)\n",
    "afterRemove = removeSeason(series,season)\n",
    "\n",
    "x = np.arange(1, len(afterRemove) + 1)\n",
    "model = sm.OLS(series, sm.add_constant(x))\n",
    "model = model.fit()\n",
    "print(model.summary())\n",
    "prediction = model.predict(sm.add_constant(x))\n",
    "prediction = plusSeason(prediction,season)\n",
    "drawcompare(series, prediction)"
   ]
  },
  {
   "cell_type": "code",
   "execution_count": null,
   "id": "400f9a74",
   "metadata": {},
   "outputs": [],
   "source": []
  }
 ],
 "metadata": {
  "kernelspec": {
   "display_name": "Python 3",
   "language": "python",
   "name": "python3"
  },
  "language_info": {
   "codemirror_mode": {
    "name": "ipython",
    "version": 3
   },
   "file_extension": ".py",
   "mimetype": "text/x-python",
   "name": "python",
   "nbconvert_exporter": "python",
   "pygments_lexer": "ipython3",
   "version": "3.8.8"
  }
 },
 "nbformat": 4,
 "nbformat_minor": 5
}
