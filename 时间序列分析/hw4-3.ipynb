{
 "cells": [
  {
   "cell_type": "markdown",
   "id": "4a49d412",
   "metadata": {},
   "source": [
    "# 4-3\n",
    "hw4-3data.csv"
   ]
  },
  {
   "cell_type": "code",
   "execution_count": 1,
   "id": "02fc0630",
   "metadata": {},
   "outputs": [],
   "source": [
    "import numpy as np\n",
    "import pandas as pd\n",
    "import matplotlib.pyplot as plt"
   ]
  },
  {
   "cell_type": "markdown",
   "id": "2ebdb6d5",
   "metadata": {},
   "source": [
    "## 季节指数计算"
   ]
  },
  {
   "cell_type": "code",
   "execution_count": 2,
   "id": "7770872b",
   "metadata": {},
   "outputs": [],
   "source": [
    "def caculateSeason(input, period):\n",
    "    length = int(len(input)/period)\n",
    "    output = [0]*period\n",
    "    totalAverage = np.average(input)\n",
    "    for i in range(0,period):\n",
    "        for j in range(0,length):\n",
    "            output[i] += input[i+j*period]/length/totalAverage\n",
    "    return np.around(output,decimals=2)"
   ]
  },
  {
   "cell_type": "markdown",
   "id": "07df665b",
   "metadata": {},
   "source": [
    "## 绘图"
   ]
  },
  {
   "cell_type": "code",
   "execution_count": 3,
   "id": "4f379c7c",
   "metadata": {},
   "outputs": [],
   "source": [
    "def drawer(input):\n",
    "    plt.plot(input, '*-')\n",
    "    plt.show()\n",
    "    plt.close()"
   ]
  },
  {
   "cell_type": "markdown",
   "id": "f27d20e4",
   "metadata": {},
   "source": [
    "## 开始分析"
   ]
  },
  {
   "cell_type": "code",
   "execution_count": 4,
   "id": "e04f5899",
   "metadata": {},
   "outputs": [
    {
     "name": "stdout",
     "output_type": "stream",
     "text": [
      "[0.96 0.91 1.04 1.06 1.15 1.12 1.04 0.98 0.93 0.94 0.9  0.96]\n"
     ]
    }
   ],
   "source": [
    "filename = \"hw4-3data.csv\"\n",
    "series = pd.read_csv(filename, header=None)\n",
    "series.values[1:,1:]\n",
    "datainput = []\n",
    "for row in series.values[1:,1:]:\n",
    "    for data in row:\n",
    "        datainput.append(data)\n",
    "dataoutput = caculateSeason(datainput,12)\n",
    "print(dataoutput)"
   ]
  },
  {
   "cell_type": "code",
   "execution_count": null,
   "id": "9477ad86",
   "metadata": {},
   "outputs": [],
   "source": []
  }
 ],
 "metadata": {
  "kernelspec": {
   "display_name": "Python 3",
   "language": "python",
   "name": "python3"
  },
  "language_info": {
   "codemirror_mode": {
    "name": "ipython",
    "version": 3
   },
   "file_extension": ".py",
   "mimetype": "text/x-python",
   "name": "python",
   "nbconvert_exporter": "python",
   "pygments_lexer": "ipython3",
   "version": "3.8.8"
  }
 },
 "nbformat": 4,
 "nbformat_minor": 5
}
