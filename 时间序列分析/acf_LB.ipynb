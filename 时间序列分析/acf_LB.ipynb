{
 "cells": [
  {
   "cell_type": "code",
   "execution_count": 1,
   "id": "361a30b2",
   "metadata": {},
   "outputs": [],
   "source": [
    "import numpy as np\n",
    "import pandas as pd\n",
    "from statsmodels.stats.diagnostic import acorr_ljungbox\n",
    "import matplotlib.pyplot as plt"
   ]
  },
  {
   "cell_type": "markdown",
   "id": "a0537682",
   "metadata": {},
   "source": [
    "导入"
   ]
  },
  {
   "cell_type": "code",
   "execution_count": 2,
   "id": "fedaddb5",
   "metadata": {},
   "outputs": [],
   "source": [
    "def caculatePk(input, lag, method):\n",
    "    if method == \"LB\":\n",
    "        lag += 1\n",
    "    acf = np.ones(lag)\n",
    "    N = len(input)\n",
    "    u = input.mean()\n",
    "    for k in range(0, lag):\n",
    "        upsum = 0\n",
    "        downsum = 0\n",
    "        for i in range(0, N - k):\n",
    "            upsum += (input[i] - u) * (input[i + k] - u)\n",
    "        for i in range(0, N):\n",
    "            downsum += (input[i] - u) ** 2\n",
    "        acf[k] = (upsum / downsum)\n",
    "    return acf"
   ]
  },
  {
   "cell_type": "markdown",
   "id": "505effa2",
   "metadata": {},
   "source": [
    "延迟k相关系数计算函数"
   ]
  },
  {
   "cell_type": "code",
   "execution_count": 3,
   "id": "4319b3e2",
   "metadata": {},
   "outputs": [],
   "source": [
    "def caculateLB(Pk, input):\n",
    "    LB = np.zeros(len(Pk))\n",
    "    n = len(input)\n",
    "    m = len(Pk)\n",
    "    for i in range(1, m):\n",
    "        for j in range(1, i + 1):\n",
    "            LB[i] += n * (n + 2) * (Pk[j]**2 / (n - j))\n",
    "    return LB[1:]"
   ]
  },
  {
   "cell_type": "markdown",
   "id": "2b1373d4",
   "metadata": {},
   "source": [
    "LB统计量计算函数"
   ]
  },
  {
   "cell_type": "code",
   "execution_count": 4,
   "id": "65a00b5a",
   "metadata": {},
   "outputs": [],
   "source": [
    "def drawer(input, Pk):\n",
    "    plt.figure()\n",
    "    inputplot = plt.subplot2grid((2, 2), (0, 0), colspan=2)\n",
    "    Pkplot = plt.subplot2grid((2, 2), (1, 0))\n",
    "\n",
    "    twosigma = np.ones(len(Pk))\n",
    "    n = len(input)\n",
    "    twosigma[0] = ((1 / n) ** 0.5)\n",
    "    for i in range(1, len(Pk)):\n",
    "        sum = 0\n",
    "        for j in range(0, i):\n",
    "            sum += Pk[j] ** 2\n",
    "        twosigma[i] = (((1 / n) * (1 + 2 * sum)) ** 0.5)\n",
    "\n",
    "    Pkplot.bar(range(len(Pk)), Pk)\n",
    "    Pkplot.fill_between(range(len(Pk)), -1 * twosigma, twosigma, color='lightblue')\n",
    "    inputplot.plot(input, \"-*\")\n",
    "\n",
    "    plt.show()\n",
    "    plt.close()"
   ]
  },
  {
   "cell_type": "markdown",
   "id": "ea99a7e1",
   "metadata": {},
   "source": [
    "绘图函数"
   ]
  },
  {
   "cell_type": "code",
   "execution_count": 8,
   "id": "09791349",
   "metadata": {},
   "outputs": [
    {
     "name": "stdout",
     "output_type": "stream",
     "text": [
      "[ 1.         -0.17510866 -0.00354445  0.18026289  0.02305115 -0.16400488\n",
      "  0.09865819 -0.02629177 -0.00324072 -0.02227864  0.05795321  0.03715004\n",
      " -0.10421802]\n",
      "[1.62701865 1.62769915 3.4252788  3.45531193 5.00939556 5.58455329\n",
      " 5.62635023 5.62700037 5.65847545 5.8767828  5.96879114 6.71193926]\n",
      "5.584553286087117\n",
      "6.711939259320042\n",
      "[1.62701865 1.62769915 3.4252788  3.45531193 5.00939556 5.58455329\n",
      " 5.62635023 5.62700037 5.65847545 5.8767828  5.96879114 6.71193926]\n",
      "5.584553286087114\n",
      "6.711939259320037\n",
      "[0.20211591 0.44314884 0.3305833  0.48470571 0.41473462 0.47129677\n",
      " 0.58399061 0.68893245 0.77355279 0.82550695 0.87543846 0.87604806]\n"
     ]
    },
    {
     "name": "stderr",
     "output_type": "stream",
     "text": [
      "/Users/shaohuasong/miniforge3/lib/python3.9/site-packages/statsmodels/stats/diagnostic.py:559: FutureWarning: The value returned will change to a single DataFrame after 0.12 is released.  Set return_df to True to use to return a DataFrame now.  Set return_df to False to silence this warning.\n",
      "  warnings.warn(msg, FutureWarning)\n"
     ]
    },
    {
     "data": {
      "image/png": "[encoded data removed]",
      "text/plain": [
       "<Figure size 432x288 with 2 Axes>"
      ]
     },
     "metadata": {
      "needs_background": "light"
     },
     "output_type": "display_data"
    }
   ],
   "source": [
    "dfname='附录1.4'\n",
    "input=pd.read_csv('%s.csv'%dfname,header=None)\n",
    "input.iloc[:,0]=input.iloc[:,0].astype('float')\n",
    "input=input.values[:,0]\n",
    "\n",
    "Pk = caculatePk(input, 12, \"LB\")\n",
    "LB = caculateLB(Pk, input)\n",
    "print(Pk)\n",
    "print(LB)\n",
    "print((LB[5]))\n",
    "print((LB[11]))\n",
    "\n",
    "#statsmodels_lb_test\n",
    "lb, pvalue = acorr_ljungbox(input, 12)\n",
    "print(lb)\n",
    "print((lb[5]))\n",
    "print((lb[11]))\n",
    "print(pvalue)\n",
    "\n",
    "drawer(input, Pk)"
   ]
  },
  {
   "cell_type": "markdown",
   "id": "c8800954",
   "metadata": {},
   "source": [
    "2-2A相关计算"
   ]
  },
  {
   "cell_type": "code",
   "execution_count": 5,
   "id": "0a8514dd",
   "metadata": {},
   "outputs": [
    {
     "name": "stdout",
     "output_type": "stream",
     "text": [
      "[ 1.          0.70245872  0.59538637  0.47791874  0.32807229  0.35578621\n",
      "  0.3032736   0.29112523  0.16037288  0.05995387 -0.03747485 -0.0771132\n",
      " -0.03678528]\n",
      "[25.69014966 44.53818865 56.94661044 62.9237424  70.11312834 75.4583658\n",
      " 80.50122265 82.06885514 82.29341942 82.38340677 82.77446378 82.86585671]\n",
      "75.45836579596163\n",
      "82.86585670768876\n",
      "[25.69014966 44.53818865 56.94661044 62.9237424  70.11312834 75.4583658\n",
      " 80.50122265 82.06885514 82.29341942 82.38340677 82.77446378 82.86585671]\n",
      "75.45836579596163\n",
      "82.86585670768876\n",
      "[4.00867958e-07 2.13135218e-10 2.63821133e-12 7.04135919e-13\n",
      " 9.70715763e-14 3.08858940e-14 1.08858781e-14 1.87235044e-14\n",
      " 5.65371102e-14 1.70952786e-13 4.27987869e-13 1.16886977e-12]\n"
     ]
    },
    {
     "name": "stderr",
     "output_type": "stream",
     "text": [
      "/Users/shaohuasong/miniforge3/lib/python3.9/site-packages/statsmodels/stats/diagnostic.py:559: FutureWarning: The value returned will change to a single DataFrame after 0.12 is released.  Set return_df to True to use to return a DataFrame now.  Set return_df to False to silence this warning.\n",
      "  warnings.warn(msg, FutureWarning)\n"
     ]
    },
    {
     "data": {
      "image/png": "[encoded data removed]",
      "text/plain": [
       "<Figure size 432x288 with 2 Axes>"
      ]
     },
     "metadata": {
      "needs_background": "light"
     },
     "output_type": "display_data"
    }
   ],
   "source": [
    "dfname='data1.5'\n",
    "input=pd.read_csv('%s.csv'%dfname,header=None)\n",
    "input.iloc[:,0]=input.iloc[:,0].astype('float')\n",
    "input=input.values[:,0]\n",
    "\n",
    "Pk = caculatePk(input, 12, \"LB\")\n",
    "LB = caculateLB(Pk, input)\n",
    "print(Pk)\n",
    "print(LB)\n",
    "print((LB[5]))\n",
    "print((LB[11]))\n",
    "\n",
    "#statsmodels_lb_test\n",
    "lb, pvalue = acorr_ljungbox(input, 12)\n",
    "print(lb)\n",
    "print((lb[5]))\n",
    "print((lb[11]))\n",
    "print(pvalue)\n",
    "\n",
    "drawer(input, Pk)"
   ]
  },
  {
   "cell_type": "markdown",
   "id": "c61e50b2",
   "metadata": {},
   "source": [
    "2-2B相关计算"
   ]
  },
  {
   "cell_type": "code",
   "execution_count": null,
   "id": "17cbf50c",
   "metadata": {},
   "outputs": [],
   "source": [
    "dfname='table2.6'\n",
    "input=pd.read_csv('%s.csv'%dfname,header=None)\n",
    "input.iloc[:,0]=input.iloc[:,0].astype('float')\n",
    "input=input.values[:,0]\n",
    "\n",
    "Pk = caculatePk(input, 12, \"LB\")\n",
    "LB = caculateLB(Pk, input)\n",
    "print(Pk)\n",
    "print(LB)\n",
    "print((LB[5]))\n",
    "print((LB[11]))\n",
    "\n",
    "#statsmodels_lb_test\n",
    "lb, pvalue = acorr_ljungbox(input, 12)\n",
    "print(lb)\n",
    "print((lb[5]))\n",
    "print((lb[11]))\n",
    "print(pvalue)\n",
    "\n",
    "drawer(input, Pk)\n",
    "\n",
    "Yt = np.zeros(len(input)-1)\n",
    "for i in range(0, len(input)-1):\n",
    "    Yt[i] = input[i+1] - input[i]\n",
    "\n",
    "Pk = caculatePk(Yt, 12, \"LB\")\n",
    "LB = caculateLB(Pk, Yt)\n",
    "print(Pk)\n",
    "print(LB)\n",
    "print((LB[5]))\n",
    "print((LB[11]))\n",
    "\n",
    "#statsmodels_lb_test\n",
    "lb, pvalue = acorr_ljungbox(Yt, 12)\n",
    "print(lb)\n",
    "print((lb[5]))\n",
    "print((lb[11]))\n",
    "print(pvalue)\n",
    "\n",
    "drawer(Yt, Pk)"
   ]
  },
  {
   "cell_type": "markdown",
   "id": "c4a62074",
   "metadata": {},
   "source": [
    "2-2C相关计算"
   ]
  }
 ],
 "metadata": {
  "kernelspec": {
   "display_name": "Python 3 (ipykernel)",
   "language": "python",
   "name": "python3"
  },
  "language_info": {
   "codemirror_mode": {
    "name": "ipython",
    "version": 3
   },
   "file_extension": ".py",
   "mimetype": "text/x-python",
   "name": "python",
   "nbconvert_exporter": "python",
   "pygments_lexer": "ipython3",
   "version": "3.9.6"
  }
 },
 "nbformat": 4,
 "nbformat_minor": 5
}
