{
 "cells": [
  {
   "cell_type": "markdown",
   "metadata": {},
   "source": [
    "# 畫時序圖、延遲k自相關圖、延遲k偏自相關圖"
   ]
  },
  {
   "cell_type": "code",
   "execution_count": null,
   "metadata": {},
   "outputs": [],
   "source": [
    "import statsmodels.tsa.api as smt\n",
    "import pandas as pd\n",
    "import numpy as np\n",
    "import matplotlib.pyplot as plt"
   ]
  },
  {
   "cell_type": "markdown",
   "metadata": {},
   "source": [
    "### 利用statsmodels"
   ]
  },
  {
   "cell_type": "code",
   "execution_count": null,
   "metadata": {},
   "outputs": [],
   "source": [
    "def drawts(y,pname):\n",
    "    ##draw ax\n",
    "    fig = plt.figure(figsize=(10,8))\n",
    "    ts_ax=plt.subplot2grid((2,2),(0,0),colspan=2)\n",
    "    acf_ax=plt.subplot2grid((2,2),(1,0))\n",
    "    pacf_ax=plt.subplot2grid((2,2),(1,1))\n",
    "    ##draw plot\n",
    "    ts_ax.plot(y,'*-')\n",
    "    ts_ax.set_title('Time Series Analysis Plots')\n",
    "    smt.graphics.plot_acf(y,lags=None,ax=acf_ax,alpha=0.05) ##2sigma\n",
    "    smt.graphics.plot_pacf(y,lags=None,ax=pacf_ax,alpha=0.05)  ##2sigma\n",
    "    #plt.savefig('%s.jpg'%pname,dpi=256)\n",
    "    plt.show()\n",
    "    plt.close()"
   ]
  },
  {
   "cell_type": "markdown",
   "metadata": {},
   "source": [
    "### 自定義"
   ]
  },
  {
   "cell_type": "markdown",
   "metadata": {},
   "source": [
    "作業：\n",
    "在\n",
    "    ###YOUR CODE to calculate autocorrelation function\n",
    "    ###YOUR CODE to calculate autocorrelation function\n",
    "    ###YOUR CODE to calculate autocorrelation function\n",
    "    ###YOUR CODE to calculate autocorrelation function\n",
    "    ###YOUR CODE to calculate autocorrelation function\n",
    "和\n",
    "    ###YOUR CODE to calculate 2 sigma\n",
    "    ###YOUR CODE to calculate 2 sigma\n",
    "    ###YOUR CODE to calculate 2 sigma\n",
    "    ###YOUR CODE to calculate 2 sigma\n",
    "    ###YOUR CODE to calculate 2 sigma\n",
    "填寫相應代碼來計算延遲k自相關系數和2倍標准差\n",
    "\n",
    "並將myname='KONGHOIIO'修改為你的姓名"
   ]
  },
  {
   "cell_type": "code",
   "execution_count": null,
   "metadata": {},
   "outputs": [],
   "source": [
    "def mydrawts(y,pname):\n",
    "    myname='SHAO_HUASONG'\n",
    "    ##draw ax\n",
    "    fig = plt.figure(figsize=(10,8))\n",
    "    ts_ax=plt.subplot2grid((2,2),(0,0),colspan=2)\n",
    "    acf_ax=plt.subplot2grid((2,2),(1,0))\n",
    "    pacf_ax=plt.subplot2grid((2,2),(1,1))\n",
    "    ##draw plot\n",
    "    ts_ax.plot(y,'*-')\n",
    "    ts_ax.set_title('Time Series Analysis Plots(custom %s)'%myname)\n",
    "    \n",
    "    ##calclate acf    \n",
    "    myacf=np.ones((17))\n",
    "    N = len(y)\n",
    "    u = y.mean()\n",
    "    for k in range(0 , 17):\n",
    "        upsum = 0\n",
    "        downsum = 0\n",
    "        for i in range (0 , N-k):\n",
    "            upsum += (y[i] - u) * (y[i + k] - u)\n",
    "        for i in range (0 , N):\n",
    "            downsum += (y[i] - u) ** 2\n",
    "        #print((upsum / downsum))\n",
    "        myacf[k] = (upsum / downsum)\n",
    "    \n",
    "    twosigma = np.ones((17))\n",
    "    #sum = 0\n",
    "    n = len(y)\n",
    "    twosigma[0] = ((1 / n) ** 0.5)\n",
    "    for i in range(1 , 17):\n",
    "        sum = 0\n",
    "        for j in range(0 , i):\n",
    "            sum += myacf[j] ** 2\n",
    "        twosigma[i] = (((1 / n) * (1 + 2 * sum)) ** 0.5)\n",
    "        #sum = 0\n",
    "    \n",
    "    acf_ax.bar(range(len(myacf)),myacf)\n",
    "    acf_ax.fill_between(range(len(myacf)),-1*twosigma,twosigma,color='lightblue')\n",
    "    \n",
    "    #plt.savefig('%s.jpg'%pname,dpi=256)\n",
    "    plt.show()\n",
    "    plt.close()"
   ]
  },
  {
   "cell_type": "code",
   "execution_count": null,
   "metadata": {
    "scrolled": false
   },
   "outputs": [],
   "source": [
    "##read data\n",
    "dfname='附录1.2'\n",
    "y=pd.read_csv('%s.csv'%dfname,header=None)\n",
    "y.iloc[:,0]=y.iloc[:,0].astype('float')\n",
    "y=y.values[:,0]\n",
    "drawts(y,dfname)\n",
    "mydrawts(y,dfname)"
   ]
  },
  {
   "cell_type": "code",
   "execution_count": null,
   "metadata": {},
   "outputs": [],
   "source": [
    "##read data\n",
    "dfname='附录1.3'\n",
    "y=pd.read_csv('%s.csv'%dfname,header=None)\n",
    "y.iloc[:,0]=y.iloc[:,0].astype('float')\n",
    "y=y.values[:,0]\n",
    "drawts(y,dfname)\n",
    "mydrawts(y,dfname)"
   ]
  },
  {
   "cell_type": "code",
   "execution_count": null,
   "metadata": {},
   "outputs": [],
   "source": [
    "##read data\n",
    "dfname='附录1.4'\n",
    "y=pd.read_csv('%s.csv'%dfname,header=None)\n",
    "y.iloc[:,0]=y.iloc[:,0].astype('float')\n",
    "y=y.values[:,0]\n",
    "drawts(y,dfname)\n",
    "mydrawts(y,dfname)"
   ]
  },
  {
   "cell_type": "code",
   "execution_count": null,
   "metadata": {},
   "outputs": [],
   "source": []
  }
 ],
 "metadata": {
  "kernelspec": {
   "display_name": "Python 3 (ipykernel)",
   "language": "python",
   "name": "python3"
  },
  "language_info": {
   "codemirror_mode": {
    "name": "ipython",
    "version": 3
   },
   "file_extension": ".py",
   "mimetype": "text/x-python",
   "name": "python",
   "nbconvert_exporter": "python",
   "pygments_lexer": "ipython3",
   "version": "3.9.6"
  }
 },
 "nbformat": 4,
 "nbformat_minor": 4
}
