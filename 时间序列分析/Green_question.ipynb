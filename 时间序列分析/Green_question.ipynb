{
 "cells": [
  {
   "cell_type": "code",
   "execution_count": 1,
   "metadata": {},
   "outputs": [],
   "source": [
    "import numpy as np"
   ]
  },
  {
   "cell_type": "markdown",
   "metadata": {},
   "source": [
    "## Green函數\n",
    "\n",
    "$$ phi=[0,\\phi_1,...,\\phi_p] $$"
   ]
  },
  {
   "cell_type": "code",
   "execution_count": 2,
   "metadata": {},
   "outputs": [],
   "source": [
    "def getgi(phi,n=20):\n",
    "    gi=np.zeros((n))\n",
    "    gi[0]=1\n",
    "    \n",
    "    power = len(phi)-1\n",
    "    for j in range(1 , 20):\n",
    "        if(j <= power):\n",
    "            sum = 0\n",
    "            i = 1\n",
    "            while(i <= j):\n",
    "                sum = sum + phi[i] * gi[j-i]\n",
    "                i = i + 1\n",
    "            gi[j] = sum\n",
    "        else:\n",
    "            sum = 0\n",
    "            i = 1\n",
    "            while(i <= power):\n",
    "                sum = sum + phi[i] * gi[j-i]\n",
    "                i = i + 1\n",
    "            gi[j] = sum\n",
    "    \n",
    "    return gi"
   ]
  },
  {
   "cell_type": "markdown",
   "metadata": {},
   "source": [
    "## 均值"
   ]
  },
  {
   "cell_type": "code",
   "execution_count": 3,
   "metadata": {},
   "outputs": [],
   "source": [
    "def getmean(phi):\n",
    "    mean=phi[0]/(1-np.sum(phi[1:]))\n",
    "    print('mean=%f'%mean)\n",
    "    return mean"
   ]
  },
  {
   "cell_type": "markdown",
   "metadata": {},
   "source": [
    "## 方差"
   ]
  },
  {
   "cell_type": "code",
   "execution_count": 4,
   "metadata": {},
   "outputs": [],
   "source": [
    "def getvar(phi):\n",
    "    gi=getgi(phi)\n",
    "    var=np.sum(gi**2)\n",
    "    print('var=%fsigma^2_espilon'%var)\n",
    "    return(var)"
   ]
  },
  {
   "cell_type": "markdown",
   "metadata": {},
   "source": [
    "## 自協方差函數\n",
    "\n",
    "$$ \\gamma_k $$"
   ]
  },
  {
   "cell_type": "code",
   "execution_count": 5,
   "metadata": {},
   "outputs": [],
   "source": [
    "def getcov(phi,k=1):\n",
    "    gi=getgi(phi,50+k+1)\n",
    "    cov=np.sum(gi[:50]*gi[k:50+k])\n",
    "    print('cov=%fsigma^2_espilon'%cov)\n",
    "    return(cov)"
   ]
  },
  {
   "cell_type": "markdown",
   "metadata": {},
   "source": [
    "## 自相關系數\n",
    "\n",
    "$$ \\rho_k $$"
   ]
  },
  {
   "cell_type": "code",
   "execution_count": 6,
   "metadata": {},
   "outputs": [],
   "source": [
    "def getacf(phi,k=1):\n",
    "    gi=getgi(phi,50+k+1)\n",
    "    covk=np.sum(gi[:50]*gi[k:50+k])\n",
    "    cov0=np.sum(gi[:50]*gi[:50])\n",
    "    acf=covk/cov0\n",
    "    print('acf=%f'%acf)\n",
    "    return(acf)"
   ]
  },
  {
   "cell_type": "markdown",
   "metadata": {},
   "source": [
    "$$ x_t=0.8x_{t-1}-0.64x_{t-2}+\\varepsilon_t $$"
   ]
  },
  {
   "cell_type": "code",
   "execution_count": 7,
   "metadata": {},
   "outputs": [
    {
     "name": "stdout",
     "output_type": "stream",
     "text": [
      "Green: [ 1.00000000e+00  8.00000000e-01  1.11022302e-16 -5.12000000e-01\n",
      " -4.09600000e-01 -1.11022302e-16  2.62144000e-01  2.09715200e-01\n",
      "  1.11022302e-16 -1.34217728e-01 -1.07374182e-01 -6.93889390e-17\n",
      "  6.87194767e-02  5.49755814e-02  4.16333634e-17 -3.51843721e-02\n",
      " -2.81474977e-02 -2.42861287e-17  1.80143985e-02  1.44115188e-02]\n",
      "mean=0.000000\n",
      "var=2.222467sigma^2_espilon\n",
      "\n",
      "\n",
      "i=0\n",
      "cov=2.222467sigma^2_espilon\n",
      "acf=1.000000\n",
      "\n",
      "\n",
      "i=1\n",
      "cov=1.084130sigma^2_espilon\n",
      "acf=0.487805\n",
      "\n",
      "\n",
      "i=2\n",
      "cov=-0.554942sigma^2_espilon\n",
      "acf=-0.249696\n"
     ]
    }
   ],
   "source": [
    "phi=np.array([0,0.8,-0.64])\n",
    "\n",
    "mygi=getgi(phi)\n",
    "print('Green:',mygi)\n",
    "\n",
    "mymean=getmean(phi)\n",
    "#print('Mean:',mymean)\n",
    "\n",
    "myvar=getvar(phi)\n",
    "#print('Var:',myvar)\n",
    "\n",
    "for i in range(3):\n",
    "    print('\\n\\ni=%d'%i)\n",
    "    mycov=getcov(phi,i)\n",
    "    #print('autoCov:',mycov)\n",
    "\n",
    "    myacf=getacf(phi,i)\n",
    "    #print('ACF:',myacf)\n"
   ]
  }
 ],
 "metadata": {
  "kernelspec": {
   "display_name": "Python 3 (ipykernel)",
   "language": "python",
   "name": "python3"
  },
  "language_info": {
   "codemirror_mode": {
    "name": "ipython",
    "version": 3
   },
   "file_extension": ".py",
   "mimetype": "text/x-python",
   "name": "python",
   "nbconvert_exporter": "python",
   "pygments_lexer": "ipython3",
   "version": "3.9.6"
  }
 },
 "nbformat": 4,
 "nbformat_minor": 4
}
